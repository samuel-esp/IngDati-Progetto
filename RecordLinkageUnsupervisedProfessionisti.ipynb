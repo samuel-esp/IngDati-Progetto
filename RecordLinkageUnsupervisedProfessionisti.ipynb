{
 "cells": [
  {
   "cell_type": "markdown",
   "id": "2bffb07d",
   "metadata": {},
   "source": [
    "## Record Linkage Unsupervised Professionisti"
   ]
  },
  {
   "cell_type": "code",
   "execution_count": 1,
   "id": "4ca5ea5a",
   "metadata": {},
   "outputs": [],
   "source": [
    "!pip install recordlinkage --quiet\n",
    "!pip install sklearn --quiet"
   ]
  },
  {
   "cell_type": "code",
   "execution_count": 2,
   "id": "0f23d783",
   "metadata": {},
   "outputs": [],
   "source": [
    "import numpy as np \n",
    "import pandas as pd\n",
    "import sklearn\n",
    "import recordlinkage\n",
    "import warnings\n",
    "from recordlinkage.index import Full\n",
    "from sklearn.model_selection import train_test_split\n",
    "warnings.filterwarnings('ignore')"
   ]
  },
  {
   "cell_type": "code",
   "execution_count": 3,
   "id": "38fa6f36",
   "metadata": {},
   "outputs": [
    {
     "data": {
      "text/html": [
       "<div>\n",
       "<style scoped>\n",
       "    .dataframe tbody tr th:only-of-type {\n",
       "        vertical-align: middle;\n",
       "    }\n",
       "\n",
       "    .dataframe tbody tr th {\n",
       "        vertical-align: top;\n",
       "    }\n",
       "\n",
       "    .dataframe thead th {\n",
       "        text-align: right;\n",
       "    }\n",
       "</style>\n",
       "<table border=\"1\" class=\"dataframe\">\n",
       "  <thead>\n",
       "    <tr style=\"text-align: right;\">\n",
       "      <th></th>\n",
       "      <th>name</th>\n",
       "      <th>specialization</th>\n",
       "      <th>spokenLanguages</th>\n",
       "      <th>address</th>\n",
       "      <th>rating</th>\n",
       "      <th>yearsOfExperience</th>\n",
       "      <th>website</th>\n",
       "      <th>gender</th>\n",
       "      <th>price</th>\n",
       "      <th>telephone</th>\n",
       "      <th>email</th>\n",
       "      <th>id</th>\n",
       "    </tr>\n",
       "  </thead>\n",
       "  <tbody>\n",
       "    <tr>\n",
       "      <th>0</th>\n",
       "      <td>SUSAN ELLER</td>\n",
       "      <td>FAMILY NURSE PRACTITIONER</td>\n",
       "      <td>ENGLISH</td>\n",
       "      <td>8469 E MCDONALD DR SCOTTSDALE, AZ 85250</td>\n",
       "      <td>NaN</td>\n",
       "      <td>NaN</td>\n",
       "      <td>NaN</td>\n",
       "      <td>NaN</td>\n",
       "      <td>NaN</td>\n",
       "      <td>NaN</td>\n",
       "      <td>NaN</td>\n",
       "      <td>1</td>\n",
       "    </tr>\n",
       "    <tr>\n",
       "      <th>1</th>\n",
       "      <td>DR. ELLE ROSS</td>\n",
       "      <td>INTERNIST, PRIMARY CARE DOCTOR</td>\n",
       "      <td>ENGLISH</td>\n",
       "      <td>5421 W THUNDERBIRD RD GLENDALE, AZ 85306</td>\n",
       "      <td>NaN</td>\n",
       "      <td>NaN</td>\n",
       "      <td>NaN</td>\n",
       "      <td>NaN</td>\n",
       "      <td>NaN</td>\n",
       "      <td>NaN</td>\n",
       "      <td>NaN</td>\n",
       "      <td>2</td>\n",
       "    </tr>\n",
       "    <tr>\n",
       "      <th>2</th>\n",
       "      <td>JESSICA RASSAS</td>\n",
       "      <td>NURSE PRACTITIONER</td>\n",
       "      <td>ENGLISH</td>\n",
       "      <td>6730 EAST MCDOWELL ROAD SCOTTSDALE, AZ 85257</td>\n",
       "      <td>NaN</td>\n",
       "      <td>NaN</td>\n",
       "      <td>NaN</td>\n",
       "      <td>NaN</td>\n",
       "      <td>NaN</td>\n",
       "      <td>NaN</td>\n",
       "      <td>NaN</td>\n",
       "      <td>3</td>\n",
       "    </tr>\n",
       "    <tr>\n",
       "      <th>3</th>\n",
       "      <td>DR. RAUL MEDINA</td>\n",
       "      <td>FAMILY PHYSICIAN, PRIMARY CARE DOCTOR</td>\n",
       "      <td>ENGLISH</td>\n",
       "      <td>18435 N 19TH AVE PHOENIX, AZ 85023</td>\n",
       "      <td>NaN</td>\n",
       "      <td>NaN</td>\n",
       "      <td>NaN</td>\n",
       "      <td>NaN</td>\n",
       "      <td>NaN</td>\n",
       "      <td>NaN</td>\n",
       "      <td>NaN</td>\n",
       "      <td>4</td>\n",
       "    </tr>\n",
       "    <tr>\n",
       "      <th>4</th>\n",
       "      <td>KRISTINA MATTSON</td>\n",
       "      <td>NURSE PRACTITIONER, FAMILY NURSE PRACTITIONER</td>\n",
       "      <td>ENGLISH</td>\n",
       "      <td>3530 S VAL VISTA DR GILBERT, AZ 85297</td>\n",
       "      <td>NaN</td>\n",
       "      <td>NaN</td>\n",
       "      <td>NaN</td>\n",
       "      <td>NaN</td>\n",
       "      <td>NaN</td>\n",
       "      <td>NaN</td>\n",
       "      <td>NaN</td>\n",
       "      <td>5</td>\n",
       "    </tr>\n",
       "    <tr>\n",
       "      <th>5</th>\n",
       "      <td>DR. PARWIN SADAAT</td>\n",
       "      <td>FAMILY PHYSICIAN, PRIMARY CARE DOCTOR</td>\n",
       "      <td>ENGLISH</td>\n",
       "      <td>8469 E MCDONALD DR SCOTTSDALE, AZ 85250</td>\n",
       "      <td>NaN</td>\n",
       "      <td>NaN</td>\n",
       "      <td>NaN</td>\n",
       "      <td>NaN</td>\n",
       "      <td>NaN</td>\n",
       "      <td>NaN</td>\n",
       "      <td>NaN</td>\n",
       "      <td>6</td>\n",
       "    </tr>\n",
       "    <tr>\n",
       "      <th>6</th>\n",
       "      <td>DR. ANTHONY AGHENTA</td>\n",
       "      <td>INTERNIST, PRIMARY CARE DOCTOR</td>\n",
       "      <td>ENGLISH</td>\n",
       "      <td>1434 W ELLIOT RD GILBERT, AZ 85233</td>\n",
       "      <td>NaN</td>\n",
       "      <td>NaN</td>\n",
       "      <td>NaN</td>\n",
       "      <td>NaN</td>\n",
       "      <td>NaN</td>\n",
       "      <td>NaN</td>\n",
       "      <td>NaN</td>\n",
       "      <td>7</td>\n",
       "    </tr>\n",
       "    <tr>\n",
       "      <th>7</th>\n",
       "      <td>DEANNA WRIGHT</td>\n",
       "      <td>NURSE PRACTITIONER, FAMILY NURSE PRACTITIONER</td>\n",
       "      <td>ENGLISH</td>\n",
       "      <td>10210 NORTH 92ND ST SCOTTSDALE, AZ 85258</td>\n",
       "      <td>NaN</td>\n",
       "      <td>NaN</td>\n",
       "      <td>NaN</td>\n",
       "      <td>NaN</td>\n",
       "      <td>NaN</td>\n",
       "      <td>NaN</td>\n",
       "      <td>NaN</td>\n",
       "      <td>8</td>\n",
       "    </tr>\n",
       "    <tr>\n",
       "      <th>8</th>\n",
       "      <td>ALTA LANGDON</td>\n",
       "      <td>NURSE PRACTITIONER, ADULT PSYCHIATRIC &amp; MENTAL...</td>\n",
       "      <td>ENGLISH</td>\n",
       "      <td>14301 N 87TH ST SCOTTSDALE, AZ 85260</td>\n",
       "      <td>NaN</td>\n",
       "      <td>NaN</td>\n",
       "      <td>NaN</td>\n",
       "      <td>NaN</td>\n",
       "      <td>NaN</td>\n",
       "      <td>NaN</td>\n",
       "      <td>NaN</td>\n",
       "      <td>9</td>\n",
       "    </tr>\n",
       "    <tr>\n",
       "      <th>9</th>\n",
       "      <td>DR. BRUCE HERMAN</td>\n",
       "      <td>INTERNIST, PRIMARY CARE DOCTOR</td>\n",
       "      <td>ENGLISH</td>\n",
       "      <td>5620 W THUNDERBIRD RD GLENDALE, AZ 85306</td>\n",
       "      <td>NaN</td>\n",
       "      <td>NaN</td>\n",
       "      <td>NaN</td>\n",
       "      <td>NaN</td>\n",
       "      <td>NaN</td>\n",
       "      <td>NaN</td>\n",
       "      <td>NaN</td>\n",
       "      <td>10</td>\n",
       "    </tr>\n",
       "  </tbody>\n",
       "</table>\n",
       "</div>"
      ],
      "text/plain": [
       "                  name                                     specialization  \\\n",
       "0          SUSAN ELLER                          FAMILY NURSE PRACTITIONER   \n",
       "1        DR. ELLE ROSS                     INTERNIST, PRIMARY CARE DOCTOR   \n",
       "2       JESSICA RASSAS                                 NURSE PRACTITIONER   \n",
       "3      DR. RAUL MEDINA              FAMILY PHYSICIAN, PRIMARY CARE DOCTOR   \n",
       "4     KRISTINA MATTSON      NURSE PRACTITIONER, FAMILY NURSE PRACTITIONER   \n",
       "5    DR. PARWIN SADAAT              FAMILY PHYSICIAN, PRIMARY CARE DOCTOR   \n",
       "6  DR. ANTHONY AGHENTA                     INTERNIST, PRIMARY CARE DOCTOR   \n",
       "7        DEANNA WRIGHT      NURSE PRACTITIONER, FAMILY NURSE PRACTITIONER   \n",
       "8         ALTA LANGDON  NURSE PRACTITIONER, ADULT PSYCHIATRIC & MENTAL...   \n",
       "9     DR. BRUCE HERMAN                     INTERNIST, PRIMARY CARE DOCTOR   \n",
       "\n",
       "  spokenLanguages                                        address  rating  \\\n",
       "0         ENGLISH       8469 E MCDONALD DR SCOTTSDALE, AZ 85250      NaN   \n",
       "1         ENGLISH      5421 W THUNDERBIRD RD GLENDALE, AZ 85306      NaN   \n",
       "2         ENGLISH  6730 EAST MCDOWELL ROAD SCOTTSDALE, AZ 85257      NaN   \n",
       "3         ENGLISH            18435 N 19TH AVE PHOENIX, AZ 85023      NaN   \n",
       "4         ENGLISH         3530 S VAL VISTA DR GILBERT, AZ 85297      NaN   \n",
       "5         ENGLISH       8469 E MCDONALD DR SCOTTSDALE, AZ 85250      NaN   \n",
       "6         ENGLISH            1434 W ELLIOT RD GILBERT, AZ 85233      NaN   \n",
       "7         ENGLISH      10210 NORTH 92ND ST SCOTTSDALE, AZ 85258      NaN   \n",
       "8         ENGLISH          14301 N 87TH ST SCOTTSDALE, AZ 85260      NaN   \n",
       "9         ENGLISH      5620 W THUNDERBIRD RD GLENDALE, AZ 85306      NaN   \n",
       "\n",
       "   yearsOfExperience website gender  price telephone email  id  \n",
       "0                NaN     NaN    NaN    NaN       NaN   NaN   1  \n",
       "1                NaN     NaN    NaN    NaN       NaN   NaN   2  \n",
       "2                NaN     NaN    NaN    NaN       NaN   NaN   3  \n",
       "3                NaN     NaN    NaN    NaN       NaN   NaN   4  \n",
       "4                NaN     NaN    NaN    NaN       NaN   NaN   5  \n",
       "5                NaN     NaN    NaN    NaN       NaN   NaN   6  \n",
       "6                NaN     NaN    NaN    NaN       NaN   NaN   7  \n",
       "7                NaN     NaN    NaN    NaN       NaN   NaN   8  \n",
       "8                NaN     NaN    NaN    NaN       NaN   NaN   9  \n",
       "9                NaN     NaN    NaN    NaN       NaN   NaN  10  "
      ]
     },
     "execution_count": 3,
     "metadata": {},
     "output_type": "execute_result"
    }
   ],
   "source": [
    "professionisti = pd.read_csv(\"alignedSchemas/professionistiAligned.csv\")\n",
    "professionisti = professionisti.drop('Unnamed: 0', 1)\n",
    "professionisti.head(10)"
   ]
  },
  {
   "cell_type": "code",
   "execution_count": 4,
   "id": "dc0368d0",
   "metadata": {},
   "outputs": [],
   "source": [
    "indexer = recordlinkage.Index()\n",
    "indexer.block('name')\n",
    "pairs = indexer.index(professionisti, professionisti)"
   ]
  },
  {
   "cell_type": "code",
   "execution_count": 5,
   "id": "0d0d48b1",
   "metadata": {},
   "outputs": [
    {
     "name": "stdout",
     "output_type": "stream",
     "text": [
      "235803\n"
     ]
    }
   ],
   "source": [
    "print(len(pairs))"
   ]
  },
  {
   "cell_type": "code",
   "execution_count": 6,
   "id": "cec274b3",
   "metadata": {},
   "outputs": [],
   "source": [
    "train_pairs = pairs[:12000]\n",
    "test_pairs = pairs[12000:]"
   ]
  },
  {
   "cell_type": "markdown",
   "id": "2017fc2d",
   "metadata": {},
   "source": [
    "## Training Unsupervised"
   ]
  },
  {
   "cell_type": "code",
   "execution_count": 7,
   "id": "b4b45a57",
   "metadata": {},
   "outputs": [],
   "source": [
    "compare = recordlinkage.Compare()\n",
    "\n",
    "compare.string('name', 'name', method='jarowinkler', label=\"name\", threshold=0.80)\n",
    "compare.string('specialization', 'specialization', method='levenshtein', label=\"specialization\", threshold=0.80)\n",
    "compare.exact('id', 'id', label=\"id\")\n",
    "compare.string('address', 'address', method='levenshtein', label=\"address\", threshold=0.85)\n",
    "compare.string('website', 'website', method='levenshtein', label=\"website\", threshold=0.95)\n",
    "compare.string('telephone', 'telephone', method='levenshtein', label=\"telephone\", threshold=0.90)\n",
    "compare.string('email', 'email', method='levenshtein', label=\"email\", threshold=0.90)\n",
    "\n",
    "training_features = compare.compute(train_pairs, professionisti, professionisti)\n",
    "#training_features['score'] = training_features.loc[:, 'name':'email'].sum(axis=1)"
   ]
  },
  {
   "cell_type": "code",
   "execution_count": 8,
   "id": "6ab45d8a",
   "metadata": {},
   "outputs": [
    {
     "data": {
      "text/html": [
       "<div>\n",
       "<style scoped>\n",
       "    .dataframe tbody tr th:only-of-type {\n",
       "        vertical-align: middle;\n",
       "    }\n",
       "\n",
       "    .dataframe tbody tr th {\n",
       "        vertical-align: top;\n",
       "    }\n",
       "\n",
       "    .dataframe thead th {\n",
       "        text-align: right;\n",
       "    }\n",
       "</style>\n",
       "<table border=\"1\" class=\"dataframe\">\n",
       "  <thead>\n",
       "    <tr style=\"text-align: right;\">\n",
       "      <th></th>\n",
       "      <th>level_0</th>\n",
       "      <th>level_1</th>\n",
       "    </tr>\n",
       "  </thead>\n",
       "  <tbody>\n",
       "    <tr>\n",
       "      <th>0</th>\n",
       "      <td>0</td>\n",
       "      <td>0</td>\n",
       "    </tr>\n",
       "    <tr>\n",
       "      <th>1</th>\n",
       "      <td>37</td>\n",
       "      <td>37</td>\n",
       "    </tr>\n",
       "    <tr>\n",
       "      <th>2</th>\n",
       "      <td>1</td>\n",
       "      <td>1</td>\n",
       "    </tr>\n",
       "    <tr>\n",
       "      <th>3</th>\n",
       "      <td>2</td>\n",
       "      <td>2</td>\n",
       "    </tr>\n",
       "    <tr>\n",
       "      <th>4</th>\n",
       "      <td>3</td>\n",
       "      <td>3</td>\n",
       "    </tr>\n",
       "  </tbody>\n",
       "</table>\n",
       "</div>"
      ],
      "text/plain": [
       "   level_0  level_1\n",
       "0        0        0\n",
       "1       37       37\n",
       "2        1        1\n",
       "3        2        2\n",
       "4        3        3"
      ]
     },
     "execution_count": 8,
     "metadata": {},
     "output_type": "execute_result"
    }
   ],
   "source": [
    "training_matches = training_features[training_features.sum(axis=1) > 3].reset_index()\n",
    "training_matches['score'] = training_matches.loc[:, 'name':'email'].sum(axis=1)\n",
    "toDrop = ['name', 'specialization', 'address', 'address', 'website', 'telephone', 'email', 'score', 'id']\n",
    "training_matches = training_matches.drop(toDrop, axis=1)\n",
    "training_matches.head()"
   ]
  },
  {
   "cell_type": "code",
   "execution_count": 9,
   "id": "443462a0",
   "metadata": {},
   "outputs": [],
   "source": [
    "training_matches = pd.MultiIndex.from_frame(training_matches) #matches conversion"
   ]
  },
  {
   "cell_type": "code",
   "execution_count": 10,
   "id": "bcfb78a2",
   "metadata": {},
   "outputs": [
    {
     "data": {
      "text/html": [
       "<div>\n",
       "<style scoped>\n",
       "    .dataframe tbody tr th:only-of-type {\n",
       "        vertical-align: middle;\n",
       "    }\n",
       "\n",
       "    .dataframe tbody tr th {\n",
       "        vertical-align: top;\n",
       "    }\n",
       "\n",
       "    .dataframe thead th {\n",
       "        text-align: right;\n",
       "    }\n",
       "</style>\n",
       "<table border=\"1\" class=\"dataframe\">\n",
       "  <thead>\n",
       "    <tr style=\"text-align: right;\">\n",
       "      <th></th>\n",
       "      <th></th>\n",
       "      <th>name</th>\n",
       "      <th>specialization</th>\n",
       "      <th>id</th>\n",
       "      <th>address</th>\n",
       "      <th>website</th>\n",
       "      <th>telephone</th>\n",
       "      <th>email</th>\n",
       "    </tr>\n",
       "  </thead>\n",
       "  <tbody>\n",
       "    <tr>\n",
       "      <th rowspan=\"2\" valign=\"top\">0</th>\n",
       "      <th>0</th>\n",
       "      <td>1.0</td>\n",
       "      <td>1.0</td>\n",
       "      <td>1</td>\n",
       "      <td>1.0</td>\n",
       "      <td>0.0</td>\n",
       "      <td>0.0</td>\n",
       "      <td>0.0</td>\n",
       "    </tr>\n",
       "    <tr>\n",
       "      <th>37</th>\n",
       "      <td>1.0</td>\n",
       "      <td>1.0</td>\n",
       "      <td>0</td>\n",
       "      <td>1.0</td>\n",
       "      <td>0.0</td>\n",
       "      <td>0.0</td>\n",
       "      <td>0.0</td>\n",
       "    </tr>\n",
       "    <tr>\n",
       "      <th rowspan=\"2\" valign=\"top\">37</th>\n",
       "      <th>0</th>\n",
       "      <td>1.0</td>\n",
       "      <td>1.0</td>\n",
       "      <td>0</td>\n",
       "      <td>1.0</td>\n",
       "      <td>0.0</td>\n",
       "      <td>0.0</td>\n",
       "      <td>0.0</td>\n",
       "    </tr>\n",
       "    <tr>\n",
       "      <th>37</th>\n",
       "      <td>1.0</td>\n",
       "      <td>1.0</td>\n",
       "      <td>1</td>\n",
       "      <td>1.0</td>\n",
       "      <td>0.0</td>\n",
       "      <td>0.0</td>\n",
       "      <td>0.0</td>\n",
       "    </tr>\n",
       "    <tr>\n",
       "      <th>1</th>\n",
       "      <th>1</th>\n",
       "      <td>1.0</td>\n",
       "      <td>1.0</td>\n",
       "      <td>1</td>\n",
       "      <td>1.0</td>\n",
       "      <td>0.0</td>\n",
       "      <td>0.0</td>\n",
       "      <td>0.0</td>\n",
       "    </tr>\n",
       "  </tbody>\n",
       "</table>\n",
       "</div>"
      ],
      "text/plain": [
       "       name  specialization  id  address  website  telephone  email\n",
       "0  0    1.0             1.0   1      1.0      0.0        0.0    0.0\n",
       "   37   1.0             1.0   0      1.0      0.0        0.0    0.0\n",
       "37 0    1.0             1.0   0      1.0      0.0        0.0    0.0\n",
       "   37   1.0             1.0   1      1.0      0.0        0.0    0.0\n",
       "1  1    1.0             1.0   1      1.0      0.0        0.0    0.0"
      ]
     },
     "execution_count": 10,
     "metadata": {},
     "output_type": "execute_result"
    }
   ],
   "source": [
    "training_features.head()"
   ]
  },
  {
   "cell_type": "code",
   "execution_count": 11,
   "id": "b83aef11",
   "metadata": {},
   "outputs": [
    {
     "data": {
      "text/plain": [
       "12000"
      ]
     },
     "execution_count": 11,
     "metadata": {},
     "output_type": "execute_result"
    }
   ],
   "source": [
    "len(training_features)"
   ]
  },
  {
   "cell_type": "code",
   "execution_count": 12,
   "id": "d7a7a44f",
   "metadata": {},
   "outputs": [
    {
     "data": {
      "text/plain": [
       "5985"
      ]
     },
     "execution_count": 12,
     "metadata": {},
     "output_type": "execute_result"
    }
   ],
   "source": [
    "len(training_matches)"
   ]
  },
  {
   "cell_type": "markdown",
   "id": "55cd8ffb",
   "metadata": {},
   "source": [
    "#### Classifier"
   ]
  },
  {
   "cell_type": "code",
   "execution_count": 13,
   "id": "120b4a1f",
   "metadata": {},
   "outputs": [],
   "source": [
    "classifier = recordlinkage.KMeansClassifier()\n",
    "classifier.fit(training_features, training_matches)"
   ]
  },
  {
   "cell_type": "markdown",
   "id": "cc077820",
   "metadata": {},
   "source": [
    "## Testing And Evaluation "
   ]
  },
  {
   "cell_type": "code",
   "execution_count": null,
   "id": "8d56b03e",
   "metadata": {},
   "outputs": [],
   "source": [
    "compare = recordlinkage.Compare()\n",
    "\n",
    "compare.string('name', 'name', method='jarowinkler', label=\"name\", threshold=0.80)\n",
    "compare.string('specialization', 'specialization', method='levenshtein', label=\"specialization\", threshold=0.80)\n",
    "compare.exact('id', 'id', label=\"id\")\n",
    "compare.string('address', 'address', method='levenshtein', label=\"address\", threshold=0.85)\n",
    "compare.string('website', 'website', method='levenshtein', label=\"website\", threshold=0.95)\n",
    "compare.string('telephone', 'telephone', method='levenshtein', label=\"telephone\", threshold=0.90)\n",
    "compare.string('email', 'email', method='levenshtein', label=\"email\", threshold=0.90)\n",
    "\n",
    "test_features = compare.compute(test_pairs, professionisti, professionisti)\n",
    "#test_features['score'] = test_features.loc[:, 'name':'email'].sum(axis=1)"
   ]
  },
  {
   "cell_type": "code",
   "execution_count": null,
   "id": "d323fe8b",
   "metadata": {},
   "outputs": [],
   "source": [
    "test_matches = test_features[test_features.sum(axis=1) > 3].reset_index()\n",
    "test_matches['score'] = test_matches.loc[:, 'name':'email'].sum(axis=1)\n",
    "toDrop = ['name', 'specialization', 'address', 'address', 'website', 'telephone', 'email', 'score', 'id']\n",
    "test_matches = test_matches.drop(toDrop, axis=1)\n",
    "test_matches.head()"
   ]
  },
  {
   "cell_type": "code",
   "execution_count": null,
   "id": "944da5ef",
   "metadata": {},
   "outputs": [],
   "source": [
    "test_matches = pd.MultiIndex.from_frame(test_matches) #matches conversion"
   ]
  },
  {
   "cell_type": "code",
   "execution_count": null,
   "id": "eee5a876",
   "metadata": {},
   "outputs": [],
   "source": [
    "predictions = classifier.predict(test_features)"
   ]
  },
  {
   "cell_type": "code",
   "execution_count": null,
   "id": "92c4404c",
   "metadata": {},
   "outputs": [],
   "source": [
    "print(len(test_features))"
   ]
  },
  {
   "cell_type": "code",
   "execution_count": null,
   "id": "51726d78",
   "metadata": {},
   "outputs": [],
   "source": [
    "print(len(test_matches))"
   ]
  },
  {
   "cell_type": "code",
   "execution_count": null,
   "id": "38917ab4",
   "metadata": {},
   "outputs": [],
   "source": [
    "# return the confusion matrix\n",
    "confusion_matrix = recordlinkage.confusion_matrix(test_matches, predictions, len(test_features))\n",
    "print('confusion matrix')\n",
    "print(confusion_matrix)\n",
    "\n",
    "# compute the F-score for this classification\n",
    "fscore = recordlinkage.fscore(confusion_matrix)\n",
    "print('\\n\\nfscore', fscore)\n",
    "recall = recordlinkage.recall(test_matches, predictions)\n",
    "print('recall', recall)\n",
    "precision = recordlinkage.precision(test_matches, predictions)\n",
    "print('precision', precision)\n",
    "accuracy = recordlinkage.accuracy(test_matches, predictions, len(test_features))\n",
    "print('accuracy', accuracy)"
   ]
  },
  {
   "cell_type": "code",
   "execution_count": null,
   "id": "938d72ba",
   "metadata": {},
   "outputs": [],
   "source": []
  }
 ],
 "metadata": {
  "kernelspec": {
   "display_name": "Python 3",
   "language": "python",
   "name": "python3"
  },
  "language_info": {
   "codemirror_mode": {
    "name": "ipython",
    "version": 3
   },
   "file_extension": ".py",
   "mimetype": "text/x-python",
   "name": "python",
   "nbconvert_exporter": "python",
   "pygments_lexer": "ipython3",
   "version": "3.8.8"
  }
 },
 "nbformat": 4,
 "nbformat_minor": 5
}
