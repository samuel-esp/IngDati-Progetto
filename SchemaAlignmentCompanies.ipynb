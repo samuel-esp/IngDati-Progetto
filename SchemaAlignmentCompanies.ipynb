{
 "cells": [
  {
   "cell_type": "markdown",
   "id": "8ea3de45",
   "metadata": {},
   "source": [
    "# Schema Alignment"
   ]
  },
  {
   "cell_type": "code",
   "execution_count": null,
   "id": "04ad2a2e",
   "metadata": {},
   "outputs": [],
   "source": [
    "!pip install pandas\n",
    "!pip install pandas-profiling\n",
    "!pip install numpy"
   ]
  },
  {
   "cell_type": "markdown",
   "id": "32abcef9",
   "metadata": {},
   "source": [
    "## Phase 1: Dataset Manipulation"
   ]
  },
  {
   "cell_type": "code",
   "execution_count": null,
   "id": "033b34e4",
   "metadata": {},
   "outputs": [],
   "source": [
    "import pandas as pd\n",
    "import numpy as np"
   ]
  },
  {
   "cell_type": "markdown",
   "id": "d30bd94e",
   "metadata": {},
   "source": [
    "#### Funzioni Di Manipolazione"
   ]
  },
  {
   "cell_type": "code",
   "execution_count": null,
   "id": "1acf0750",
   "metadata": {},
   "outputs": [],
   "source": [
    "def employees_range(employees):\n",
    "    if (employees < 2):\n",
    "        return \"1\"\n",
    "    elif (employees >= 2 and employees <= 10):\n",
    "        return \"2 TO 10\"\n",
    "    elif (employees >= 11 and employees <= 50):\n",
    "        return \"11 TO 50\"\n",
    "    elif (employees >= 51 and employees <= 200):\n",
    "        return \"51 TO 200\"\n",
    "    elif (employees >= 201 and employees <= 500):\n",
    "        return \"201 TO 500\"\n",
    "    elif (employees >= 501 and employees <= 1000):\n",
    "        return \"501 TO 1,000\"\n",
    "    elif (employees >= 1001 and employees <= 5000):\n",
    "        return \"1,001 TO 5,000\"\n",
    "    elif (employees >= 5001 and employees <= 10000):\n",
    "        return \"5,001 TO 10,000\"\n",
    "    elif (employees > 10000):\n",
    "        return \"10,000+\"\n",
    "    elif (pd.isna(employees)):\n",
    "        return pd.NA"
   ]
  },
  {
   "cell_type": "code",
   "execution_count": null,
   "id": "f7bc7013",
   "metadata": {},
   "outputs": [],
   "source": [
    "def change_marketcap(marketcap):\n",
    "    if 'T' in marketcap:\n",
    "        marketcap = marketcap.replace('.', '')\n",
    "        return marketcap.replace('T', '')\n",
    "    else:\n",
    "        return marketcap.replace('B', '')"
   ]
  },
  {
   "cell_type": "code",
   "execution_count": null,
   "id": "a230fbfd",
   "metadata": {},
   "outputs": [],
   "source": [
    "def change_marketcap_low(marketcap):\n",
    "    if 't' in marketcap:\n",
    "        marketcap = marketcap.replace('.', '')\n",
    "        return marketcap.replace('t', '')\n",
    "    else:\n",
    "        return marketcap.replace('b', '')"
   ]
  },
  {
   "cell_type": "markdown",
   "id": "846f624b",
   "metadata": {},
   "source": [
    "### Dataset Scarano Yahoo"
   ]
  },
  {
   "cell_type": "code",
   "execution_count": null,
   "id": "a77e2eb1",
   "metadata": {},
   "outputs": [],
   "source": [
    "scarano_yahoo = pd.read_csv(\"sources/aziende/Scarano-companies-finance.yahoo.com-1.csv\")\n",
    "scarano_yahoo.tail(500)"
   ]
  },
  {
   "cell_type": "code",
   "execution_count": null,
   "id": "30d095d2",
   "metadata": {},
   "outputs": [],
   "source": [
    "scarano_yahoo.dtypes"
   ]
  },
  {
   "cell_type": "code",
   "execution_count": null,
   "id": "71efb21d",
   "metadata": {},
   "outputs": [],
   "source": [
    "scarano_yahoo.isnull().sum()"
   ]
  },
  {
   "cell_type": "code",
   "execution_count": null,
   "id": "539bc77c",
   "metadata": {},
   "outputs": [],
   "source": [
    "scarano_yahoo = scarano_yahoo.drop('Unnamed: 0', 1)\n",
    "scarano_yahoo = scarano_yahoo.drop('Unnamed: 0.1', 1)\n",
    "scarano_yahoo = scarano_yahoo.drop('type', 1)\n",
    "scarano_yahoo = scarano_yahoo.drop('source', 1)\n",
    "scarano_yahoo['employees']= scarano_yahoo.apply(lambda x: employees_range(x['employees']), axis=1)\n",
    "scarano_yahoo.head(10)"
   ]
  },
  {
   "cell_type": "markdown",
   "id": "7a07866a",
   "metadata": {},
   "source": [
    "### Dataset Scarano Investing"
   ]
  },
  {
   "cell_type": "code",
   "execution_count": null,
   "id": "d1faf4c4",
   "metadata": {},
   "outputs": [],
   "source": [
    "scarano_investing = pd.read_csv(\"sources/aziende/scarano_investing.csv\")\n",
    "scarano_investing.tail(500)"
   ]
  },
  {
   "cell_type": "code",
   "execution_count": null,
   "id": "fd6d5c8b",
   "metadata": {},
   "outputs": [],
   "source": [
    "scarano_investing.dtypes"
   ]
  },
  {
   "cell_type": "code",
   "execution_count": null,
   "id": "a4a81564",
   "metadata": {},
   "outputs": [],
   "source": [
    "scarano_investing.isnull().sum()"
   ]
  },
  {
   "cell_type": "code",
   "execution_count": null,
   "id": "813b2274",
   "metadata": {},
   "outputs": [],
   "source": [
    "scarano_investing = scarano_investing.drop('Unnamed: 0', 1)\n",
    "scarano_investing = scarano_investing.drop('Unnamed: 0.1', 1)\n",
    "scarano_investing = scarano_investing.drop('type', 1)\n",
    "scarano_investing = scarano_investing.drop('source', 1)\n",
    "scarano_investing['employees'] = scarano_investing['employees'].replace('-', np.nan)\n",
    "scarano_investing['employees'] = scarano_investing['employees'].replace('NaN', np.nan)\n",
    "scarano_investing['employees'] = scarano_investing['employees'].astype('float').astype('Int64')\n",
    "scarano_investing['employees']= scarano_investing.apply(lambda x: pd.NA if pd.isna(x['employees']) else employees_range(x['employees']), axis=1)\n",
    "scarano_investing.head(10)"
   ]
  },
  {
   "cell_type": "markdown",
   "id": "87b67d3e",
   "metadata": {},
   "source": [
    "### Dataset AeA CompaniesMarket"
   ]
  },
  {
   "cell_type": "code",
   "execution_count": null,
   "id": "0279e7fd",
   "metadata": {},
   "outputs": [],
   "source": [
    "aeacm = pd.read_csv(\"sources/aziende/aea_companiesmarket.csv\")\n",
    "aeacm.head()"
   ]
  },
  {
   "cell_type": "code",
   "execution_count": null,
   "id": "59c9f3df",
   "metadata": {},
   "outputs": [],
   "source": [
    "aeacm.dtypes"
   ]
  },
  {
   "cell_type": "code",
   "execution_count": null,
   "id": "1d668cc2",
   "metadata": {},
   "outputs": [],
   "source": [
    "aeacm.isnull().sum()"
   ]
  },
  {
   "cell_type": "code",
   "execution_count": null,
   "id": "356f20e2",
   "metadata": {},
   "outputs": [],
   "source": [
    "aeacm = aeacm.astype(str).apply(lambda x: x.str.encode('ascii', 'ignore').str.decode('ascii'))\n",
    "aeacm.head(10)"
   ]
  },
  {
   "cell_type": "markdown",
   "id": "427bce2b",
   "metadata": {},
   "source": [
    "###### Togliamo Change (1 Year), Rank e Change (1 Day). Troppo difficile da generalizzare il ranking e i change potrebbero non essere aggiornati"
   ]
  },
  {
   "cell_type": "code",
   "execution_count": null,
   "id": "10a81002",
   "metadata": {},
   "outputs": [],
   "source": [
    "aeacm.rename(columns={'change (1 year)':'oneyear'}, inplace=True)\n",
    "aeacm.rename(columns={'change (1 day)':'oneday'}, inplace=True)\n",
    "aeacm = aeacm.drop('oneyear', 1)\n",
    "aeacm = aeacm.drop('rank', 1)\n",
    "aeacm = aeacm.drop('oneday', 1)\n"
   ]
  },
  {
   "cell_type": "code",
   "execution_count": null,
   "id": "e6c03380",
   "metadata": {},
   "outputs": [],
   "source": [
    "aeacm.rename(columns={'categories':'industry'}, inplace=True)\n",
    "aeacm.rename(columns={'share price':'shareprice'}, inplace=True)\n",
    "aeacm.rename(columns={'country':'headquarter'}, inplace=True)\n",
    "aeacm['shareprice'] = aeacm['shareprice'].str.replace('$', '')\n",
    "aeacm['shareprice'] = aeacm['shareprice'].replace(',','', regex=True)\n",
    "aeacm['marketcap'] = aeacm['marketcap'].astype('string')\n",
    "aeacm['marketcap'] = aeacm.apply(lambda x: change_marketcap_low(x['marketcap']), axis=1)\n",
    "aeacm['marketcap'] = aeacm['marketcap'].str.replace('$', '')\n",
    "aeacm['marketcap'] = aeacm['marketcap'].replace('N/A', pd.NA)\n",
    "aeacm['marketcap'] = aeacm['marketcap'].replace('n/a', pd.NA)\n",
    "aeacm['shareprice'] = aeacm['shareprice'].replace('N/A', pd.NA)\n",
    "aeacm['shareprice'] = aeacm['shareprice'].replace('n/a', pd.NA)\n",
    "aeacm.head()"
   ]
  },
  {
   "cell_type": "code",
   "execution_count": null,
   "id": "7d387d02",
   "metadata": {},
   "outputs": [],
   "source": [
    "aeacm.tail(300)"
   ]
  },
  {
   "cell_type": "markdown",
   "id": "f3551227",
   "metadata": {},
   "source": [
    "### Dataset AeA ValueToday"
   ]
  },
  {
   "cell_type": "code",
   "execution_count": null,
   "id": "83aa17a8",
   "metadata": {},
   "outputs": [],
   "source": [
    "aeavt = pd.read_csv(\"sources/aziende/aea_valuetoday.csv\")\n",
    "aeavt.head()"
   ]
  },
  {
   "cell_type": "code",
   "execution_count": null,
   "id": "20e5abfd",
   "metadata": {},
   "outputs": [],
   "source": [
    "aeavt.dtypes"
   ]
  },
  {
   "cell_type": "code",
   "execution_count": null,
   "id": "f4f9230b",
   "metadata": {},
   "outputs": [],
   "source": [
    "toDrop = ['rank in country (jan-2021)', 'employee count as on date', 'market value (jan-01-2021)', 'world rank (sep-01-2021)',\n",
    "         'world rank (jan-01-2021)', 'world rank (jan-2020)', 'stock category', 'about company business', 'business sector',\n",
    "         'isin code', 'chairman', 'annual results for year ending', 'company website', 'stock exchange', 'market value (jan 1st 2020)', 'annual revenue in usd']\n",
    "aeavt = aeavt.drop(toDrop, axis=1)\n",
    "aeavt.head()\n",
    "aeavt.rename(columns={'number of employees':'employees'}, inplace=True)\n",
    "aeavt.rename(columns={'company business':'industry'}, inplace=True)\n",
    "aeavt.rename(columns={'annual net income in usd':'revenue'}, inplace=True)\n",
    "aeavt.rename(columns={'headquarters country':'headquarter'}, inplace=True)\n",
    "aeavt.rename(columns={'market cap (sep-01-2021)':'marketcap'}, inplace=True)\n",
    "aeavt['employees'] = aeavt['employees'].str.replace(r'[^0-9]+', '')\n",
    "aeavt['employees'] = aeavt['employees'].replace('NaN', np.nan)\n",
    "aeavt['employees'] = aeavt['employees'].astype('float').astype('Int64')\n",
    "aeavt['employees']= aeavt.apply(lambda x: pd.NA if pd.isna(x['employees']) else employees_range(x['employees']), axis=1)\n",
    "aeavt['marketcap'] = aeavt['marketcap'].str.replace(r'[^\\d.]+', '')\n",
    "aeavt['revenue'] = aeavt['revenue'].str.replace(r',', '.')\n",
    "aeavt['revenue'] = aeavt['revenue'].str.replace(r'[^\\d.]+', '')\n",
    "aeavt.head()"
   ]
  },
  {
   "cell_type": "markdown",
   "id": "292ed33c",
   "metadata": {},
   "source": [
    "### Dataset HirsutePippo ValueToday"
   ]
  },
  {
   "cell_type": "code",
   "execution_count": null,
   "id": "6a15f211",
   "metadata": {},
   "outputs": [],
   "source": [
    "hpvalue = pd.read_csv(\"sources/aziende/hp_aziende_2.csv\")\n",
    "hpvalue.head(25)"
   ]
  },
  {
   "cell_type": "code",
   "execution_count": null,
   "id": "3c8df1eb",
   "metadata": {},
   "outputs": [],
   "source": [
    "hpvalue.dtypes"
   ]
  },
  {
   "cell_type": "code",
   "execution_count": null,
   "id": "89508c04",
   "metadata": {},
   "outputs": [],
   "source": [
    "hpvalue.isnull().sum()"
   ]
  },
  {
   "cell_type": "code",
   "execution_count": null,
   "id": "5d336129",
   "metadata": {},
   "outputs": [],
   "source": [
    "toDrop = ['World Rank (Sep-01-2021)', 'Annual Revenue in USD', 'Market Value (Jan-01-2021)', 'Stock Category',\n",
    "         'Company Website', 'Stock Exchange']\n",
    "hpvalue = hpvalue.drop(toDrop, axis=1)\n",
    "hpvalue.head()"
   ]
  },
  {
   "cell_type": "code",
   "execution_count": null,
   "id": "4d111a4d",
   "metadata": {},
   "outputs": [],
   "source": [
    "hpvalue.rename(columns={'Name':'name'}, inplace=True)\n",
    "hpvalue.rename(columns={'Annual Net Income in USD':'revenue'}, inplace=True)\n",
    "hpvalue.rename(columns={'Company Business':'industry'}, inplace=True)\n",
    "hpvalue.rename(columns={'Headquarters Country':'headquarter'}, inplace=True)\n",
    "hpvalue.rename(columns={'Number of Employees':'employees'}, inplace=True)\n",
    "hpvalue.rename(columns={'CEO':'ceo'}, inplace=True)\n",
    "hpvalue['employees'] = hpvalue['employees'].str.replace(r'[^0-9]+', '')\n",
    "hpvalue['employees'] = hpvalue['employees'].replace('NaN', np.nan)\n",
    "hpvalue['employees'] = hpvalue['employees'].astype('float').astype('Int64')\n",
    "hpvalue['employees']= hpvalue.apply(lambda x: pd.NA if pd.isna(x['employees']) else employees_range(x['employees']), axis=1)\n",
    "hpvalue['revenue'] = hpvalue['revenue'].str.replace(r',', '.')\n",
    "hpvalue['revenue'] = hpvalue['revenue'].str.replace(r'[^\\d.]+', '')\n",
    "hpvalue.head()"
   ]
  },
  {
   "cell_type": "markdown",
   "id": "26760c04",
   "metadata": {},
   "source": [
    "### Dataset HirsutePippo Horizon"
   ]
  },
  {
   "cell_type": "code",
   "execution_count": null,
   "id": "b4292382",
   "metadata": {},
   "outputs": [],
   "source": [
    "hphorizon = pd.read_csv(\"sources/aziende/hp_aziende.csv\")\n",
    "hphorizon.head(25)"
   ]
  },
  {
   "cell_type": "code",
   "execution_count": null,
   "id": "adf38481",
   "metadata": {},
   "outputs": [],
   "source": [
    "hphorizon.dtypes"
   ]
  },
  {
   "cell_type": "code",
   "execution_count": null,
   "id": "2e22684e",
   "metadata": {},
   "outputs": [],
   "source": [
    "hphorizon.isnull().sum()"
   ]
  },
  {
   "cell_type": "code",
   "execution_count": null,
   "id": "34de7efd",
   "metadata": {},
   "outputs": [],
   "source": [
    "toDrop = ['Type', 'Est. of Ownership', 'National ID', 'SIC Code']\n",
    "hphorizon = hphorizon.drop(toDrop, axis=1)\n",
    "hphorizon.head()"
   ]
  },
  {
   "cell_type": "code",
   "execution_count": null,
   "id": "9379d18f",
   "metadata": {},
   "outputs": [],
   "source": [
    "hphorizon.rename(columns={'Name':'name'}, inplace=True)\n",
    "hphorizon.rename(columns={'Address':'headquarter'}, inplace=True)\n",
    "hphorizon.rename(columns={'Industry':'industry'}, inplace=True)\n",
    "hphorizon.head()"
   ]
  },
  {
   "cell_type": "markdown",
   "id": "5934a369",
   "metadata": {},
   "source": [
    "### Dataset MMS FTEuropeansCompanies"
   ]
  },
  {
   "cell_type": "code",
   "execution_count": null,
   "id": "f2c80423",
   "metadata": {},
   "outputs": [],
   "source": [
    "path = 'sources/aziende/ftEuropeanCompanies2018.csv'\n",
    "\n",
    "with open(path, 'r', encoding='utf-8') as f:\n",
    "    mmsft = pd.read_csv(path, sep=';|\"', engine='python').dropna(how='all', axis=1)\n",
    "mmsft.tail(10)"
   ]
  },
  {
   "cell_type": "code",
   "execution_count": null,
   "id": "0aeff46a",
   "metadata": {},
   "outputs": [],
   "source": [
    "toDrop = ['founded']\n",
    "mmsft = mmsft.drop(toDrop, axis=1)"
   ]
  },
  {
   "cell_type": "code",
   "execution_count": null,
   "id": "b4055c3b",
   "metadata": {},
   "outputs": [],
   "source": [
    "mmsft.rename(columns={'company_name':'name'}, inplace=True)\n",
    "mmsft.rename(columns={'sector':'industry'}, inplace=True)\n",
    "mmsft.rename(columns={'country':'headquarter'}, inplace=True)\n",
    "mmsft.rename(columns={'revenue_euros':'revenue'}, inplace=True)\n",
    "mmsft['employees'] = mmsft['employees'].replace('NaN', np.nan)\n",
    "mmsft['employees'] = mmsft['employees'].astype('Int64')\n",
    "mmsft['employees']= mmsft.apply(lambda x: pd.NA if pd.isna(x['employees']) else employees_range(x['employees']), axis=1)\n",
    "mmsft['revenue'] = mmsft['revenue'].str.replace(r'M', '')\n",
    "mmsft.head()"
   ]
  },
  {
   "cell_type": "markdown",
   "id": "444b6edc",
   "metadata": {},
   "source": [
    "### Dataset MMS Iseg"
   ]
  },
  {
   "cell_type": "code",
   "execution_count": null,
   "id": "21b93c49",
   "metadata": {},
   "outputs": [],
   "source": [
    "path = 'sources/aziende/lsegEuropeanCompanies2018.csv'\n",
    "\n",
    "with open(path, 'r', encoding='utf-8') as f:\n",
    "    mmsiseg = pd.read_csv(path, sep=';|\"|\\t', engine='python',index_col = False).dropna(how='all', axis=1)\n",
    "mmsiseg.head(10)"
   ]
  },
  {
   "cell_type": "code",
   "execution_count": null,
   "id": "7979f3bd",
   "metadata": {},
   "outputs": [],
   "source": [
    "mmsiseg.rename(columns={'company_name':'name'}, inplace=True)\n",
    "mmsiseg.rename(columns={'sector':'industry'}, inplace=True)\n",
    "mmsiseg.rename(columns={'country':'headquarter'}, inplace=True)\n",
    "mmsiseg.rename(columns={'revenue_euros':'revenue'}, inplace=True)\n",
    "mmsiseg['revenue'] = mmsiseg['revenue'].str[0:4]\n",
    "mmsiseg['revenue'] = mmsiseg['revenue'].str.replace(r'[^\\d.]+', '')\n",
    "mmsiseg.head()"
   ]
  },
  {
   "cell_type": "code",
   "execution_count": null,
   "id": "8ce60692",
   "metadata": {},
   "outputs": [],
   "source": [
    "mmsiseg.tail(300)"
   ]
  },
  {
   "cell_type": "markdown",
   "id": "9157b970",
   "metadata": {},
   "source": [
    "### Zero8 Trustpilot"
   ]
  },
  {
   "cell_type": "code",
   "execution_count": null,
   "id": "47b0f253",
   "metadata": {},
   "outputs": [],
   "source": [
    "z8trustpilot = pd.read_json('sources/aziende/Zero8-trustpilot.com-v1.json', lines=True)\n",
    "z8trustpilot.head()"
   ]
  },
  {
   "cell_type": "code",
   "execution_count": null,
   "id": "4e6bc361",
   "metadata": {},
   "outputs": [],
   "source": [
    "z8trustpilot.info()"
   ]
  },
  {
   "cell_type": "code",
   "execution_count": null,
   "id": "fbb438ee",
   "metadata": {},
   "outputs": [],
   "source": [
    "z8trustpilot.dtypes"
   ]
  },
  {
   "cell_type": "code",
   "execution_count": null,
   "id": "fc1a2f1a",
   "metadata": {},
   "outputs": [],
   "source": [
    "z8trustpilot.isnull().sum()"
   ]
  },
  {
   "cell_type": "code",
   "execution_count": null,
   "id": "c21909fe",
   "metadata": {},
   "outputs": [],
   "source": [
    "toDrop = ['mail', 'info', 'phone', 'reviews_count', 'overall_rating', 'excellent', 'great', 'average', 'poor', 'bad']\n",
    "z8trustpilot = z8trustpilot.drop(toDrop, axis=1)"
   ]
  },
  {
   "cell_type": "code",
   "execution_count": null,
   "id": "4c58d3c4",
   "metadata": {},
   "outputs": [],
   "source": [
    "z8trustpilot.rename(columns={'address':'headquarter'}, inplace=True)\n",
    "z8trustpilot.head()"
   ]
  },
  {
   "cell_type": "markdown",
   "id": "bf431185",
   "metadata": {},
   "source": [
    "### Zero8 Valuetoday"
   ]
  },
  {
   "cell_type": "code",
   "execution_count": null,
   "id": "3724580a",
   "metadata": {},
   "outputs": [],
   "source": [
    "z8valuetoday = pd.read_json('sources/aziende/Zero8-value.today-v1.json', lines=True)\n",
    "z8valuetoday.head()"
   ]
  },
  {
   "cell_type": "code",
   "execution_count": null,
   "id": "8454a6eb",
   "metadata": {},
   "outputs": [],
   "source": [
    "toDrop = ['worldRank', 'founders', 'foundedYear', 'businessSector']\n",
    "z8valuetoday = z8valuetoday.drop(toDrop, axis=1)\n",
    "z8valuetoday.head()"
   ]
  },
  {
   "cell_type": "code",
   "execution_count": null,
   "id": "05aa25cd",
   "metadata": {},
   "outputs": [],
   "source": [
    "z8valuetoday.rename(columns={'companyName':'name'}, inplace=True)\n",
    "z8valuetoday.rename(columns={'marketValue':'marketcap'}, inplace=True)\n",
    "z8valuetoday.rename(columns={'annualRevenueUSD':'revenue'}, inplace=True)\n",
    "z8valuetoday.rename(columns={'headquartersCountry':'headquarter'}, inplace=True)\n",
    "z8valuetoday.rename(columns={'nEmployees':'employees'}, inplace=True)\n",
    "z8valuetoday.rename(columns={'CEO':'ceo'}, inplace=True)\n",
    "z8valuetoday['employees'] = z8valuetoday['employees'].str.replace(r'[^0-9]+', '')\n",
    "z8valuetoday['employees'] = z8valuetoday['employees'].replace('NaN', np.nan)\n",
    "z8valuetoday['employees'] = z8valuetoday['employees'].astype('float').astype('Int64')\n",
    "z8valuetoday['employees']= z8valuetoday.apply(lambda x: pd.NA if pd.isna(x['employees']) else employees_range(x['employees']), axis=1)\n",
    "z8valuetoday['marketcap'] = z8valuetoday['marketcap'].str.replace(r'[^\\d.]+', '')\n",
    "z8valuetoday['revenue'] = z8valuetoday['revenue'].str.replace(r',', '.')\n",
    "z8valuetoday['revenue'] = z8valuetoday['revenue'].str.replace(r'[^\\d.]+', '')\n",
    "z8valuetoday.head()"
   ]
  },
  {
   "cell_type": "code",
   "execution_count": null,
   "id": "b72eaccc",
   "metadata": {},
   "outputs": [],
   "source": [
    "z8valuetoday.dtypes"
   ]
  },
  {
   "cell_type": "markdown",
   "id": "c224315c",
   "metadata": {},
   "source": [
    "### PolloEPatatine ValueToday"
   ]
  },
  {
   "cell_type": "code",
   "execution_count": null,
   "id": "091057e7",
   "metadata": {},
   "outputs": [],
   "source": [
    "import json\n",
    "\n",
    "openfile=open('sources/aziende/polloepatatine-value.today-v1.json')\n",
    "jsondata=json.load(openfile)\n",
    "pepvalue=pd.DataFrame(jsondata)\n",
    "\n",
    "openfile.close()\n",
    "\n",
    "pepvalue.head()"
   ]
  },
  {
   "cell_type": "code",
   "execution_count": null,
   "id": "ab847209",
   "metadata": {},
   "outputs": [],
   "source": [
    "toDrop = ['rank', 'market value']\n",
    "pepvalue = pepvalue.drop(toDrop, axis=1)\n",
    "pepvalue.head()"
   ]
  },
  {
   "cell_type": "code",
   "execution_count": null,
   "id": "cd077a3a",
   "metadata": {},
   "outputs": [],
   "source": [
    "pepvalue.dtypes"
   ]
  },
  {
   "cell_type": "code",
   "execution_count": null,
   "id": "409782e6",
   "metadata": {},
   "outputs": [],
   "source": [
    "pepvalue.rename(columns={'business':'industry'}, inplace=True)\n",
    "pepvalue.rename(columns={'annual revenue':'revenue'}, inplace=True)\n",
    "pepvalue.rename(columns={'country':'headquarter'}, inplace=True)\n",
    "pepvalue['employees'] = pepvalue['employees'].str.replace(r'[^0-9]+', '')\n",
    "pepvalue['employees'] = pepvalue['employees'].replace('', np.nan)\n",
    "pepvalue['employees'] = pepvalue['employees'].replace('NaN', np.nan)\n",
    "pepvalue['employees'] = pepvalue['employees'].astype('float').astype('Int64')\n",
    "pepvalue['employees']= pepvalue.apply(lambda x: pd.NA if pd.isna(x['employees']) else employees_range(x['employees']), axis=1)\n",
    "pepvalue['marketcap'] = pepvalue['marketcap'].str.replace(r'[^\\d.]+', '')\n",
    "pepvalue['revenue'] = pepvalue['revenue'].str.replace(r',', '.')\n",
    "pepvalue['revenue'] = pepvalue['revenue'].str.replace(r'[^\\d.]+', '')\n",
    "pepvalue['revenue'] = pepvalue['revenue'].replace('', pd.NA)\n",
    "pepvalue['website'] = pepvalue['website'].replace('', pd.NA)\n",
    "pepvalue['headquarter'] = pepvalue['headquarter'].replace('', pd.NA)\n",
    "pepvalue.tail(300)"
   ]
  },
  {
   "cell_type": "code",
   "execution_count": null,
   "id": "19a42627",
   "metadata": {},
   "outputs": [],
   "source": [
    "pepvalue.head(300)"
   ]
  },
  {
   "cell_type": "markdown",
   "id": "f8a7e554",
   "metadata": {},
   "source": [
    "### PolloEPatatine CompaniesMarketCap"
   ]
  },
  {
   "cell_type": "code",
   "execution_count": null,
   "id": "48758cc3",
   "metadata": {},
   "outputs": [],
   "source": [
    "import json\n",
    "\n",
    "openfile=open('sources/aziende/polloepatatine-companiesmarketcap.com-1.json')\n",
    "jsondata=json.load(openfile)\n",
    "pepmarket=pd.DataFrame(jsondata)\n",
    "\n",
    "openfile.close()\n",
    "\n",
    "pepmarket.head()"
   ]
  },
  {
   "cell_type": "code",
   "execution_count": null,
   "id": "c78fc0d5",
   "metadata": {},
   "outputs": [],
   "source": [
    "toDrop = ['code', 'rank', 'change(1day)', 'change(1year)', 'competitor']\n",
    "pepmarket = pepmarket.drop(toDrop, axis=1)\n",
    "pepmarket.head()"
   ]
  },
  {
   "cell_type": "code",
   "execution_count": null,
   "id": "a5b5b959",
   "metadata": {},
   "outputs": [],
   "source": [
    "pepmarket.rename(columns={'business':'industry'}, inplace=True)\n",
    "pepmarket.rename(columns={'country':'headquarter'}, inplace=True)\n",
    "pepmarket.rename(columns={'sharePrice':'shareprice'}, inplace=True)\n",
    "pepmarket['shareprice'] = pepmarket['shareprice'].str.replace('$', '')\n",
    "pepmarket['shareprice'] = pepmarket['shareprice'].replace(',','', regex=True)\n",
    "pepmarket['marketcap'] = pepmarket['marketcap'].str.replace('$', '')\n",
    "pepmarket['marketcap'] = pepmarket['marketcap'].astype('string')\n",
    "pepmarket['marketcap'] = pepmarket.apply(lambda x: change_marketcap(x['marketcap']), axis=1)\n",
    "pepmarket['marketcap'] = pepmarket['marketcap'].replace('N/A', pd.NA)\n",
    "pepmarket['shareprice'] = pepmarket['shareprice'].replace('N/A', pd.NA)\n",
    "pepmarket.head()"
   ]
  },
  {
   "cell_type": "code",
   "execution_count": null,
   "id": "d6c2621d",
   "metadata": {},
   "outputs": [],
   "source": [
    "pepmarket.tail(300)"
   ]
  },
  {
   "cell_type": "markdown",
   "id": "425fed6d",
   "metadata": {},
   "source": [
    "### CrispyMcData KPopFandom"
   ]
  },
  {
   "cell_type": "code",
   "execution_count": null,
   "id": "b0325829",
   "metadata": {},
   "outputs": [],
   "source": [
    "kpopfandom = pd.read_csv(\"sources/aziende/kpopfandom-companies.csv\")\n",
    "kpopfandom.head(3)"
   ]
  },
  {
   "cell_type": "code",
   "execution_count": null,
   "id": "184b3ff8",
   "metadata": {},
   "outputs": [],
   "source": [
    "kpopfandom.dtypes"
   ]
  },
  {
   "cell_type": "code",
   "execution_count": null,
   "id": "07faa5cc",
   "metadata": {},
   "outputs": [],
   "source": [
    "kpopfandom.isnull().sum()"
   ]
  },
  {
   "cell_type": "code",
   "execution_count": null,
   "id": "52a3c9e4",
   "metadata": {},
   "outputs": [],
   "source": [
    "kpopfandom.info()"
   ]
  },
  {
   "cell_type": "code",
   "execution_count": null,
   "id": "5a70ec39",
   "metadata": {},
   "outputs": [],
   "source": [
    "toDrop = [\"type\", \"key_people\", \"active_group_links\",\"active_group_names\",\"distributor_links\",\"distributor_names\",\"former_group_links\",\"former_group_names\",\"founded\",\"founders\",\"hangul\",\"key_people_links\",\"link\",\"other_names\",\"parternship_links\",\"parternship_names\",\"socials\",\"soloist_links\",\"soloist_names\",\"subsidiary_links\",\"subsidiary_names\",\"websites\"]\n",
    "kpopfandom = kpopfandom.drop(toDrop, axis=1)\n",
    "kpopfandom.head()\n"
   ]
  },
  {
   "cell_type": "code",
   "execution_count": null,
   "id": "d2d83714",
   "metadata": {},
   "outputs": [],
   "source": [
    "kpopfandom.rename(columns={'locations':'headquarter'}, inplace=True)\n",
    "kpopfandom.head()"
   ]
  },
  {
   "cell_type": "markdown",
   "id": "18d7a5ae",
   "metadata": {},
   "source": [
    "### CrispyMcData KPoppingFandom"
   ]
  },
  {
   "cell_type": "code",
   "execution_count": null,
   "id": "d226d7fb",
   "metadata": {},
   "outputs": [],
   "source": [
    "kpopping = pd.read_csv(\"sources/aziende/kpopping-companies.csv\")\n",
    "kpopping.head(3)"
   ]
  },
  {
   "cell_type": "code",
   "execution_count": null,
   "id": "0f121abf",
   "metadata": {},
   "outputs": [],
   "source": [
    "kpopping.dtypes"
   ]
  },
  {
   "cell_type": "code",
   "execution_count": null,
   "id": "5f1b36b2",
   "metadata": {},
   "outputs": [],
   "source": [
    "kpopping.isnull().sum()"
   ]
  },
  {
   "cell_type": "code",
   "execution_count": null,
   "id": "00641c6d",
   "metadata": {},
   "outputs": [],
   "source": [
    "kpopping.info()"
   ]
  },
  {
   "cell_type": "code",
   "execution_count": null,
   "id": "e6af78eb",
   "metadata": {},
   "outputs": [],
   "source": [
    "toDrop = [\"link\", \"revenue\", \"active_artist_links\",\"active_artist_names\",\"active_artist_partnership_periods\",\"active_group_links\",\"active_group_names\",\"active_group_partnership_periods\",\"active_groups\",\"artists_count\",\"former_artist_links\",\"former_artist_names\",\"former_artist_partnership_periods\",\"former_group_links\",\"former_group_names\",\"former_group_partnership_periods\",\"former_groups\",\"founded\",\"founders\",\"groups_count\",\"introduction\",\"native_names\",\"parent_company\",\"parent_company_link\",\"subsidiary_links\",\"subsidiary_names\"]\n",
    "kpopping = kpopping.drop(toDrop, axis=1)\n",
    "kpopping.head()\n"
   ]
  },
  {
   "cell_type": "code",
   "execution_count": null,
   "id": "2840ed2f",
   "metadata": {},
   "outputs": [],
   "source": [
    "kpopping.rename(columns={'CEO':'ceo'}, inplace=True)\n",
    "kpopping.rename(columns={'hometown':'headquarter'}, inplace=True)\n",
    "kpopping.rename(columns={'socials':'website'}, inplace=True)\n",
    "kpopping['employees'] = kpopping['employees'].astype('Int64')\n",
    "kpopping['employees']= kpopping.apply(lambda x: pd.NA if pd.isna(x['employees']) else employees_range(x['employees']), axis=1)\n",
    "kpopping.head()"
   ]
  },
  {
   "cell_type": "markdown",
   "id": "f4c5b5be",
   "metadata": {},
   "source": [
    "### Querynator Indeed"
   ]
  },
  {
   "cell_type": "code",
   "execution_count": null,
   "id": "928715e2",
   "metadata": {},
   "outputs": [],
   "source": [
    "import json\n",
    "\n",
    "openfile=open('sources/aziende/indeed.json')\n",
    "jsondata=json.load(openfile)\n",
    "indeed=pd.DataFrame(jsondata)\n",
    "\n",
    "openfile.close()\n",
    "\n",
    "indeed.head()"
   ]
  },
  {
   "cell_type": "code",
   "execution_count": null,
   "id": "aefe479a",
   "metadata": {},
   "outputs": [],
   "source": [
    "toDrop = [\"id\", \"happinessScore\", \"reviewScore\", \"jobOffersCount\"]\n",
    "indeed = indeed.drop(toDrop, axis=1)\n",
    "indeed.head()"
   ]
  },
  {
   "cell_type": "code",
   "execution_count": null,
   "id": "886cd220",
   "metadata": {},
   "outputs": [],
   "source": [
    "indeed.rename(columns={'headquarters':'headquarter'}, inplace=True)\n",
    "indeed.rename(columns={'employeesSize':'employees'}, inplace=True)\n",
    "indeed.rename(columns={'industryType':'industry'}, inplace=True)\n",
    "indeed.rename(columns={'websiteList':'website'}, inplace=True)\n",
    "indeed.head()"
   ]
  },
  {
   "cell_type": "markdown",
   "id": "8977d598",
   "metadata": {},
   "source": [
    "### Querynator Yelp"
   ]
  },
  {
   "cell_type": "code",
   "execution_count": null,
   "id": "b8e9abbe",
   "metadata": {},
   "outputs": [],
   "source": [
    "import json\n",
    "\n",
    "openfile=open('sources/aziende/companies.json')\n",
    "jsondata=json.load(openfile)\n",
    "companies=pd.DataFrame(jsondata)\n",
    "\n",
    "openfile.close()\n",
    "\n",
    "companies.head()"
   ]
  },
  {
   "cell_type": "code",
   "execution_count": null,
   "id": "39493833",
   "metadata": {},
   "outputs": [],
   "source": [
    "toDrop = [\"id\", \"starsCount\", \"reviewsCount\", \"mobileNumber\", \"workingHours\"]\n",
    "companies = companies.drop(toDrop, axis=1)\n",
    "companies.head()"
   ]
  },
  {
   "cell_type": "code",
   "execution_count": null,
   "id": "63a3de53",
   "metadata": {},
   "outputs": [],
   "source": [
    "companies.rename(columns={'type':'industry'}, inplace=True)\n",
    "companies.rename(columns={'address':'headquarter'}, inplace=True)\n",
    "companies.head()"
   ]
  },
  {
   "cell_type": "markdown",
   "id": "5cb5ef6d",
   "metadata": {},
   "source": [
    "## Nasti Companies"
   ]
  },
  {
   "cell_type": "code",
   "execution_count": null,
   "id": "af47fc57",
   "metadata": {},
   "outputs": [],
   "source": [
    "import pandas as pd\n",
    "nasticompanies = pd.read_json(path_or_buf='sources/aziende/nasti_companies_clutch.jsonl', lines=True)\n",
    "nasticompanies.head()"
   ]
  },
  {
   "cell_type": "code",
   "execution_count": null,
   "id": "0164a3eb",
   "metadata": {},
   "outputs": [],
   "source": [
    "toDrop = [\"id\", \"headquarter\", \"business_entity\", \"payment_legal_filings\", \"client_reviews\", \"description\", \"rating\", \"min_project_size\", \"avg_hourly_rate\", \"founded\" ]\n",
    "nasticompanies = nasticompanies.drop(toDrop, axis=1)\n",
    "nasticompanies['employees'] = nasticompanies['employees'].str[0:2]\n",
    "nasticompanies['employees'] = nasticompanies['employees'].str.replace(r'[^\\d.]+', '')\n",
    "nasticompanies['employees'] = nasticompanies['employees'].replace('', np.nan)\n",
    "nasticompanies['employees'] = nasticompanies['employees'].astype('float').astype('Int64')\n",
    "nasticompanies['employees'] = nasticompanies['employees'].replace(np.nan, pd.NA)\n",
    "nasticompanies['employees']= nasticompanies.apply(lambda x: pd.NA if pd.isna(x['employees']) else employees_range(x['employees']), axis=1)\n",
    "\n"
   ]
  },
  {
   "cell_type": "code",
   "execution_count": null,
   "id": "b7fe7128",
   "metadata": {},
   "outputs": [],
   "source": [
    "nasticompanies.tail(50)"
   ]
  },
  {
   "cell_type": "markdown",
   "id": "72605b70",
   "metadata": {},
   "source": [
    "## Phase 2: Dataset Concatenation"
   ]
  },
  {
   "cell_type": "code",
   "execution_count": null,
   "id": "bc736c2f",
   "metadata": {},
   "outputs": [],
   "source": [
    "companies.info()"
   ]
  },
  {
   "cell_type": "code",
   "execution_count": null,
   "id": "d4cfd1d9",
   "metadata": {},
   "outputs": [],
   "source": [
    "indeed.info()"
   ]
  },
  {
   "cell_type": "code",
   "execution_count": null,
   "id": "b4479ed1",
   "metadata": {},
   "outputs": [],
   "source": []
  },
  {
   "cell_type": "code",
   "execution_count": null,
   "id": "f025116f",
   "metadata": {},
   "outputs": [],
   "source": [
    "dataset = [indeed, companies, scarano_yahoo, scarano_investing, aeavt, aeacm, hpvalue, hphorizon, mmsft, mmsiseg, z8trustpilot, z8valuetoday, pepvalue, pepmarket, kpopfandom, kpopping]\n",
    "\n",
    "for d in dataset:\n",
    "    d.info()"
   ]
  },
  {
   "cell_type": "code",
   "execution_count": null,
   "id": "e798929c",
   "metadata": {},
   "outputs": [],
   "source": [
    "result = pd.concat([indeed, companies, scarano_yahoo, scarano_investing, aeavt, aeacm, hpvalue, hphorizon, mmsft, mmsiseg, z8trustpilot, z8valuetoday, pepvalue, pepmarket, kpopfandom, kpopping], sort=False)\n",
    "result['employees'].replace('', pd.NA)\n",
    "result['headquarter'].replace('', pd.NA)\n",
    "result['industry'].replace('', pd.NA)\n",
    "result['name'].replace('', pd.NA)\n",
    "result['website'].replace('', pd.NA)\n",
    "result['ticker'].replace('', pd.NA)\n",
    "result['ceo'].replace('', pd.NA)\n",
    "result['revenue'].replace('', pd.NA)\n",
    "result['marketcap'].replace('', pd.NA)\n",
    "result['shareprice'].replace('', pd.NA)\n",
    "\n",
    "result['employees'].fillna(np.nan, inplace=True)\n",
    "result['headquarter'].fillna(np.nan, inplace=True)\n",
    "result['industry'].fillna(np.nan, inplace=True)\n",
    "result['name'].fillna(np.nan, inplace=True)\n",
    "result['website'].fillna(np.nan, inplace=True)\n",
    "result['ticker'].fillna(np.nan, inplace=True)\n",
    "result['ceo'].fillna(np.nan, inplace=True)\n",
    "result['revenue'].fillna(np.nan, inplace=True)\n",
    "result['marketcap'].fillna(np.nan, inplace=True)\n",
    "result['shareprice'].fillna(np.nan, inplace=True)\n",
    "result.rename(columns={'marketcap':'marketcap_M'}, inplace=True)\n",
    "result.rename(columns={'revenue':'revenue_M'}, inplace=True)"
   ]
  },
  {
   "cell_type": "code",
   "execution_count": null,
   "id": "d960c7b0",
   "metadata": {},
   "outputs": [],
   "source": [
    "for columns in result.columns:\n",
    "    result[columns] = result[columns].str.upper() \n",
    "result.tail(10000)\n",
    "\n"
   ]
  },
  {
   "cell_type": "code",
   "execution_count": null,
   "id": "e81d6b38",
   "metadata": {},
   "outputs": [],
   "source": [
    "result.info()"
   ]
  },
  {
   "cell_type": "code",
   "execution_count": null,
   "id": "fe7104df",
   "metadata": {},
   "outputs": [],
   "source": [
    "result.to_csv(\"alignedSchemas/companiesAligned.csv\")"
   ]
  },
  {
   "cell_type": "code",
   "execution_count": null,
   "id": "aa57ba06",
   "metadata": {},
   "outputs": [],
   "source": [
    "from pandas_profiling import ProfileReport "
   ]
  },
  {
   "cell_type": "code",
   "execution_count": null,
   "id": "824f9f5d",
   "metadata": {},
   "outputs": [],
   "source": [
    "#profile=ProfileReport(result)\n",
    "#profile.to_notebook_iframe()"
   ]
  }
 ],
 "metadata": {
  "kernelspec": {
   "display_name": "Python 3",
   "language": "python",
   "name": "python3"
  },
  "language_info": {
   "codemirror_mode": {
    "name": "ipython",
    "version": 3
   },
   "file_extension": ".py",
   "mimetype": "text/x-python",
   "name": "python",
   "nbconvert_exporter": "python",
   "pygments_lexer": "ipython3",
   "version": "3.8.8"
  }
 },
 "nbformat": 4,
 "nbformat_minor": 5
}
