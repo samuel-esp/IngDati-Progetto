{
 "cells": [
  {
   "cell_type": "markdown",
   "id": "f114a247",
   "metadata": {},
   "source": [
    "## Record Linkage Companies"
   ]
  },
  {
   "cell_type": "code",
   "execution_count": 1,
   "id": "58910cdf",
   "metadata": {},
   "outputs": [],
   "source": [
    "!pip install recordlinkage --quiet\n",
    "!pip install sklearn --quiet"
   ]
  },
  {
   "cell_type": "code",
   "execution_count": 2,
   "id": "5ead78a9",
   "metadata": {},
   "outputs": [],
   "source": [
    "import numpy as np \n",
    "import pandas as pd\n",
    "import sklearn\n",
    "import recordlinkage\n",
    "import warnings\n",
    "from recordlinkage.index import Full\n",
    "from sklearn.model_selection import train_test_split\n",
    "warnings.filterwarnings('ignore')"
   ]
  },
  {
   "cell_type": "code",
   "execution_count": 3,
   "id": "ff3b3f97",
   "metadata": {},
   "outputs": [
    {
     "data": {
      "text/html": [
       "<div>\n",
       "<style scoped>\n",
       "    .dataframe tbody tr th:only-of-type {\n",
       "        vertical-align: middle;\n",
       "    }\n",
       "\n",
       "    .dataframe tbody tr th {\n",
       "        vertical-align: top;\n",
       "    }\n",
       "\n",
       "    .dataframe thead th {\n",
       "        text-align: right;\n",
       "    }\n",
       "</style>\n",
       "<table border=\"1\" class=\"dataframe\">\n",
       "  <thead>\n",
       "    <tr style=\"text-align: right;\">\n",
       "      <th></th>\n",
       "      <th>name</th>\n",
       "      <th>headquarter</th>\n",
       "      <th>employees</th>\n",
       "      <th>industry</th>\n",
       "      <th>website</th>\n",
       "      <th>ticker</th>\n",
       "      <th>ceo</th>\n",
       "      <th>revenue_M</th>\n",
       "      <th>marketcap_M</th>\n",
       "      <th>shareprice</th>\n",
       "      <th>id</th>\n",
       "    </tr>\n",
       "  </thead>\n",
       "  <tbody>\n",
       "    <tr>\n",
       "      <th>0</th>\n",
       "      <td>GROUPON</td>\n",
       "      <td>600 W CHICAGO AVE SUITE 400 CHICAGO, IL 60616</td>\n",
       "      <td>1,001 TO 5,000</td>\n",
       "      <td>INFORMATION TECHNOLOGY</td>\n",
       "      <td>NaN</td>\n",
       "      <td>NaN</td>\n",
       "      <td>NaN</td>\n",
       "      <td>NaN</td>\n",
       "      <td>NaN</td>\n",
       "      <td>NaN</td>\n",
       "      <td>1</td>\n",
       "    </tr>\n",
       "    <tr>\n",
       "      <th>1</th>\n",
       "      <td>E-TECHNOLOGIES</td>\n",
       "      <td>AUCKLAND</td>\n",
       "      <td>2 TO 10</td>\n",
       "      <td>INFORMATION TECHNOLOGY</td>\n",
       "      <td>NaN</td>\n",
       "      <td>NaN</td>\n",
       "      <td>NaN</td>\n",
       "      <td>NaN</td>\n",
       "      <td>NaN</td>\n",
       "      <td>NaN</td>\n",
       "      <td>2</td>\n",
       "    </tr>\n",
       "    <tr>\n",
       "      <th>2</th>\n",
       "      <td>YAKSHNA SOLUTIONS</td>\n",
       "      <td>HERNDON, VA</td>\n",
       "      <td>11 TO 50</td>\n",
       "      <td>NaN</td>\n",
       "      <td>NaN</td>\n",
       "      <td>NaN</td>\n",
       "      <td>NaN</td>\n",
       "      <td>NaN</td>\n",
       "      <td>NaN</td>\n",
       "      <td>NaN</td>\n",
       "      <td>3</td>\n",
       "    </tr>\n",
       "    <tr>\n",
       "      <th>3</th>\n",
       "      <td>THRU TUBING SOLUTIONS</td>\n",
       "      <td>OKLAHOMA CITY</td>\n",
       "      <td>51 TO 200</td>\n",
       "      <td>ENERGY, MINING &amp; UTILITIES</td>\n",
       "      <td>NaN</td>\n",
       "      <td>NaN</td>\n",
       "      <td>NaN</td>\n",
       "      <td>NaN</td>\n",
       "      <td>NaN</td>\n",
       "      <td>NaN</td>\n",
       "      <td>4</td>\n",
       "    </tr>\n",
       "    <tr>\n",
       "      <th>4</th>\n",
       "      <td>CLEVELAND CLIFFS INC</td>\n",
       "      <td>CLEVELAND, OH</td>\n",
       "      <td>5,001 TO 10,000</td>\n",
       "      <td>PERSONAL CONSUMER SERVICES</td>\n",
       "      <td>NaN</td>\n",
       "      <td>NaN</td>\n",
       "      <td>NaN</td>\n",
       "      <td>NaN</td>\n",
       "      <td>NaN</td>\n",
       "      <td>NaN</td>\n",
       "      <td>5</td>\n",
       "    </tr>\n",
       "    <tr>\n",
       "      <th>5</th>\n",
       "      <td>SISU</td>\n",
       "      <td>LOS ANGELES</td>\n",
       "      <td>11 TO 50</td>\n",
       "      <td>RESTAURANTS &amp; CAFES</td>\n",
       "      <td>NaN</td>\n",
       "      <td>NaN</td>\n",
       "      <td>NaN</td>\n",
       "      <td>NaN</td>\n",
       "      <td>NaN</td>\n",
       "      <td>NaN</td>\n",
       "      <td>6</td>\n",
       "    </tr>\n",
       "    <tr>\n",
       "      <th>6</th>\n",
       "      <td>TSMC</td>\n",
       "      <td>SAN JOSE, CA</td>\n",
       "      <td>51 TO 200</td>\n",
       "      <td>MANUFACTURING</td>\n",
       "      <td>NaN</td>\n",
       "      <td>NaN</td>\n",
       "      <td>NaN</td>\n",
       "      <td>NaN</td>\n",
       "      <td>NaN</td>\n",
       "      <td>NaN</td>\n",
       "      <td>7</td>\n",
       "    </tr>\n",
       "    <tr>\n",
       "      <th>7</th>\n",
       "      <td>MATHIS BROTHERS FURNITURE</td>\n",
       "      <td>OKLAHOMA CITY, OKLAHOMA</td>\n",
       "      <td>1,001 TO 5,000</td>\n",
       "      <td>RETAIL &amp; WHOLESALE</td>\n",
       "      <td>NaN</td>\n",
       "      <td>NaN</td>\n",
       "      <td>NaN</td>\n",
       "      <td>NaN</td>\n",
       "      <td>NaN</td>\n",
       "      <td>NaN</td>\n",
       "      <td>8</td>\n",
       "    </tr>\n",
       "    <tr>\n",
       "      <th>8</th>\n",
       "      <td>IVYTECH SOLUTIONS INC</td>\n",
       "      <td>NaN</td>\n",
       "      <td>NaN</td>\n",
       "      <td>NaN</td>\n",
       "      <td>NaN</td>\n",
       "      <td>NaN</td>\n",
       "      <td>NaN</td>\n",
       "      <td>NaN</td>\n",
       "      <td>NaN</td>\n",
       "      <td>NaN</td>\n",
       "      <td>9</td>\n",
       "    </tr>\n",
       "    <tr>\n",
       "      <th>9</th>\n",
       "      <td>VERTIV</td>\n",
       "      <td>1050 DEARBORN DRIVE, COLUMBUS, OH 43085, UNITE...</td>\n",
       "      <td>10,000+</td>\n",
       "      <td>TELECOMMUNICATIONS</td>\n",
       "      <td>NaN</td>\n",
       "      <td>NaN</td>\n",
       "      <td>NaN</td>\n",
       "      <td>NaN</td>\n",
       "      <td>NaN</td>\n",
       "      <td>NaN</td>\n",
       "      <td>10</td>\n",
       "    </tr>\n",
       "  </tbody>\n",
       "</table>\n",
       "</div>"
      ],
      "text/plain": [
       "                        name  \\\n",
       "0                    GROUPON   \n",
       "1             E-TECHNOLOGIES   \n",
       "2          YAKSHNA SOLUTIONS   \n",
       "3      THRU TUBING SOLUTIONS   \n",
       "4       CLEVELAND CLIFFS INC   \n",
       "5                       SISU   \n",
       "6                       TSMC   \n",
       "7  MATHIS BROTHERS FURNITURE   \n",
       "8      IVYTECH SOLUTIONS INC   \n",
       "9                     VERTIV   \n",
       "\n",
       "                                         headquarter        employees  \\\n",
       "0      600 W CHICAGO AVE SUITE 400 CHICAGO, IL 60616   1,001 TO 5,000   \n",
       "1                                           AUCKLAND          2 TO 10   \n",
       "2                                        HERNDON, VA         11 TO 50   \n",
       "3                                      OKLAHOMA CITY        51 TO 200   \n",
       "4                                      CLEVELAND, OH  5,001 TO 10,000   \n",
       "5                                        LOS ANGELES         11 TO 50   \n",
       "6                                       SAN JOSE, CA        51 TO 200   \n",
       "7                            OKLAHOMA CITY, OKLAHOMA   1,001 TO 5,000   \n",
       "8                                                NaN              NaN   \n",
       "9  1050 DEARBORN DRIVE, COLUMBUS, OH 43085, UNITE...          10,000+   \n",
       "\n",
       "                     industry website ticker  ceo  revenue_M marketcap_M  \\\n",
       "0      INFORMATION TECHNOLOGY     NaN    NaN  NaN        NaN         NaN   \n",
       "1      INFORMATION TECHNOLOGY     NaN    NaN  NaN        NaN         NaN   \n",
       "2                         NaN     NaN    NaN  NaN        NaN         NaN   \n",
       "3  ENERGY, MINING & UTILITIES     NaN    NaN  NaN        NaN         NaN   \n",
       "4  PERSONAL CONSUMER SERVICES     NaN    NaN  NaN        NaN         NaN   \n",
       "5         RESTAURANTS & CAFES     NaN    NaN  NaN        NaN         NaN   \n",
       "6               MANUFACTURING     NaN    NaN  NaN        NaN         NaN   \n",
       "7          RETAIL & WHOLESALE     NaN    NaN  NaN        NaN         NaN   \n",
       "8                         NaN     NaN    NaN  NaN        NaN         NaN   \n",
       "9          TELECOMMUNICATIONS     NaN    NaN  NaN        NaN         NaN   \n",
       "\n",
       "   shareprice  id  \n",
       "0         NaN   1  \n",
       "1         NaN   2  \n",
       "2         NaN   3  \n",
       "3         NaN   4  \n",
       "4         NaN   5  \n",
       "5         NaN   6  \n",
       "6         NaN   7  \n",
       "7         NaN   8  \n",
       "8         NaN   9  \n",
       "9         NaN  10  "
      ]
     },
     "execution_count": 3,
     "metadata": {},
     "output_type": "execute_result"
    }
   ],
   "source": [
    "companies = pd.read_csv(\"alignedSchemas/companiesAligned.csv\")\n",
    "companies = companies.drop('Unnamed: 0', 1)\n",
    "companies.head(10)"
   ]
  },
  {
   "cell_type": "code",
   "execution_count": 4,
   "id": "0e5e8e4e",
   "metadata": {},
   "outputs": [],
   "source": [
    "indexer = recordlinkage.Index()\n",
    "indexer.block('name')\n",
    "pairs = indexer.index(companies, companies)"
   ]
  },
  {
   "cell_type": "code",
   "execution_count": 5,
   "id": "a21e9a25",
   "metadata": {},
   "outputs": [
    {
     "name": "stdout",
     "output_type": "stream",
     "text": [
      "178227\n"
     ]
    }
   ],
   "source": [
    "print(len(pairs))"
   ]
  },
  {
   "cell_type": "code",
   "execution_count": 6,
   "id": "9f9244b2",
   "metadata": {},
   "outputs": [],
   "source": [
    "train_pairs = pairs[:1000]\n",
    "test_pairs = pairs[1000:]"
   ]
  },
  {
   "cell_type": "markdown",
   "id": "7b0ec846",
   "metadata": {},
   "source": [
    "## Training "
   ]
  },
  {
   "cell_type": "code",
   "execution_count": 7,
   "id": "f4bf3197",
   "metadata": {},
   "outputs": [],
   "source": [
    "compare = recordlinkage.Compare()\n",
    "\n",
    "compare.string('name', 'name', label=\"name\", threshold=0.80)\n",
    "compare.exact('employees', 'employees', label='employees')\n",
    "compare.string('website', 'website', method='jarowinkler', label=\"website\", threshold=0.85)\n",
    "compare.string('ticker', 'ticker', method='jarowinkler', label=\"ticker\", threshold=0.95)\n",
    "compare.string('ceo', 'ceo', method='jarowinkler', label=\"ceo\", threshold=0.90)\n",
    "\n",
    "training_features = compare.compute(train_pairs, companies, companies)\n",
    "training_features['score'] = training_features.loc[:, 'name':'ceo'].sum(axis=1)"
   ]
  },
  {
   "cell_type": "code",
   "execution_count": 8,
   "id": "c744913a",
   "metadata": {},
   "outputs": [
    {
     "data": {
      "text/html": [
       "<div>\n",
       "<style scoped>\n",
       "    .dataframe tbody tr th:only-of-type {\n",
       "        vertical-align: middle;\n",
       "    }\n",
       "\n",
       "    .dataframe tbody tr th {\n",
       "        vertical-align: top;\n",
       "    }\n",
       "\n",
       "    .dataframe thead th {\n",
       "        text-align: right;\n",
       "    }\n",
       "</style>\n",
       "<table border=\"1\" class=\"dataframe\">\n",
       "  <thead>\n",
       "    <tr style=\"text-align: right;\">\n",
       "      <th></th>\n",
       "      <th>level_0</th>\n",
       "      <th>level_1</th>\n",
       "    </tr>\n",
       "  </thead>\n",
       "  <tbody>\n",
       "    <tr>\n",
       "      <th>0</th>\n",
       "      <td>0</td>\n",
       "      <td>0</td>\n",
       "    </tr>\n",
       "    <tr>\n",
       "      <th>1</th>\n",
       "      <td>44061</td>\n",
       "      <td>44061</td>\n",
       "    </tr>\n",
       "    <tr>\n",
       "      <th>2</th>\n",
       "      <td>1</td>\n",
       "      <td>1</td>\n",
       "    </tr>\n",
       "    <tr>\n",
       "      <th>3</th>\n",
       "      <td>2</td>\n",
       "      <td>2</td>\n",
       "    </tr>\n",
       "    <tr>\n",
       "      <th>4</th>\n",
       "      <td>3</td>\n",
       "      <td>3</td>\n",
       "    </tr>\n",
       "  </tbody>\n",
       "</table>\n",
       "</div>"
      ],
      "text/plain": [
       "   level_0  level_1\n",
       "0        0        0\n",
       "1    44061    44061\n",
       "2        1        1\n",
       "3        2        2\n",
       "4        3        3"
      ]
     },
     "execution_count": 8,
     "metadata": {},
     "output_type": "execute_result"
    }
   ],
   "source": [
    "training_matches = training_features[training_features.sum(axis=1) > 2].reset_index()\n",
    "training_matches['score'] = training_matches.loc[:, 'name':'ceo'].sum(axis=1)\n",
    "toDrop = ['name', 'employees', 'website', 'ticker', 'ceo', 'score']\n",
    "training_matches = training_matches.drop(toDrop, axis=1)\n",
    "training_matches.head()"
   ]
  },
  {
   "cell_type": "code",
   "execution_count": 9,
   "id": "9343bad5",
   "metadata": {},
   "outputs": [],
   "source": [
    "training_matches = pd.MultiIndex.from_frame(training_matches) #matches conversion"
   ]
  },
  {
   "cell_type": "code",
   "execution_count": 10,
   "id": "e6d20fa0",
   "metadata": {},
   "outputs": [
    {
     "data": {
      "text/html": [
       "<div>\n",
       "<style scoped>\n",
       "    .dataframe tbody tr th:only-of-type {\n",
       "        vertical-align: middle;\n",
       "    }\n",
       "\n",
       "    .dataframe tbody tr th {\n",
       "        vertical-align: top;\n",
       "    }\n",
       "\n",
       "    .dataframe thead th {\n",
       "        text-align: right;\n",
       "    }\n",
       "</style>\n",
       "<table border=\"1\" class=\"dataframe\">\n",
       "  <thead>\n",
       "    <tr style=\"text-align: right;\">\n",
       "      <th></th>\n",
       "      <th></th>\n",
       "      <th>name</th>\n",
       "      <th>employees</th>\n",
       "      <th>website</th>\n",
       "      <th>ticker</th>\n",
       "      <th>ceo</th>\n",
       "      <th>score</th>\n",
       "    </tr>\n",
       "  </thead>\n",
       "  <tbody>\n",
       "    <tr>\n",
       "      <th rowspan=\"4\" valign=\"top\">0</th>\n",
       "      <th>0</th>\n",
       "      <td>1.0</td>\n",
       "      <td>1</td>\n",
       "      <td>0.0</td>\n",
       "      <td>0.0</td>\n",
       "      <td>0.0</td>\n",
       "      <td>2.0</td>\n",
       "    </tr>\n",
       "    <tr>\n",
       "      <th>20812</th>\n",
       "      <td>1.0</td>\n",
       "      <td>0</td>\n",
       "      <td>0.0</td>\n",
       "      <td>0.0</td>\n",
       "      <td>0.0</td>\n",
       "      <td>1.0</td>\n",
       "    </tr>\n",
       "    <tr>\n",
       "      <th>44061</th>\n",
       "      <td>1.0</td>\n",
       "      <td>0</td>\n",
       "      <td>0.0</td>\n",
       "      <td>0.0</td>\n",
       "      <td>0.0</td>\n",
       "      <td>1.0</td>\n",
       "    </tr>\n",
       "    <tr>\n",
       "      <th>62588</th>\n",
       "      <td>1.0</td>\n",
       "      <td>0</td>\n",
       "      <td>0.0</td>\n",
       "      <td>0.0</td>\n",
       "      <td>0.0</td>\n",
       "      <td>1.0</td>\n",
       "    </tr>\n",
       "    <tr>\n",
       "      <th>20812</th>\n",
       "      <th>0</th>\n",
       "      <td>1.0</td>\n",
       "      <td>0</td>\n",
       "      <td>0.0</td>\n",
       "      <td>0.0</td>\n",
       "      <td>0.0</td>\n",
       "      <td>1.0</td>\n",
       "    </tr>\n",
       "  </tbody>\n",
       "</table>\n",
       "</div>"
      ],
      "text/plain": [
       "             name  employees  website  ticker  ceo  score\n",
       "0     0       1.0          1      0.0     0.0  0.0    2.0\n",
       "      20812   1.0          0      0.0     0.0  0.0    1.0\n",
       "      44061   1.0          0      0.0     0.0  0.0    1.0\n",
       "      62588   1.0          0      0.0     0.0  0.0    1.0\n",
       "20812 0       1.0          0      0.0     0.0  0.0    1.0"
      ]
     },
     "execution_count": 10,
     "metadata": {},
     "output_type": "execute_result"
    }
   ],
   "source": [
    "training_features.head()"
   ]
  },
  {
   "cell_type": "code",
   "execution_count": 11,
   "id": "a9ecb1c2",
   "metadata": {},
   "outputs": [
    {
     "data": {
      "text/plain": [
       "1000"
      ]
     },
     "execution_count": 11,
     "metadata": {},
     "output_type": "execute_result"
    }
   ],
   "source": [
    "len(training_features)"
   ]
  },
  {
   "cell_type": "code",
   "execution_count": 12,
   "id": "f27b19a7",
   "metadata": {},
   "outputs": [
    {
     "data": {
      "text/plain": [
       "414"
      ]
     },
     "execution_count": 12,
     "metadata": {},
     "output_type": "execute_result"
    }
   ],
   "source": [
    "len(training_matches)"
   ]
  },
  {
   "cell_type": "markdown",
   "id": "eabf3ade",
   "metadata": {},
   "source": [
    "#### Classifier"
   ]
  },
  {
   "cell_type": "code",
   "execution_count": 13,
   "id": "98e68b6d",
   "metadata": {},
   "outputs": [],
   "source": [
    "classifier = recordlinkage.NaiveBayesClassifier()\n",
    "classifier.fit(training_features, training_matches)"
   ]
  },
  {
   "cell_type": "markdown",
   "id": "a25ceab1",
   "metadata": {},
   "source": [
    "## Testing And Evaluation"
   ]
  },
  {
   "cell_type": "code",
   "execution_count": 14,
   "id": "09625fb5",
   "metadata": {},
   "outputs": [],
   "source": [
    "compare = recordlinkage.Compare()\n",
    "\n",
    "compare.string('name', 'name', label=\"name\", threshold=0.80)\n",
    "compare.exact('employees', 'employees', label='employees')\n",
    "compare.string('website', 'website', method='jarowinkler', label=\"website\", threshold=0.85)\n",
    "compare.string('ticker', 'ticker', method='jarowinkler', label=\"ticker\", threshold=0.95)\n",
    "compare.string('ceo', 'ceo', method='jarowinkler', label=\"ceo\", threshold=0.90)\n",
    "\n",
    "test_features = compare.compute(test_pairs, companies, companies)\n",
    "test_features['score'] = test_features.loc[:, 'name':'ceo'].sum(axis=1)"
   ]
  },
  {
   "cell_type": "code",
   "execution_count": 15,
   "id": "73da07fd",
   "metadata": {},
   "outputs": [
    {
     "data": {
      "text/html": [
       "<div>\n",
       "<style scoped>\n",
       "    .dataframe tbody tr th:only-of-type {\n",
       "        vertical-align: middle;\n",
       "    }\n",
       "\n",
       "    .dataframe tbody tr th {\n",
       "        vertical-align: top;\n",
       "    }\n",
       "\n",
       "    .dataframe thead th {\n",
       "        text-align: right;\n",
       "    }\n",
       "</style>\n",
       "<table border=\"1\" class=\"dataframe\">\n",
       "  <thead>\n",
       "    <tr style=\"text-align: right;\">\n",
       "      <th></th>\n",
       "      <th>level_0</th>\n",
       "      <th>level_1</th>\n",
       "    </tr>\n",
       "  </thead>\n",
       "  <tbody>\n",
       "    <tr>\n",
       "      <th>0</th>\n",
       "      <td>46776</td>\n",
       "      <td>46776</td>\n",
       "    </tr>\n",
       "    <tr>\n",
       "      <th>1</th>\n",
       "      <td>159</td>\n",
       "      <td>159</td>\n",
       "    </tr>\n",
       "    <tr>\n",
       "      <th>2</th>\n",
       "      <td>160</td>\n",
       "      <td>160</td>\n",
       "    </tr>\n",
       "    <tr>\n",
       "      <th>3</th>\n",
       "      <td>161</td>\n",
       "      <td>161</td>\n",
       "    </tr>\n",
       "    <tr>\n",
       "      <th>4</th>\n",
       "      <td>162</td>\n",
       "      <td>162</td>\n",
       "    </tr>\n",
       "    <tr>\n",
       "      <th>5</th>\n",
       "      <td>7500</td>\n",
       "      <td>7500</td>\n",
       "    </tr>\n",
       "    <tr>\n",
       "      <th>6</th>\n",
       "      <td>7500</td>\n",
       "      <td>22354</td>\n",
       "    </tr>\n",
       "    <tr>\n",
       "      <th>7</th>\n",
       "      <td>7500</td>\n",
       "      <td>38611</td>\n",
       "    </tr>\n",
       "    <tr>\n",
       "      <th>8</th>\n",
       "      <td>22354</td>\n",
       "      <td>7500</td>\n",
       "    </tr>\n",
       "    <tr>\n",
       "      <th>9</th>\n",
       "      <td>22354</td>\n",
       "      <td>22354</td>\n",
       "    </tr>\n",
       "  </tbody>\n",
       "</table>\n",
       "</div>"
      ],
      "text/plain": [
       "   level_0  level_1\n",
       "0    46776    46776\n",
       "1      159      159\n",
       "2      160      160\n",
       "3      161      161\n",
       "4      162      162\n",
       "5     7500     7500\n",
       "6     7500    22354\n",
       "7     7500    38611\n",
       "8    22354     7500\n",
       "9    22354    22354"
      ]
     },
     "execution_count": 15,
     "metadata": {},
     "output_type": "execute_result"
    }
   ],
   "source": [
    "test_matches = test_features[test_features.sum(axis=1) > 2].reset_index()\n",
    "test_matches['score'] = test_matches.loc[:, 'name':'ceo'].sum(axis=1)\n",
    "toDrop = ['name', 'employees', 'website', 'ticker', 'ceo', 'score']\n",
    "test_matches = test_matches.drop(toDrop, axis=1)\n",
    "test_matches.head(10)"
   ]
  },
  {
   "cell_type": "code",
   "execution_count": 16,
   "id": "11d58ebf",
   "metadata": {},
   "outputs": [
    {
     "data": {
      "text/plain": [
       "177227"
      ]
     },
     "execution_count": 16,
     "metadata": {},
     "output_type": "execute_result"
    }
   ],
   "source": [
    "len(test_features)"
   ]
  },
  {
   "cell_type": "code",
   "execution_count": 17,
   "id": "d35e23aa",
   "metadata": {},
   "outputs": [
    {
     "data": {
      "text/plain": [
       "81624"
      ]
     },
     "execution_count": 17,
     "metadata": {},
     "output_type": "execute_result"
    }
   ],
   "source": [
    "len(test_matches)"
   ]
  },
  {
   "cell_type": "code",
   "execution_count": 18,
   "id": "3d7471da",
   "metadata": {},
   "outputs": [
    {
     "data": {
      "text/html": [
       "<div>\n",
       "<style scoped>\n",
       "    .dataframe tbody tr th:only-of-type {\n",
       "        vertical-align: middle;\n",
       "    }\n",
       "\n",
       "    .dataframe tbody tr th {\n",
       "        vertical-align: top;\n",
       "    }\n",
       "\n",
       "    .dataframe thead th {\n",
       "        text-align: right;\n",
       "    }\n",
       "</style>\n",
       "<table border=\"1\" class=\"dataframe\">\n",
       "  <thead>\n",
       "    <tr style=\"text-align: right;\">\n",
       "      <th></th>\n",
       "      <th>level_0</th>\n",
       "      <th>level_1</th>\n",
       "    </tr>\n",
       "  </thead>\n",
       "  <tbody>\n",
       "    <tr>\n",
       "      <th>0</th>\n",
       "      <td>46776</td>\n",
       "      <td>46776</td>\n",
       "    </tr>\n",
       "    <tr>\n",
       "      <th>1</th>\n",
       "      <td>159</td>\n",
       "      <td>159</td>\n",
       "    </tr>\n",
       "    <tr>\n",
       "      <th>2</th>\n",
       "      <td>160</td>\n",
       "      <td>160</td>\n",
       "    </tr>\n",
       "    <tr>\n",
       "      <th>3</th>\n",
       "      <td>161</td>\n",
       "      <td>161</td>\n",
       "    </tr>\n",
       "    <tr>\n",
       "      <th>4</th>\n",
       "      <td>162</td>\n",
       "      <td>162</td>\n",
       "    </tr>\n",
       "    <tr>\n",
       "      <th>...</th>\n",
       "      <td>...</td>\n",
       "      <td>...</td>\n",
       "    </tr>\n",
       "    <tr>\n",
       "      <th>81619</th>\n",
       "      <td>64598</td>\n",
       "      <td>64598</td>\n",
       "    </tr>\n",
       "    <tr>\n",
       "      <th>81620</th>\n",
       "      <td>64601</td>\n",
       "      <td>64601</td>\n",
       "    </tr>\n",
       "    <tr>\n",
       "      <th>81621</th>\n",
       "      <td>64602</td>\n",
       "      <td>64602</td>\n",
       "    </tr>\n",
       "    <tr>\n",
       "      <th>81622</th>\n",
       "      <td>64606</td>\n",
       "      <td>64606</td>\n",
       "    </tr>\n",
       "    <tr>\n",
       "      <th>81623</th>\n",
       "      <td>64607</td>\n",
       "      <td>64607</td>\n",
       "    </tr>\n",
       "  </tbody>\n",
       "</table>\n",
       "<p>81624 rows × 2 columns</p>\n",
       "</div>"
      ],
      "text/plain": [
       "       level_0  level_1\n",
       "0        46776    46776\n",
       "1          159      159\n",
       "2          160      160\n",
       "3          161      161\n",
       "4          162      162\n",
       "...        ...      ...\n",
       "81619    64598    64598\n",
       "81620    64601    64601\n",
       "81621    64602    64602\n",
       "81622    64606    64606\n",
       "81623    64607    64607\n",
       "\n",
       "[81624 rows x 2 columns]"
      ]
     },
     "execution_count": 18,
     "metadata": {},
     "output_type": "execute_result"
    }
   ],
   "source": [
    "test_matches"
   ]
  },
  {
   "cell_type": "code",
   "execution_count": 19,
   "id": "ddbdd16c",
   "metadata": {},
   "outputs": [],
   "source": [
    "test_matches = pd.MultiIndex.from_frame(test_matches) #matches conversion"
   ]
  },
  {
   "cell_type": "code",
   "execution_count": 20,
   "id": "af11deaa",
   "metadata": {},
   "outputs": [],
   "source": [
    "predictions = classifier.predict(test_features)"
   ]
  },
  {
   "cell_type": "code",
   "execution_count": 21,
   "id": "662bc1da",
   "metadata": {},
   "outputs": [
    {
     "name": "stdout",
     "output_type": "stream",
     "text": [
      "confusion matrix\n",
      "[[81624     0]\n",
      " [    0 95603]]\n",
      "\n",
      "\n",
      "fscore 1.0\n",
      "recall 1.0\n",
      "precision 1.0\n",
      "accuracy 1.0\n"
     ]
    }
   ],
   "source": [
    "# return the confusion matrix\n",
    "confusion_matrix = recordlinkage.confusion_matrix(test_matches, predictions, len(test_features))\n",
    "print('confusion matrix')\n",
    "print(confusion_matrix)\n",
    "\n",
    "# compute the F-score for this classification\n",
    "fscore = recordlinkage.fscore(confusion_matrix)\n",
    "print('\\n\\nfscore', fscore)\n",
    "recall = recordlinkage.recall(test_matches, predictions)\n",
    "print('recall', recall)\n",
    "precision = recordlinkage.precision(test_matches, predictions)\n",
    "print('precision', precision)\n",
    "accuracy = recordlinkage.accuracy(test_matches, predictions, len(test_features))\n",
    "print('accuracy', accuracy)"
   ]
  },
  {
   "cell_type": "code",
   "execution_count": 22,
   "id": "69c04e39",
   "metadata": {},
   "outputs": [
    {
     "name": "stdout",
     "output_type": "stream",
     "text": [
      "81624\n"
     ]
    }
   ],
   "source": [
    "print(len(predictions))"
   ]
  },
  {
   "cell_type": "code",
   "execution_count": 23,
   "id": "cf70692c",
   "metadata": {},
   "outputs": [
    {
     "data": {
      "text/plain": [
       "MultiIndex([], )"
      ]
     },
     "execution_count": 23,
     "metadata": {},
     "output_type": "execute_result"
    }
   ],
   "source": [
    "false_negatives = test_matches.difference(predictions)\n",
    "false_negatives"
   ]
  },
  {
   "cell_type": "code",
   "execution_count": 24,
   "id": "3285431a",
   "metadata": {},
   "outputs": [
    {
     "name": "stdout",
     "output_type": "stream",
     "text": [
      "No False Negatives Present\n"
     ]
    }
   ],
   "source": [
    "try:\n",
    "    fn_from_dfA = false_negatives[0][0]\n",
    "    fn_from_dfB = false_negatives[0][1]\n",
    "\n",
    "    display(companies[companies.index == fn_from_dfA])\n",
    "    display(companies[companies.index == fn_from_dfB])\n",
    "except:\n",
    "    print(\"No False Negatives Present\")"
   ]
  },
  {
   "cell_type": "code",
   "execution_count": 25,
   "id": "79c962b5",
   "metadata": {},
   "outputs": [
    {
     "name": "stdout",
     "output_type": "stream",
     "text": [
      "No False Negatives Present\n"
     ]
    }
   ],
   "source": [
    "try: \n",
    "    fn_from_dfA = false_negatives[1][0]\n",
    "    fn_from_dfB = false_negatives[1][1]\n",
    "\n",
    "    display(companies[companies.index == fn_from_dfA])\n",
    "    display(companies[companies.index == fn_from_dfB])\n",
    "except: \n",
    "    print(\"No False Negatives Present\")"
   ]
  },
  {
   "cell_type": "code",
   "execution_count": null,
   "id": "37023e0d",
   "metadata": {},
   "outputs": [],
   "source": []
  }
 ],
 "metadata": {
  "kernelspec": {
   "display_name": "Python 3",
   "language": "python",
   "name": "python3"
  },
  "language_info": {
   "codemirror_mode": {
    "name": "ipython",
    "version": 3
   },
   "file_extension": ".py",
   "mimetype": "text/x-python",
   "name": "python",
   "nbconvert_exporter": "python",
   "pygments_lexer": "ipython3",
   "version": "3.8.8"
  }
 },
 "nbformat": 4,
 "nbformat_minor": 5
}
