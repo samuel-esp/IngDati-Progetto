{
 "cells": [
  {
   "cell_type": "code",
   "execution_count": 1,
   "id": "4f0e4681",
   "metadata": {},
   "outputs": [],
   "source": [
    "!pip install recordlinkage --quiet\n",
    "!pip install sklearn --quiet"
   ]
  },
  {
   "cell_type": "code",
   "execution_count": 2,
   "id": "c4edbb37",
   "metadata": {},
   "outputs": [],
   "source": [
    "import numpy as np \n",
    "import pandas as pd\n",
    "import sklearn\n",
    "import recordlinkage\n",
    "import warnings\n",
    "from recordlinkage.index import Full\n",
    "from sklearn.model_selection import train_test_split\n",
    "warnings.filterwarnings('ignore')"
   ]
  },
  {
   "cell_type": "code",
   "execution_count": 3,
   "id": "4481044b",
   "metadata": {},
   "outputs": [
    {
     "data": {
      "text/html": [
       "<div>\n",
       "<style scoped>\n",
       "    .dataframe tbody tr th:only-of-type {\n",
       "        vertical-align: middle;\n",
       "    }\n",
       "\n",
       "    .dataframe tbody tr th {\n",
       "        vertical-align: top;\n",
       "    }\n",
       "\n",
       "    .dataframe thead th {\n",
       "        text-align: right;\n",
       "    }\n",
       "</style>\n",
       "<table border=\"1\" class=\"dataframe\">\n",
       "  <thead>\n",
       "    <tr style=\"text-align: right;\">\n",
       "      <th></th>\n",
       "      <th>name</th>\n",
       "      <th>specialization</th>\n",
       "      <th>spokenLanguages</th>\n",
       "      <th>address</th>\n",
       "      <th>rating</th>\n",
       "      <th>yearsOfExperience</th>\n",
       "      <th>website</th>\n",
       "      <th>gender</th>\n",
       "      <th>price</th>\n",
       "      <th>telephone</th>\n",
       "      <th>email</th>\n",
       "      <th>id</th>\n",
       "    </tr>\n",
       "  </thead>\n",
       "  <tbody>\n",
       "    <tr>\n",
       "      <th>0</th>\n",
       "      <td>SUSAN ELLER</td>\n",
       "      <td>FAMILY NURSE PRACTITIONER</td>\n",
       "      <td>ENGLISH</td>\n",
       "      <td>8469 E MCDONALD DR SCOTTSDALE, AZ 85250</td>\n",
       "      <td>NaN</td>\n",
       "      <td>NaN</td>\n",
       "      <td>NaN</td>\n",
       "      <td>NaN</td>\n",
       "      <td>NaN</td>\n",
       "      <td>NaN</td>\n",
       "      <td>NaN</td>\n",
       "      <td>1</td>\n",
       "    </tr>\n",
       "    <tr>\n",
       "      <th>1</th>\n",
       "      <td>DR. ELLE ROSS</td>\n",
       "      <td>INTERNIST, PRIMARY CARE DOCTOR</td>\n",
       "      <td>ENGLISH</td>\n",
       "      <td>5421 W THUNDERBIRD RD GLENDALE, AZ 85306</td>\n",
       "      <td>NaN</td>\n",
       "      <td>NaN</td>\n",
       "      <td>NaN</td>\n",
       "      <td>NaN</td>\n",
       "      <td>NaN</td>\n",
       "      <td>NaN</td>\n",
       "      <td>NaN</td>\n",
       "      <td>2</td>\n",
       "    </tr>\n",
       "    <tr>\n",
       "      <th>2</th>\n",
       "      <td>JESSICA RASSAS</td>\n",
       "      <td>NURSE PRACTITIONER</td>\n",
       "      <td>ENGLISH</td>\n",
       "      <td>6730 EAST MCDOWELL ROAD SCOTTSDALE, AZ 85257</td>\n",
       "      <td>NaN</td>\n",
       "      <td>NaN</td>\n",
       "      <td>NaN</td>\n",
       "      <td>NaN</td>\n",
       "      <td>NaN</td>\n",
       "      <td>NaN</td>\n",
       "      <td>NaN</td>\n",
       "      <td>3</td>\n",
       "    </tr>\n",
       "    <tr>\n",
       "      <th>3</th>\n",
       "      <td>DR. RAUL MEDINA</td>\n",
       "      <td>FAMILY PHYSICIAN, PRIMARY CARE DOCTOR</td>\n",
       "      <td>ENGLISH</td>\n",
       "      <td>18435 N 19TH AVE PHOENIX, AZ 85023</td>\n",
       "      <td>NaN</td>\n",
       "      <td>NaN</td>\n",
       "      <td>NaN</td>\n",
       "      <td>NaN</td>\n",
       "      <td>NaN</td>\n",
       "      <td>NaN</td>\n",
       "      <td>NaN</td>\n",
       "      <td>4</td>\n",
       "    </tr>\n",
       "    <tr>\n",
       "      <th>4</th>\n",
       "      <td>KRISTINA MATTSON</td>\n",
       "      <td>NURSE PRACTITIONER, FAMILY NURSE PRACTITIONER</td>\n",
       "      <td>ENGLISH</td>\n",
       "      <td>3530 S VAL VISTA DR GILBERT, AZ 85297</td>\n",
       "      <td>NaN</td>\n",
       "      <td>NaN</td>\n",
       "      <td>NaN</td>\n",
       "      <td>NaN</td>\n",
       "      <td>NaN</td>\n",
       "      <td>NaN</td>\n",
       "      <td>NaN</td>\n",
       "      <td>5</td>\n",
       "    </tr>\n",
       "    <tr>\n",
       "      <th>5</th>\n",
       "      <td>DR. PARWIN SADAAT</td>\n",
       "      <td>FAMILY PHYSICIAN, PRIMARY CARE DOCTOR</td>\n",
       "      <td>ENGLISH</td>\n",
       "      <td>8469 E MCDONALD DR SCOTTSDALE, AZ 85250</td>\n",
       "      <td>NaN</td>\n",
       "      <td>NaN</td>\n",
       "      <td>NaN</td>\n",
       "      <td>NaN</td>\n",
       "      <td>NaN</td>\n",
       "      <td>NaN</td>\n",
       "      <td>NaN</td>\n",
       "      <td>6</td>\n",
       "    </tr>\n",
       "    <tr>\n",
       "      <th>6</th>\n",
       "      <td>DR. ANTHONY AGHENTA</td>\n",
       "      <td>INTERNIST, PRIMARY CARE DOCTOR</td>\n",
       "      <td>ENGLISH</td>\n",
       "      <td>1434 W ELLIOT RD GILBERT, AZ 85233</td>\n",
       "      <td>NaN</td>\n",
       "      <td>NaN</td>\n",
       "      <td>NaN</td>\n",
       "      <td>NaN</td>\n",
       "      <td>NaN</td>\n",
       "      <td>NaN</td>\n",
       "      <td>NaN</td>\n",
       "      <td>7</td>\n",
       "    </tr>\n",
       "    <tr>\n",
       "      <th>7</th>\n",
       "      <td>DEANNA WRIGHT</td>\n",
       "      <td>NURSE PRACTITIONER, FAMILY NURSE PRACTITIONER</td>\n",
       "      <td>ENGLISH</td>\n",
       "      <td>10210 NORTH 92ND ST SCOTTSDALE, AZ 85258</td>\n",
       "      <td>NaN</td>\n",
       "      <td>NaN</td>\n",
       "      <td>NaN</td>\n",
       "      <td>NaN</td>\n",
       "      <td>NaN</td>\n",
       "      <td>NaN</td>\n",
       "      <td>NaN</td>\n",
       "      <td>8</td>\n",
       "    </tr>\n",
       "    <tr>\n",
       "      <th>8</th>\n",
       "      <td>ALTA LANGDON</td>\n",
       "      <td>NURSE PRACTITIONER, ADULT PSYCHIATRIC &amp; MENTAL...</td>\n",
       "      <td>ENGLISH</td>\n",
       "      <td>14301 N 87TH ST SCOTTSDALE, AZ 85260</td>\n",
       "      <td>NaN</td>\n",
       "      <td>NaN</td>\n",
       "      <td>NaN</td>\n",
       "      <td>NaN</td>\n",
       "      <td>NaN</td>\n",
       "      <td>NaN</td>\n",
       "      <td>NaN</td>\n",
       "      <td>9</td>\n",
       "    </tr>\n",
       "    <tr>\n",
       "      <th>9</th>\n",
       "      <td>DR. BRUCE HERMAN</td>\n",
       "      <td>INTERNIST, PRIMARY CARE DOCTOR</td>\n",
       "      <td>ENGLISH</td>\n",
       "      <td>5620 W THUNDERBIRD RD GLENDALE, AZ 85306</td>\n",
       "      <td>NaN</td>\n",
       "      <td>NaN</td>\n",
       "      <td>NaN</td>\n",
       "      <td>NaN</td>\n",
       "      <td>NaN</td>\n",
       "      <td>NaN</td>\n",
       "      <td>NaN</td>\n",
       "      <td>10</td>\n",
       "    </tr>\n",
       "  </tbody>\n",
       "</table>\n",
       "</div>"
      ],
      "text/plain": [
       "                  name                                     specialization  \\\n",
       "0          SUSAN ELLER                          FAMILY NURSE PRACTITIONER   \n",
       "1        DR. ELLE ROSS                     INTERNIST, PRIMARY CARE DOCTOR   \n",
       "2       JESSICA RASSAS                                 NURSE PRACTITIONER   \n",
       "3      DR. RAUL MEDINA              FAMILY PHYSICIAN, PRIMARY CARE DOCTOR   \n",
       "4     KRISTINA MATTSON      NURSE PRACTITIONER, FAMILY NURSE PRACTITIONER   \n",
       "5    DR. PARWIN SADAAT              FAMILY PHYSICIAN, PRIMARY CARE DOCTOR   \n",
       "6  DR. ANTHONY AGHENTA                     INTERNIST, PRIMARY CARE DOCTOR   \n",
       "7        DEANNA WRIGHT      NURSE PRACTITIONER, FAMILY NURSE PRACTITIONER   \n",
       "8         ALTA LANGDON  NURSE PRACTITIONER, ADULT PSYCHIATRIC & MENTAL...   \n",
       "9     DR. BRUCE HERMAN                     INTERNIST, PRIMARY CARE DOCTOR   \n",
       "\n",
       "  spokenLanguages                                        address  rating  \\\n",
       "0         ENGLISH       8469 E MCDONALD DR SCOTTSDALE, AZ 85250      NaN   \n",
       "1         ENGLISH      5421 W THUNDERBIRD RD GLENDALE, AZ 85306      NaN   \n",
       "2         ENGLISH  6730 EAST MCDOWELL ROAD SCOTTSDALE, AZ 85257      NaN   \n",
       "3         ENGLISH            18435 N 19TH AVE PHOENIX, AZ 85023      NaN   \n",
       "4         ENGLISH         3530 S VAL VISTA DR GILBERT, AZ 85297      NaN   \n",
       "5         ENGLISH       8469 E MCDONALD DR SCOTTSDALE, AZ 85250      NaN   \n",
       "6         ENGLISH            1434 W ELLIOT RD GILBERT, AZ 85233      NaN   \n",
       "7         ENGLISH      10210 NORTH 92ND ST SCOTTSDALE, AZ 85258      NaN   \n",
       "8         ENGLISH          14301 N 87TH ST SCOTTSDALE, AZ 85260      NaN   \n",
       "9         ENGLISH      5620 W THUNDERBIRD RD GLENDALE, AZ 85306      NaN   \n",
       "\n",
       "   yearsOfExperience website gender  price telephone email  id  \n",
       "0                NaN     NaN    NaN    NaN       NaN   NaN   1  \n",
       "1                NaN     NaN    NaN    NaN       NaN   NaN   2  \n",
       "2                NaN     NaN    NaN    NaN       NaN   NaN   3  \n",
       "3                NaN     NaN    NaN    NaN       NaN   NaN   4  \n",
       "4                NaN     NaN    NaN    NaN       NaN   NaN   5  \n",
       "5                NaN     NaN    NaN    NaN       NaN   NaN   6  \n",
       "6                NaN     NaN    NaN    NaN       NaN   NaN   7  \n",
       "7                NaN     NaN    NaN    NaN       NaN   NaN   8  \n",
       "8                NaN     NaN    NaN    NaN       NaN   NaN   9  \n",
       "9                NaN     NaN    NaN    NaN       NaN   NaN  10  "
      ]
     },
     "execution_count": 3,
     "metadata": {},
     "output_type": "execute_result"
    }
   ],
   "source": [
    "professionisti = pd.read_csv(\"alignedSchemas/professionistiAligned.csv\")\n",
    "professionisti = professionisti.drop('Unnamed: 0', 1)\n",
    "professionisti.head(10)"
   ]
  },
  {
   "cell_type": "code",
   "execution_count": 4,
   "id": "49b8c5f7",
   "metadata": {},
   "outputs": [],
   "source": [
    "indexer = recordlinkage.Index()\n",
    "indexer.block('name')\n",
    "pairs = indexer.index(professionisti, professionisti)"
   ]
  },
  {
   "cell_type": "code",
   "execution_count": 5,
   "id": "9eba102b",
   "metadata": {},
   "outputs": [
    {
     "name": "stdout",
     "output_type": "stream",
     "text": [
      "235803\n"
     ]
    }
   ],
   "source": [
    "print(len(pairs))"
   ]
  },
  {
   "cell_type": "code",
   "execution_count": 6,
   "id": "e47ea8ca",
   "metadata": {},
   "outputs": [],
   "source": [
    "train_pairs = pairs[:150000]\n",
    "test_pairs = pairs[150000:]"
   ]
  },
  {
   "cell_type": "code",
   "execution_count": 7,
   "id": "bd7755b2",
   "metadata": {},
   "outputs": [],
   "source": [
    "compare = recordlinkage.Compare()\n",
    "\n",
    "compare.string('name', 'name', method='jarowinkler', label=\"name\", threshold=0.80)\n",
    "compare.string('specialization', 'specialization', method='levenshtein', label=\"specialization\", threshold=0.80)\n",
    "compare.exact('id', 'id', label=\"id\")\n",
    "compare.string('address', 'address', method='levenshtein', label=\"address\", threshold=0.85)\n",
    "compare.string('website', 'website', method='levenshtein', label=\"website\", threshold=0.95)\n",
    "compare.string('telephone', 'telephone', method='levenshtein', label=\"telephone\", threshold=0.90)\n",
    "compare.string('email', 'email', method='levenshtein', label=\"email\", threshold=0.90)\n",
    "\n",
    "training_features = compare.compute(train_pairs, professionisti, professionisti)\n",
    "training_features['score'] = training_features.loc[:, 'name':'email'].sum(axis=1)"
   ]
  },
  {
   "cell_type": "code",
   "execution_count": 8,
   "id": "27501e3a",
   "metadata": {
    "scrolled": true
   },
   "outputs": [
    {
     "data": {
      "text/html": [
       "<div>\n",
       "<style scoped>\n",
       "    .dataframe tbody tr th:only-of-type {\n",
       "        vertical-align: middle;\n",
       "    }\n",
       "\n",
       "    .dataframe tbody tr th {\n",
       "        vertical-align: top;\n",
       "    }\n",
       "\n",
       "    .dataframe thead th {\n",
       "        text-align: right;\n",
       "    }\n",
       "</style>\n",
       "<table border=\"1\" class=\"dataframe\">\n",
       "  <thead>\n",
       "    <tr style=\"text-align: right;\">\n",
       "      <th></th>\n",
       "      <th></th>\n",
       "      <th>name</th>\n",
       "      <th>specialization</th>\n",
       "      <th>id</th>\n",
       "      <th>address</th>\n",
       "      <th>website</th>\n",
       "      <th>telephone</th>\n",
       "      <th>email</th>\n",
       "      <th>score</th>\n",
       "    </tr>\n",
       "  </thead>\n",
       "  <tbody>\n",
       "    <tr>\n",
       "      <th rowspan=\"2\" valign=\"top\">0</th>\n",
       "      <th>0</th>\n",
       "      <td>1.0</td>\n",
       "      <td>1.0</td>\n",
       "      <td>1</td>\n",
       "      <td>1.0</td>\n",
       "      <td>0.0</td>\n",
       "      <td>0.0</td>\n",
       "      <td>0.0</td>\n",
       "      <td>4.0</td>\n",
       "    </tr>\n",
       "    <tr>\n",
       "      <th>37</th>\n",
       "      <td>1.0</td>\n",
       "      <td>1.0</td>\n",
       "      <td>0</td>\n",
       "      <td>1.0</td>\n",
       "      <td>0.0</td>\n",
       "      <td>0.0</td>\n",
       "      <td>0.0</td>\n",
       "      <td>3.0</td>\n",
       "    </tr>\n",
       "    <tr>\n",
       "      <th rowspan=\"2\" valign=\"top\">37</th>\n",
       "      <th>0</th>\n",
       "      <td>1.0</td>\n",
       "      <td>1.0</td>\n",
       "      <td>0</td>\n",
       "      <td>1.0</td>\n",
       "      <td>0.0</td>\n",
       "      <td>0.0</td>\n",
       "      <td>0.0</td>\n",
       "      <td>3.0</td>\n",
       "    </tr>\n",
       "    <tr>\n",
       "      <th>37</th>\n",
       "      <td>1.0</td>\n",
       "      <td>1.0</td>\n",
       "      <td>1</td>\n",
       "      <td>1.0</td>\n",
       "      <td>0.0</td>\n",
       "      <td>0.0</td>\n",
       "      <td>0.0</td>\n",
       "      <td>4.0</td>\n",
       "    </tr>\n",
       "    <tr>\n",
       "      <th>1</th>\n",
       "      <th>1</th>\n",
       "      <td>1.0</td>\n",
       "      <td>1.0</td>\n",
       "      <td>1</td>\n",
       "      <td>1.0</td>\n",
       "      <td>0.0</td>\n",
       "      <td>0.0</td>\n",
       "      <td>0.0</td>\n",
       "      <td>4.0</td>\n",
       "    </tr>\n",
       "  </tbody>\n",
       "</table>\n",
       "</div>"
      ],
      "text/plain": [
       "       name  specialization  id  address  website  telephone  email  score\n",
       "0  0    1.0             1.0   1      1.0      0.0        0.0    0.0    4.0\n",
       "   37   1.0             1.0   0      1.0      0.0        0.0    0.0    3.0\n",
       "37 0    1.0             1.0   0      1.0      0.0        0.0    0.0    3.0\n",
       "   37   1.0             1.0   1      1.0      0.0        0.0    0.0    4.0\n",
       "1  1    1.0             1.0   1      1.0      0.0        0.0    0.0    4.0"
      ]
     },
     "execution_count": 8,
     "metadata": {},
     "output_type": "execute_result"
    }
   ],
   "source": [
    "training_features.head()"
   ]
  },
  {
   "cell_type": "code",
   "execution_count": 9,
   "id": "f53ff0cf",
   "metadata": {},
   "outputs": [
    {
     "data": {
      "text/html": [
       "<div>\n",
       "<style scoped>\n",
       "    .dataframe tbody tr th:only-of-type {\n",
       "        vertical-align: middle;\n",
       "    }\n",
       "\n",
       "    .dataframe tbody tr th {\n",
       "        vertical-align: top;\n",
       "    }\n",
       "\n",
       "    .dataframe thead th {\n",
       "        text-align: right;\n",
       "    }\n",
       "</style>\n",
       "<table border=\"1\" class=\"dataframe\">\n",
       "  <thead>\n",
       "    <tr style=\"text-align: right;\">\n",
       "      <th></th>\n",
       "      <th>level_0</th>\n",
       "      <th>level_1</th>\n",
       "    </tr>\n",
       "  </thead>\n",
       "  <tbody>\n",
       "    <tr>\n",
       "      <th>0</th>\n",
       "      <td>0</td>\n",
       "      <td>0</td>\n",
       "    </tr>\n",
       "    <tr>\n",
       "      <th>1</th>\n",
       "      <td>0</td>\n",
       "      <td>37</td>\n",
       "    </tr>\n",
       "    <tr>\n",
       "      <th>2</th>\n",
       "      <td>37</td>\n",
       "      <td>0</td>\n",
       "    </tr>\n",
       "    <tr>\n",
       "      <th>3</th>\n",
       "      <td>37</td>\n",
       "      <td>37</td>\n",
       "    </tr>\n",
       "    <tr>\n",
       "      <th>4</th>\n",
       "      <td>1</td>\n",
       "      <td>1</td>\n",
       "    </tr>\n",
       "  </tbody>\n",
       "</table>\n",
       "</div>"
      ],
      "text/plain": [
       "   level_0  level_1\n",
       "0        0        0\n",
       "1        0       37\n",
       "2       37        0\n",
       "3       37       37\n",
       "4        1        1"
      ]
     },
     "execution_count": 9,
     "metadata": {},
     "output_type": "execute_result"
    }
   ],
   "source": [
    "training_matches = training_features[training_features.sum(axis=1) > 4].reset_index()\n",
    "training_matches['score'] = training_matches.loc[:, 'name':'email'].sum(axis=1)\n",
    "toDrop = ['name', 'specialization', 'address', 'address', 'website', 'telephone', 'email', 'score', 'id']\n",
    "training_matches = training_matches.drop(toDrop, axis=1)\n",
    "training_matches.head()"
   ]
  },
  {
   "cell_type": "code",
   "execution_count": 10,
   "id": "538a5180",
   "metadata": {},
   "outputs": [],
   "source": [
    "training_matches = pd.MultiIndex.from_frame(training_matches) #matches conversion"
   ]
  },
  {
   "cell_type": "code",
   "execution_count": 11,
   "id": "3c4cce6b",
   "metadata": {},
   "outputs": [
    {
     "data": {
      "text/plain": [
       "150000"
      ]
     },
     "execution_count": 11,
     "metadata": {},
     "output_type": "execute_result"
    }
   ],
   "source": [
    "len(training_features)"
   ]
  },
  {
   "cell_type": "code",
   "execution_count": 12,
   "id": "13ef0ce1",
   "metadata": {},
   "outputs": [
    {
     "data": {
      "text/plain": [
       "119428"
      ]
     },
     "execution_count": 12,
     "metadata": {},
     "output_type": "execute_result"
    }
   ],
   "source": [
    "len(training_matches)"
   ]
  },
  {
   "cell_type": "markdown",
   "id": "29692bff",
   "metadata": {},
   "source": [
    "#### Classifier"
   ]
  },
  {
   "cell_type": "code",
   "execution_count": 13,
   "id": "cecc4794",
   "metadata": {},
   "outputs": [],
   "source": [
    "classifier = recordlinkage.SVMClassifier()\n",
    "classifier.fit(training_features, training_matches)"
   ]
  },
  {
   "cell_type": "markdown",
   "id": "b9389d6d",
   "metadata": {},
   "source": [
    "## Testing And Evaluation"
   ]
  },
  {
   "cell_type": "code",
   "execution_count": 14,
   "id": "8ecf88ff",
   "metadata": {},
   "outputs": [],
   "source": [
    "compare = recordlinkage.Compare()\n",
    "\n",
    "compare.string('name', 'name', method='jarowinkler', label=\"name\", threshold=0.80)\n",
    "compare.string('specialization', 'specialization', method='levenshtein', label=\"specialization\", threshold=0.80)\n",
    "compare.exact('id', 'id', label=\"id\")\n",
    "compare.string('address', 'address', method='levenshtein', label=\"address\", threshold=0.85)\n",
    "compare.string('website', 'website', method='levenshtein', label=\"website\", threshold=0.95)\n",
    "compare.string('telephone', 'telephone', method='levenshtein', label=\"telephone\", threshold=0.90)\n",
    "compare.string('email', 'email', method='levenshtein', label=\"email\", threshold=0.90)\n",
    "\n",
    "test_features = compare.compute(test_pairs, professionisti, professionisti)\n",
    "test_features['score'] = test_features.loc[:, 'name':'email'].sum(axis=1)"
   ]
  },
  {
   "cell_type": "code",
   "execution_count": 15,
   "id": "a0871b11",
   "metadata": {},
   "outputs": [
    {
     "data": {
      "text/html": [
       "<div>\n",
       "<style scoped>\n",
       "    .dataframe tbody tr th:only-of-type {\n",
       "        vertical-align: middle;\n",
       "    }\n",
       "\n",
       "    .dataframe tbody tr th {\n",
       "        vertical-align: top;\n",
       "    }\n",
       "\n",
       "    .dataframe thead th {\n",
       "        text-align: right;\n",
       "    }\n",
       "</style>\n",
       "<table border=\"1\" class=\"dataframe\">\n",
       "  <thead>\n",
       "    <tr style=\"text-align: right;\">\n",
       "      <th></th>\n",
       "      <th>level_0</th>\n",
       "      <th>level_1</th>\n",
       "    </tr>\n",
       "  </thead>\n",
       "  <tbody>\n",
       "    <tr>\n",
       "      <th>0</th>\n",
       "      <td>46916</td>\n",
       "      <td>46916</td>\n",
       "    </tr>\n",
       "    <tr>\n",
       "      <th>1</th>\n",
       "      <td>59699</td>\n",
       "      <td>59699</td>\n",
       "    </tr>\n",
       "    <tr>\n",
       "      <th>2</th>\n",
       "      <td>59849</td>\n",
       "      <td>59849</td>\n",
       "    </tr>\n",
       "    <tr>\n",
       "      <th>3</th>\n",
       "      <td>46917</td>\n",
       "      <td>46917</td>\n",
       "    </tr>\n",
       "    <tr>\n",
       "      <th>4</th>\n",
       "      <td>48032</td>\n",
       "      <td>48032</td>\n",
       "    </tr>\n",
       "    <tr>\n",
       "      <th>5</th>\n",
       "      <td>46918</td>\n",
       "      <td>46918</td>\n",
       "    </tr>\n",
       "    <tr>\n",
       "      <th>6</th>\n",
       "      <td>54834</td>\n",
       "      <td>54834</td>\n",
       "    </tr>\n",
       "    <tr>\n",
       "      <th>7</th>\n",
       "      <td>46919</td>\n",
       "      <td>46919</td>\n",
       "    </tr>\n",
       "    <tr>\n",
       "      <th>8</th>\n",
       "      <td>57277</td>\n",
       "      <td>57277</td>\n",
       "    </tr>\n",
       "    <tr>\n",
       "      <th>9</th>\n",
       "      <td>46920</td>\n",
       "      <td>46920</td>\n",
       "    </tr>\n",
       "  </tbody>\n",
       "</table>\n",
       "</div>"
      ],
      "text/plain": [
       "   level_0  level_1\n",
       "0    46916    46916\n",
       "1    59699    59699\n",
       "2    59849    59849\n",
       "3    46917    46917\n",
       "4    48032    48032\n",
       "5    46918    46918\n",
       "6    54834    54834\n",
       "7    46919    46919\n",
       "8    57277    57277\n",
       "9    46920    46920"
      ]
     },
     "execution_count": 15,
     "metadata": {},
     "output_type": "execute_result"
    }
   ],
   "source": [
    "test_matches = test_features[test_features.sum(axis=1) > 4].reset_index()\n",
    "test_matches['score'] = test_matches.loc[:, 'name':'email'].sum(axis=1)\n",
    "toDrop = ['name', 'specialization', 'address', 'address', 'website', 'telephone', 'email', 'score', 'id']\n",
    "test_matches = test_matches.drop(toDrop, axis=1)\n",
    "test_matches.head(10)"
   ]
  },
  {
   "cell_type": "code",
   "execution_count": 16,
   "id": "a880d439",
   "metadata": {},
   "outputs": [
    {
     "data": {
      "text/plain": [
       "85803"
      ]
     },
     "execution_count": 16,
     "metadata": {},
     "output_type": "execute_result"
    }
   ],
   "source": [
    "len(test_features)"
   ]
  },
  {
   "cell_type": "code",
   "execution_count": 17,
   "id": "eab9dd47",
   "metadata": {},
   "outputs": [
    {
     "data": {
      "text/plain": [
       "74891"
      ]
     },
     "execution_count": 17,
     "metadata": {},
     "output_type": "execute_result"
    }
   ],
   "source": [
    "len(test_matches)"
   ]
  },
  {
   "cell_type": "code",
   "execution_count": 18,
   "id": "d051d5c1",
   "metadata": {},
   "outputs": [],
   "source": [
    "test_matches = pd.MultiIndex.from_frame(test_matches) #matches conversion"
   ]
  },
  {
   "cell_type": "code",
   "execution_count": 19,
   "id": "d8bd4ae9",
   "metadata": {},
   "outputs": [],
   "source": [
    "predictions = classifier.predict(test_features)"
   ]
  },
  {
   "cell_type": "code",
   "execution_count": 20,
   "id": "049ac8e6",
   "metadata": {},
   "outputs": [
    {
     "name": "stdout",
     "output_type": "stream",
     "text": [
      "confusion matrix\n",
      "[[74891     0]\n",
      " [    0 10912]]\n",
      "\n",
      "\n",
      "fscore 1.0\n",
      "recall 1.0\n",
      "precision 1.0\n",
      "accuracy 1.0\n"
     ]
    }
   ],
   "source": [
    "# return the confusion matrix\n",
    "confusion_matrix = recordlinkage.confusion_matrix(test_matches, predictions, len(test_features))\n",
    "print('confusion matrix')\n",
    "print(confusion_matrix)\n",
    "\n",
    "# compute the F-score for this classification\n",
    "fscore = recordlinkage.fscore(confusion_matrix)\n",
    "print('\\n\\nfscore', fscore)\n",
    "recall = recordlinkage.recall(test_matches, predictions)\n",
    "print('recall', recall)\n",
    "precision = recordlinkage.precision(test_matches, predictions)\n",
    "print('precision', precision)\n",
    "accuracy = recordlinkage.accuracy(test_matches, predictions, len(test_features))\n",
    "print('accuracy', accuracy)"
   ]
  },
  {
   "cell_type": "code",
   "execution_count": 21,
   "id": "ecc19b20",
   "metadata": {},
   "outputs": [
    {
     "data": {
      "text/plain": [
       "MultiIndex([], )"
      ]
     },
     "execution_count": 21,
     "metadata": {},
     "output_type": "execute_result"
    }
   ],
   "source": [
    "false_negatives = test_matches.difference(predictions)\n",
    "false_negatives"
   ]
  },
  {
   "cell_type": "code",
   "execution_count": 22,
   "id": "14bc8714",
   "metadata": {},
   "outputs": [
    {
     "ename": "IndexError",
     "evalue": "index 0 is out of bounds for axis 0 with size 0",
     "output_type": "error",
     "traceback": [
      "\u001b[0;31m---------------------------------------------------------------------------\u001b[0m",
      "\u001b[0;31mIndexError\u001b[0m                                Traceback (most recent call last)",
      "\u001b[0;32m<ipython-input-22-47df20a1f978>\u001b[0m in \u001b[0;36m<module>\u001b[0;34m\u001b[0m\n\u001b[0;32m----> 1\u001b[0;31m \u001b[0mfn_from_dfA\u001b[0m \u001b[0;34m=\u001b[0m \u001b[0mfalse_negatives\u001b[0m\u001b[0;34m[\u001b[0m\u001b[0;36m0\u001b[0m\u001b[0;34m]\u001b[0m\u001b[0;34m[\u001b[0m\u001b[0;36m0\u001b[0m\u001b[0;34m]\u001b[0m\u001b[0;34m\u001b[0m\u001b[0;34m\u001b[0m\u001b[0m\n\u001b[0m\u001b[1;32m      2\u001b[0m \u001b[0mfn_from_dfB\u001b[0m \u001b[0;34m=\u001b[0m \u001b[0mfalse_negatives\u001b[0m\u001b[0;34m[\u001b[0m\u001b[0;36m0\u001b[0m\u001b[0;34m]\u001b[0m\u001b[0;34m[\u001b[0m\u001b[0;36m1\u001b[0m\u001b[0;34m]\u001b[0m\u001b[0;34m\u001b[0m\u001b[0;34m\u001b[0m\u001b[0m\n\u001b[1;32m      3\u001b[0m \u001b[0;34m\u001b[0m\u001b[0m\n\u001b[1;32m      4\u001b[0m \u001b[0mdisplay\u001b[0m\u001b[0;34m(\u001b[0m\u001b[0mprofessionisti\u001b[0m\u001b[0;34m[\u001b[0m\u001b[0mprofessionisti\u001b[0m\u001b[0;34m.\u001b[0m\u001b[0mindex\u001b[0m \u001b[0;34m==\u001b[0m \u001b[0mfn_from_dfA\u001b[0m\u001b[0;34m]\u001b[0m\u001b[0;34m)\u001b[0m\u001b[0;34m\u001b[0m\u001b[0;34m\u001b[0m\u001b[0m\n\u001b[1;32m      5\u001b[0m \u001b[0mdisplay\u001b[0m\u001b[0;34m(\u001b[0m\u001b[0mprofessionisti\u001b[0m\u001b[0;34m[\u001b[0m\u001b[0mprofessionisti\u001b[0m\u001b[0;34m.\u001b[0m\u001b[0mindex\u001b[0m \u001b[0;34m==\u001b[0m \u001b[0mfn_from_dfB\u001b[0m\u001b[0;34m]\u001b[0m\u001b[0;34m)\u001b[0m\u001b[0;34m\u001b[0m\u001b[0;34m\u001b[0m\u001b[0m\n",
      "\u001b[0;32m/opt/anaconda3/lib/python3.8/site-packages/pandas/core/indexes/multi.py\u001b[0m in \u001b[0;36m__getitem__\u001b[0;34m(self, key)\u001b[0m\n\u001b[1;32m   2026\u001b[0m             \u001b[0mretval\u001b[0m \u001b[0;34m=\u001b[0m \u001b[0;34m[\u001b[0m\u001b[0;34m]\u001b[0m\u001b[0;34m\u001b[0m\u001b[0;34m\u001b[0m\u001b[0m\n\u001b[1;32m   2027\u001b[0m             \u001b[0;32mfor\u001b[0m \u001b[0mlev\u001b[0m\u001b[0;34m,\u001b[0m \u001b[0mlevel_codes\u001b[0m \u001b[0;32min\u001b[0m \u001b[0mzip\u001b[0m\u001b[0;34m(\u001b[0m\u001b[0mself\u001b[0m\u001b[0;34m.\u001b[0m\u001b[0mlevels\u001b[0m\u001b[0;34m,\u001b[0m \u001b[0mself\u001b[0m\u001b[0;34m.\u001b[0m\u001b[0mcodes\u001b[0m\u001b[0;34m)\u001b[0m\u001b[0;34m:\u001b[0m\u001b[0;34m\u001b[0m\u001b[0;34m\u001b[0m\u001b[0m\n\u001b[0;32m-> 2028\u001b[0;31m                 \u001b[0;32mif\u001b[0m \u001b[0mlevel_codes\u001b[0m\u001b[0;34m[\u001b[0m\u001b[0mkey\u001b[0m\u001b[0;34m]\u001b[0m \u001b[0;34m==\u001b[0m \u001b[0;34m-\u001b[0m\u001b[0;36m1\u001b[0m\u001b[0;34m:\u001b[0m\u001b[0;34m\u001b[0m\u001b[0;34m\u001b[0m\u001b[0m\n\u001b[0m\u001b[1;32m   2029\u001b[0m                     \u001b[0mretval\u001b[0m\u001b[0;34m.\u001b[0m\u001b[0mappend\u001b[0m\u001b[0;34m(\u001b[0m\u001b[0mnp\u001b[0m\u001b[0;34m.\u001b[0m\u001b[0mnan\u001b[0m\u001b[0;34m)\u001b[0m\u001b[0;34m\u001b[0m\u001b[0;34m\u001b[0m\u001b[0m\n\u001b[1;32m   2030\u001b[0m                 \u001b[0;32melse\u001b[0m\u001b[0;34m:\u001b[0m\u001b[0;34m\u001b[0m\u001b[0;34m\u001b[0m\u001b[0m\n",
      "\u001b[0;31mIndexError\u001b[0m: index 0 is out of bounds for axis 0 with size 0"
     ]
    }
   ],
   "source": [
    "fn_from_dfA = false_negatives[0][0]\n",
    "fn_from_dfB = false_negatives[0][1]\n",
    "\n",
    "display(professionisti[professionisti.index == fn_from_dfA])\n",
    "display(professionisti[professionisti.index == fn_from_dfB])"
   ]
  },
  {
   "cell_type": "code",
   "execution_count": null,
   "id": "5000f741",
   "metadata": {},
   "outputs": [],
   "source": [
    "fn_from_dfA = false_negatives[1][0]\n",
    "fn_from_dfB = false_negatives[1][1]\n",
    "\n",
    "display(professionisti[professionisti.index == fn_from_dfA])\n",
    "display(professionisti[professionisti.index == fn_from_dfB])"
   ]
  },
  {
   "cell_type": "code",
   "execution_count": null,
   "id": "40063d3d",
   "metadata": {},
   "outputs": [],
   "source": [
    "false_positives = predictions.difference(test_matches)\n",
    "false_positives"
   ]
  },
  {
   "cell_type": "code",
   "execution_count": null,
   "id": "72537341",
   "metadata": {},
   "outputs": [],
   "source": [
    "fn_from_dfA = false_positives[1][0]\n",
    "fn_from_dfB = false_positives[1][1]\n",
    "\n",
    "display(professionisti[professionisti.index == fn_from_dfA])\n",
    "display(professionisti[professionisti.index == fn_from_dfB])"
   ]
  },
  {
   "cell_type": "code",
   "execution_count": null,
   "id": "be95976c",
   "metadata": {},
   "outputs": [],
   "source": []
  }
 ],
 "metadata": {
  "kernelspec": {
   "display_name": "Python 3",
   "language": "python",
   "name": "python3"
  },
  "language_info": {
   "codemirror_mode": {
    "name": "ipython",
    "version": 3
   },
   "file_extension": ".py",
   "mimetype": "text/x-python",
   "name": "python",
   "nbconvert_exporter": "python",
   "pygments_lexer": "ipython3",
   "version": "3.8.8"
  }
 },
 "nbformat": 4,
 "nbformat_minor": 5
}
