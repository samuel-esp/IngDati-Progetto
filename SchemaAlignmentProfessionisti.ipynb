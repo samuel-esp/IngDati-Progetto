{
 "cells": [
  {
   "cell_type": "markdown",
   "id": "ab8c6ff4",
   "metadata": {},
   "source": [
    "# Schema Alignment"
   ]
  },
  {
   "cell_type": "code",
   "execution_count": null,
   "id": "5ce27a85",
   "metadata": {},
   "outputs": [],
   "source": [
    "!pip install pandas\n",
    "!pip install pandas-profiling\n",
    "!pip install numpy"
   ]
  },
  {
   "cell_type": "markdown",
   "id": "b7d83707",
   "metadata": {},
   "source": [
    "#### Funzioni Manipolazione"
   ]
  },
  {
   "cell_type": "code",
   "execution_count": null,
   "id": "fecea196",
   "metadata": {},
   "outputs": [],
   "source": [
    "def gender(gender):\n",
    "    if (gender=='Male'):\n",
    "        return 'M'\n",
    "    elif (gender=='Female'):\n",
    "        return 'F'"
   ]
  },
  {
   "cell_type": "code",
   "execution_count": null,
   "id": "07fbde6d",
   "metadata": {},
   "outputs": [],
   "source": [
    "def extract(row):\n",
    "    return ', '.join(map(str, row))"
   ]
  },
  {
   "cell_type": "markdown",
   "id": "3fe1ee40",
   "metadata": {},
   "source": [
    "### Querynator Zocdoc"
   ]
  },
  {
   "cell_type": "code",
   "execution_count": null,
   "id": "3b7826f3",
   "metadata": {},
   "outputs": [],
   "source": [
    "import json\n",
    "import pandas as pd\n",
    "import numpy as np\n",
    "\n",
    "openfile=open('sources/professionisti/doctors.json')\n",
    "jsondata=json.load(openfile)\n",
    "dottori=pd.DataFrame(jsondata)\n",
    "\n",
    "openfile.close()\n",
    "\n",
    "dottori.head(50)"
   ]
  },
  {
   "cell_type": "code",
   "execution_count": null,
   "id": "ba18850c",
   "metadata": {},
   "outputs": [],
   "source": [
    "#dottori['specialization'] = dottori['specialization'].astype('string')\n",
    "#dottori['spokenLanguages'] = dottori['spokenLanguages'].astype('string')"
   ]
  },
  {
   "cell_type": "code",
   "execution_count": null,
   "id": "9d3351f3",
   "metadata": {},
   "outputs": [],
   "source": [
    "toDrop = [\"id\", \"npinumber\"]\n",
    "dottori = dottori.drop(toDrop, axis=1)\n",
    "dottori['specialization'] = dottori['specialization'].replace(r',', '')\n",
    "dottori['spokenLanguages'] = dottori['spokenLanguages'].replace(r',', '')\n",
    "dottori['spokenLanguages']= dottori.apply(lambda x: extract(x['spokenLanguages']), axis=1)\n",
    "dottori['specialization']= dottori.apply(lambda x: extract(x['specialization']), axis=1)\n",
    "dottori.head()"
   ]
  },
  {
   "cell_type": "markdown",
   "id": "f390ad2b",
   "metadata": {},
   "source": [
    "### Querynator Justia"
   ]
  },
  {
   "cell_type": "code",
   "execution_count": null,
   "id": "05d0635a",
   "metadata": {},
   "outputs": [],
   "source": [
    "import json\n",
    "import pandas as pd\n",
    "\n",
    "openfile=open('sources/professionisti/querynator-justia.com-1.json')\n",
    "jsondata=json.load(openfile)\n",
    "avvocati=pd.DataFrame(jsondata)\n",
    "\n",
    "openfile.close()\n",
    "\n",
    "avvocati.head(50)"
   ]
  },
  {
   "cell_type": "code",
   "execution_count": null,
   "id": "5028b16f",
   "metadata": {},
   "outputs": [],
   "source": [
    "toDrop = [\"statesOfAbilitation\", \"id\", \"lawyerOfficeSet\"]\n",
    "avvocati = avvocati.drop(toDrop, axis=1)\n",
    "avvocati['specialization']= avvocati.apply(lambda x: extract(x['specialization']), axis=1)\n",
    "avvocati.head()"
   ]
  },
  {
   "cell_type": "markdown",
   "id": "b4e268c8",
   "metadata": {},
   "source": [
    "### Zero8 Freelancer"
   ]
  },
  {
   "cell_type": "code",
   "execution_count": null,
   "id": "57aebeef",
   "metadata": {},
   "outputs": [],
   "source": [
    "import json\n",
    "import pandas as pd\n",
    "\n",
    "openfile=open('sources/professionisti/Zero8-freelancer.com-v1.json')\n",
    "jsondata=json.load(openfile)\n",
    "freel=pd.DataFrame(jsondata)\n",
    "\n",
    "openfile.close()\n",
    "\n",
    "freel.head(50)"
   ]
  },
  {
   "cell_type": "code",
   "execution_count": null,
   "id": "b394e1a0",
   "metadata": {},
   "outputs": [],
   "source": [
    "toDrop = [\"oneliner\", \"description\", \"user_certifications\", \"member_since\", \"on_budget_completed_rate\", \"on_time_rate\", \"repeat_hire_rate\", \"jobs_completed_rate\"]\n",
    "freel = freel.drop(toDrop, axis=1)\n",
    "freel.head()\n"
   ]
  },
  {
   "cell_type": "code",
   "execution_count": null,
   "id": "31c78bee",
   "metadata": {},
   "outputs": [],
   "source": [
    "freel.rename(columns={'username':'name'}, inplace=True)\n",
    "freel.rename(columns={'location':'address'}, inplace=True)\n",
    "freel.rename(columns={'user_skills':'specialization'}, inplace=True)\n",
    "freel.rename(columns={'price_per_hour':'price'}, inplace=True)\n",
    "freel['price'] = freel['price'].str.replace(r'[^\\d]+', '')\n",
    "freel['price'] = freel['price'].replace('', pd.NA)\n",
    "freel.head()"
   ]
  },
  {
   "cell_type": "markdown",
   "id": "c196a90c",
   "metadata": {},
   "source": [
    "### HirsutePippo Medici"
   ]
  },
  {
   "cell_type": "code",
   "execution_count": null,
   "id": "2e0df9a4",
   "metadata": {},
   "outputs": [],
   "source": [
    "hpmedici = pd.read_csv('sources/professionisti/hpmedici.csv')\n",
    "hpmedici.head()"
   ]
  },
  {
   "cell_type": "code",
   "execution_count": null,
   "id": "f896483c",
   "metadata": {},
   "outputs": [],
   "source": [
    "toDrop = [\"Affiliations\", \"Age Groups Seen\", \"Education\"]\n",
    "hpmedici = hpmedici.drop(toDrop, axis=1)\n",
    "hpmedici.head()"
   ]
  },
  {
   "cell_type": "code",
   "execution_count": null,
   "id": "1676bb00",
   "metadata": {},
   "outputs": [],
   "source": [
    "hpmedici.rename(columns={'Name':'name'}, inplace=True)\n",
    "hpmedici.rename(columns={'Specialties':'specialization'}, inplace=True)\n",
    "hpmedici.rename(columns={'Language':'spokenLanguages'}, inplace=True)\n",
    "hpmedici.rename(columns={'Rating':'rating'}, inplace=True)\n",
    "hpmedici.rename(columns={'Years In Practice':'yearsOfExperience'}, inplace=True)\n",
    "hpmedici.rename(columns={'Provider Gender':'gender'}, inplace=True)\n",
    "hpmedici['rating'] = hpmedici['rating'].str[0:3]\n",
    "hpmedici['gender']= hpmedici.apply(lambda x: gender(x['gender']), axis=1)\n",
    "hpmedici.head()"
   ]
  },
  {
   "cell_type": "markdown",
   "id": "988bc455",
   "metadata": {},
   "source": [
    "### HirsutePippo Dottori"
   ]
  },
  {
   "cell_type": "code",
   "execution_count": null,
   "id": "e9d950c2",
   "metadata": {},
   "outputs": [],
   "source": [
    "hpdottori = pd.read_csv('sources/professionisti/hpdottori.csv')\n",
    "hpdottori.head()"
   ]
  },
  {
   "cell_type": "code",
   "execution_count": null,
   "id": "1059bd14",
   "metadata": {},
   "outputs": [],
   "source": [
    "toDrop = [\"Subspecializations\", \"Hospital\", \"City\"]\n",
    "hpdottori = hpdottori.drop(toDrop, axis=1)\n",
    "hpdottori.head()"
   ]
  },
  {
   "cell_type": "code",
   "execution_count": null,
   "id": "be5b1b6d",
   "metadata": {},
   "outputs": [],
   "source": [
    "hpdottori.rename(columns={'Name':'name'}, inplace=True)\n",
    "hpdottori.rename(columns={'Specialization':'specialization'}, inplace=True)\n",
    "hpdottori.rename(columns={'Languages':'spokenLanguages'}, inplace=True)\n",
    "hpdottori.rename(columns={'Rating':'rating'}, inplace=True)\n",
    "hpdottori.rename(columns={'Years of Experience':'yearsOfExperience'}, inplace=True)\n",
    "hpdottori.rename(columns={'Gender':'gender'}, inplace=True)\n",
    "hpdottori.rename(columns={'Address':'address'}, inplace=True)\n",
    "hpdottori.rename(columns={'Tel.':'telephone'}, inplace=True)\n",
    "hpdottori['yearsOfExperience'] = hpdottori['yearsOfExperience'].str[0:1]\n",
    "hpdottori['gender']= hpdottori.apply(lambda x: gender(x['gender']), axis=1)\n",
    "hpdottori.head()"
   ]
  },
  {
   "cell_type": "markdown",
   "id": "0ad83e0a",
   "metadata": {},
   "source": [
    "### MMS Atlanta Magazine"
   ]
  },
  {
   "cell_type": "code",
   "execution_count": null,
   "id": "43130976",
   "metadata": {},
   "outputs": [],
   "source": [
    "path = 'sources/professionisti/mmsAtlanta.csv'\n",
    "\n",
    "with open(path, 'r', encoding='utf-8') as f:\n",
    "    mmsAtlanta = pd.read_csv(path, sep=';', engine='python',index_col = False).dropna(how='all', axis=1)\n",
    "mmsAtlanta.head(10)"
   ]
  },
  {
   "cell_type": "code",
   "execution_count": null,
   "id": "ef26e87c",
   "metadata": {},
   "outputs": [],
   "source": [
    "toDrop = [\"hospital\", \"hospital_affiliations\", \"doc_special_expertise\"]\n",
    "mmsAtlanta = mmsAtlanta.drop(toDrop, axis=1)\n",
    "mmsAtlanta.head()"
   ]
  },
  {
   "cell_type": "code",
   "execution_count": null,
   "id": "bdaaa9c5",
   "metadata": {},
   "outputs": [],
   "source": [
    "mmsAtlanta.rename(columns={'medical_specialty':'specialization'}, inplace=True)\n",
    "mmsAtlanta.rename(columns={'doc_name':'name'}, inplace=True)\n",
    "mmsAtlanta.rename(columns={'hospital_address':'address'}, inplace=True)\n",
    "mmsAtlanta.rename(columns={'hospital_telephone':'telephone'}, inplace=True)\n",
    "mmsAtlanta.head()"
   ]
  },
  {
   "cell_type": "markdown",
   "id": "775fa7c7",
   "metadata": {},
   "source": [
    "### MMS Atlanta Doctor"
   ]
  },
  {
   "cell_type": "code",
   "execution_count": null,
   "id": "93a790f1",
   "metadata": {},
   "outputs": [],
   "source": [
    "path = 'sources/professionisti/mmsAtlantaDoctors.csv'\n",
    "\n",
    "with open(path, 'r', encoding='utf-8') as f:\n",
    "    mmsAtlantaDoc = pd.read_csv(path, sep=';', engine='python',index_col = False).dropna(how='all', axis=1)\n",
    "mmsAtlantaDoc.head(10)"
   ]
  },
  {
   "cell_type": "code",
   "execution_count": null,
   "id": "4295534d",
   "metadata": {},
   "outputs": [],
   "source": [
    "toDrop = [\"board_certifications\", \"hospital\", \"hospital_affiliations\", \"fellowships\", \"education_and_training_medical_school\", \"education_and_training_internship\", \"education_and_training_residency\"]\n",
    "mmsAtlantaDoc = mmsAtlantaDoc.drop(toDrop, axis=1)\n",
    "mmsAtlantaDoc.head()"
   ]
  },
  {
   "cell_type": "code",
   "execution_count": null,
   "id": "448f250d",
   "metadata": {},
   "outputs": [],
   "source": [
    "mmsAtlantaDoc.rename(columns={'medical_specialty':'specialization'}, inplace=True)\n",
    "mmsAtlantaDoc.rename(columns={'doc_name':'name'}, inplace=True)\n",
    "mmsAtlantaDoc.rename(columns={'doc_gender':'gender'}, inplace=True)\n",
    "mmsAtlantaDoc.rename(columns={'doc_languages':'spokenLanguages'}, inplace=True)\n",
    "mmsAtlantaDoc.rename(columns={'hospital_telephone':'telephone'}, inplace=True)\n",
    "mmsAtlantaDoc['gender']= mmsAtlantaDoc.apply(lambda x: gender(x['gender']), axis=1)\n",
    "mmsAtlantaDoc.head()"
   ]
  },
  {
   "cell_type": "markdown",
   "id": "f259dc13",
   "metadata": {},
   "source": [
    "### Scarano Investing"
   ]
  },
  {
   "cell_type": "code",
   "execution_count": null,
   "id": "2eb36def",
   "metadata": {},
   "outputs": [],
   "source": [
    "investing = pd.read_csv('sources/professionisti/scaranoinvesting.csv')\n",
    "investing.head()"
   ]
  },
  {
   "cell_type": "code",
   "execution_count": null,
   "id": "1727d378",
   "metadata": {},
   "outputs": [],
   "source": [
    "toDrop = [\"Unnamed: 0\", \"Unnamed: 0.1\", \"company_ticker\", \"source\"]\n",
    "investing = investing.drop(toDrop, axis=1)\n",
    "investing.head()"
   ]
  },
  {
   "cell_type": "code",
   "execution_count": null,
   "id": "154a0346",
   "metadata": {},
   "outputs": [],
   "source": [
    "investing.rename(columns={'title':'specialization'}, inplace=True)\n",
    "investing.head()"
   ]
  },
  {
   "cell_type": "markdown",
   "id": "c2e85356",
   "metadata": {},
   "source": [
    "### Scarano Finance"
   ]
  },
  {
   "cell_type": "code",
   "execution_count": null,
   "id": "02b83e46",
   "metadata": {},
   "outputs": [],
   "source": [
    "finance = pd.read_csv('sources/professionisti/scaranofinance.csv')\n",
    "finance.head()"
   ]
  },
  {
   "cell_type": "code",
   "execution_count": null,
   "id": "72521049",
   "metadata": {},
   "outputs": [],
   "source": [
    "toDrop = [\"Unnamed: 0\", \"Unnamed: 0.1\", \"company_ticker\", \"source\"]\n",
    "finance = finance.drop(toDrop, axis=1)\n",
    "finance.head()"
   ]
  },
  {
   "cell_type": "code",
   "execution_count": null,
   "id": "b390bc97",
   "metadata": {},
   "outputs": [],
   "source": [
    "finance.rename(columns={'title':'specialization'}, inplace=True)\n",
    "finance.head()"
   ]
  },
  {
   "cell_type": "markdown",
   "id": "8941083e",
   "metadata": {},
   "source": [
    "### A&A Developer"
   ]
  },
  {
   "cell_type": "code",
   "execution_count": null,
   "id": "50eaf124",
   "metadata": {},
   "outputs": [],
   "source": [
    "developer = pd.read_csv('sources/professionisti/developer.csv')\n",
    "developer.head()"
   ]
  },
  {
   "cell_type": "code",
   "execution_count": null,
   "id": "07fe1334",
   "metadata": {},
   "outputs": [],
   "source": [
    "toDrop = [\"about\", \"availability\", \"reply rate\", \"age\", \"skills\"]\n",
    "developer = developer.drop(toDrop, axis=1)\n",
    "developer.head()"
   ]
  },
  {
   "cell_type": "code",
   "execution_count": null,
   "id": "2ab2190f",
   "metadata": {},
   "outputs": [],
   "source": [
    "developer.rename(columns={'speciality':'specialization'}, inplace=True)\n",
    "developer.rename(columns={'languages':'spokenLanguages'}, inplace=True)\n",
    "developer.rename(columns={'pay rate':'price'}, inplace=True)\n",
    "developer.rename(columns={'location':'address'}, inplace=True)\n",
    "developer.rename(columns={'experience':'yearsOfExperience'}, inplace=True)\n",
    "developer['yearsOfExperience'] = developer['yearsOfExperience'].str.replace(r'[^\\d]+', '')\n",
    "developer['price'] = developer['price'].str.replace(r'[^\\d]+', '')\n",
    "developer.head()"
   ]
  },
  {
   "cell_type": "markdown",
   "id": "88524ef5",
   "metadata": {},
   "source": [
    "### A&A Truelancer"
   ]
  },
  {
   "cell_type": "code",
   "execution_count": null,
   "id": "9301b9f0",
   "metadata": {},
   "outputs": [],
   "source": [
    "freelancer = pd.read_csv('sources/professionisti/freelancer.csv')\n",
    "freelancer.head()"
   ]
  },
  {
   "cell_type": "code",
   "execution_count": null,
   "id": "120f7a20",
   "metadata": {},
   "outputs": [],
   "source": [
    "toDrop = [\"experties\", \"aviability\", \"projects completed\", \"country\", \"feedbacks\", \"buyer worked with\", \"followers\", \"services delivered\", \"contest completed\", \"total earnings\", \"total refund\"]\n",
    "freelancer = freelancer.drop(toDrop, axis=1)\n",
    "freelancer.head()\n",
    "\n"
   ]
  },
  {
   "cell_type": "code",
   "execution_count": null,
   "id": "49a275f4",
   "metadata": {},
   "outputs": [],
   "source": [
    "freelancer.rename(columns={'specialities':'specialization'}, inplace=True)\n",
    "freelancer.rename(columns={'payRate':'price'}, inplace=True)\n",
    "freelancer['price'] = freelancer['price'].str.replace(r'[^\\d]+', '')\n",
    "freelancer.head()"
   ]
  },
  {
   "cell_type": "markdown",
   "id": "32d306df",
   "metadata": {},
   "source": [
    "### Andreoli Dottori "
   ]
  },
  {
   "cell_type": "code",
   "execution_count": null,
   "id": "d5f31b64",
   "metadata": {},
   "outputs": [],
   "source": [
    "andreolidoc = pd.read_csv('sources/professionisti/hw2_dottori.it.csv')\n",
    "andreolidoc.head()\n"
   ]
  },
  {
   "cell_type": "code",
   "execution_count": null,
   "id": "0039da2c",
   "metadata": {},
   "outputs": [],
   "source": [
    "toDrop = [\"idx_doc\", \"url\", \"photo\", \"curr\", \"tariffe\", \"sedi\"]\n",
    "andreolidoc = andreolidoc.drop(toDrop, axis=1)\n",
    "andreolidoc.head()\n",
    "\n",
    "\n"
   ]
  },
  {
   "cell_type": "code",
   "execution_count": null,
   "id": "82821021",
   "metadata": {},
   "outputs": [],
   "source": [
    "andreolidoc.rename(columns={'nome_doc':'name'}, inplace=True)\n",
    "andreolidoc.rename(columns={'tel':'telephone'}, inplace=True)\n",
    "andreolidoc.rename(columns={'patologie':'specialization'}, inplace=True)\n",
    "andreolidoc.head()"
   ]
  },
  {
   "cell_type": "markdown",
   "id": "e860c0ce",
   "metadata": {},
   "source": [
    "### Andreoli ProntoProfessionisti "
   ]
  },
  {
   "cell_type": "code",
   "execution_count": null,
   "id": "e8883081",
   "metadata": {},
   "outputs": [],
   "source": [
    "andreoliprof = pd.read_csv('sources/professionisti/hw2_prontoprofessionista.it.csv')\n",
    "andreoliprof.head()\n"
   ]
  },
  {
   "cell_type": "code",
   "execution_count": null,
   "id": "93fef66a",
   "metadata": {},
   "outputs": [],
   "source": [
    "toDrop = [\"idx_prof\", \"url\", \"cap\", \"photo\", \"profilo\", \"servizi\", \"iscrizione\"]\n",
    "andreoliprof = andreoliprof.drop(toDrop, axis=1)\n",
    "andreoliprof.head()"
   ]
  },
  {
   "cell_type": "code",
   "execution_count": null,
   "id": "2f280aba",
   "metadata": {},
   "outputs": [],
   "source": [
    "andreoliprof.rename(columns={'nome_prof':'name'}, inplace=True)\n",
    "andreoliprof.rename(columns={'tel':'telephone'}, inplace=True)\n",
    "andreoliprof.rename(columns={'attivita':'specialization'}, inplace=True)\n",
    "andreoliprof.head()"
   ]
  },
  {
   "cell_type": "markdown",
   "id": "ae998653",
   "metadata": {},
   "source": [
    "### PolloEPatatine RomaTre"
   ]
  },
  {
   "cell_type": "code",
   "execution_count": null,
   "id": "a8bf5edd",
   "metadata": {},
   "outputs": [],
   "source": [
    "romatre = pd.read_csv('sources/professionisti/dettagliDocentiR3.csv')\n",
    "romatre.head()"
   ]
  },
  {
   "cell_type": "code",
   "execution_count": null,
   "id": "8144c09d",
   "metadata": {},
   "outputs": [],
   "source": [
    "toDrop = [\"dipartimento\", \"corsi\"]\n",
    "romatre = romatre.drop(toDrop, axis=1)\n",
    "romatre.head()"
   ]
  },
  {
   "cell_type": "code",
   "execution_count": null,
   "id": "4ed56c5f",
   "metadata": {},
   "outputs": [],
   "source": [
    "romatre.rename(columns={'nome':'name'}, inplace=True)\n",
    "romatre.rename(columns={'qualifica':'specialization'}, inplace=True)\n",
    "romatre.head()"
   ]
  },
  {
   "cell_type": "markdown",
   "id": "ec6878c7",
   "metadata": {},
   "source": [
    "### PolloEPatatine Bocconi"
   ]
  },
  {
   "cell_type": "code",
   "execution_count": null,
   "id": "80abc111",
   "metadata": {},
   "outputs": [],
   "source": [
    "bocconi = pd.read_csv('sources/professionisti/dettagliDocentiBocconi.csv')\n",
    "bocconi.head()"
   ]
  },
  {
   "cell_type": "code",
   "execution_count": null,
   "id": "6c2180be",
   "metadata": {},
   "outputs": [],
   "source": [
    "toDrop = [\"dipartimento\", \"corsi\"]\n",
    "bocconi = bocconi.drop(toDrop, axis=1)\n",
    "bocconi.head()"
   ]
  },
  {
   "cell_type": "code",
   "execution_count": null,
   "id": "ae5a1aa5",
   "metadata": {},
   "outputs": [],
   "source": [
    "bocconi.rename(columns={'nome':'name'}, inplace=True)\n",
    "bocconi.rename(columns={'qualifica':'specialization'}, inplace=True)\n",
    "bocconi.head()"
   ]
  },
  {
   "cell_type": "markdown",
   "id": "6065bd81",
   "metadata": {},
   "source": [
    "### CrispyMcData KPopping"
   ]
  },
  {
   "cell_type": "code",
   "execution_count": null,
   "id": "ff684960",
   "metadata": {},
   "outputs": [],
   "source": [
    "kpopping = pd.read_csv('sources/professionisti/kpopping-idols.csv')\n",
    "kpopping.head()"
   ]
  },
  {
   "cell_type": "code",
   "execution_count": null,
   "id": "ff0a9651",
   "metadata": {},
   "outputs": [],
   "source": [
    "toDrop = [\"company_names\", \"company_periods\", \"debut\", \"debut_to_1st_win\", \"education\", \"fandom\", \"former_group_links\", \"former_group_names\", \"fun_facts\", \"former_group_periods\", \"height\", \"introduction\", \"hometown\", \"korean_stage_name\", \"native_name\", \"active_group_links\", \"active_group_names\", \"active_group_periods\",\"active_years\",\"age\",\"albums\", \"awards\", \"birthday\", \"bloodtype\", \"company_links\", \"kpopping_rank\", \"personality_type\", \"profile_link\", \"stage_name\", \"training_period\", \"weight\", \"zodiac_sign\"]\n",
    "kpopping = kpopping.drop(toDrop, axis=1)\n",
    "kpopping.head()"
   ]
  },
  {
   "cell_type": "code",
   "execution_count": null,
   "id": "62dcbf61",
   "metadata": {},
   "outputs": [],
   "source": [
    "kpopping.rename(columns={'full_name':'name'}, inplace=True)\n",
    "kpopping.rename(columns={'languages':'spokenLanguages'}, inplace=True)\n",
    "kpopping.rename(columns={'socials':'website'}, inplace=True)\n",
    "kpopping.rename(columns={'country':'address'}, inplace=True)\n",
    "kpopping.head()"
   ]
  },
  {
   "cell_type": "markdown",
   "id": "16d4b0bc",
   "metadata": {},
   "source": [
    "### CrispyMcData KPop"
   ]
  },
  {
   "cell_type": "code",
   "execution_count": null,
   "id": "7804005e",
   "metadata": {},
   "outputs": [],
   "source": [
    "kpop = pd.read_csv('sources/professionisti/kpopfandom-idols.csv')\n",
    "kpop.head()"
   ]
  },
  {
   "cell_type": "code",
   "execution_count": null,
   "id": "fbdd39b6",
   "metadata": {},
   "outputs": [],
   "source": [
    "kpop.info()"
   ]
  },
  {
   "cell_type": "code",
   "execution_count": null,
   "id": "0799460a",
   "metadata": {},
   "outputs": [],
   "source": [
    "toDrop = [\"active_years\",\"agency_links\",\"agency_names\",\"association_links\",\"association_names\",\"birth_name\",\"birth_place\",\"bloodtype\",\"family\",\"family_links\",\"fandom\",\"fandom_colors\",\"group_debut\",\"height\",\"instruments\",\"legal_name\",\"link\",\"partner_links\",\"partners\",\"solo_debut\",\"weight\"  ]\n",
    "kpop = kpop.drop(toDrop, axis=1)\n",
    "kpop.head()\n"
   ]
  },
  {
   "cell_type": "code",
   "execution_count": null,
   "id": "09c606f8",
   "metadata": {},
   "outputs": [],
   "source": [
    "kpop.rename(columns={'occupation':'specialization'}, inplace=True)\n",
    "kpop.rename(columns={'socials':'website'}, inplace=True)\n",
    "kpop.head()"
   ]
  },
  {
   "cell_type": "markdown",
   "id": "b3301400",
   "metadata": {},
   "source": [
    "## Nasti Professionisti"
   ]
  },
  {
   "cell_type": "code",
   "execution_count": null,
   "id": "1d736c8f",
   "metadata": {},
   "outputs": [],
   "source": [
    "nastiProfessionist = pd.read_csv('sources/professionisti/nastipreofessional-peapleforhour.csv')\n",
    "nastiProfessionist.head()"
   ]
  },
  {
   "cell_type": "code",
   "execution_count": null,
   "id": "92423074",
   "metadata": {},
   "outputs": [],
   "source": [
    "toDrop = [\"id\", \"total_reviews\", \"bio\", \"stats\", \"industry_expertise\"]\n",
    "nastiProfessionist = nastiProfessionist.drop(toDrop, axis=1)\n",
    "nastiProfessionist.head()"
   ]
  },
  {
   "cell_type": "code",
   "execution_count": null,
   "id": "b7568223",
   "metadata": {},
   "outputs": [],
   "source": [
    "nastiProfessionist.rename(columns={'languages':'spokenLanguages'}, inplace=True)\n",
    "nastiProfessionist.rename(columns={'skills':'specialization'}, inplace=True)\n",
    "nastiProfessionist.rename(columns={'cost':'price'}, inplace=True)"
   ]
  },
  {
   "cell_type": "code",
   "execution_count": null,
   "id": "c7b65688",
   "metadata": {},
   "outputs": [],
   "source": [
    "nastiProfessionist.head()"
   ]
  },
  {
   "cell_type": "code",
   "execution_count": null,
   "id": "fe2e998d",
   "metadata": {},
   "outputs": [],
   "source": [
    "nastiProfessionist['spokenLanguages'] = nastiProfessionist['spokenLanguages'].str.replace('\\n', ' ')\n",
    "nastiProfessionist['price'] = nastiProfessionist['price'].str.replace(r'[^\\d]+', '')\n",
    "nastiProfessionist.specialization = nastiProfessionist.specialization.str.split('\\n').str[0]\n",
    "nastiProfessionist.tail(100)"
   ]
  },
  {
   "cell_type": "markdown",
   "id": "2a05c762",
   "metadata": {},
   "source": [
    "## Nasti Guru"
   ]
  },
  {
   "cell_type": "code",
   "execution_count": null,
   "id": "9d523d1b",
   "metadata": {},
   "outputs": [],
   "source": [
    "nastiguru = pd.read_json(path_or_buf='sources/professionisti/nastiprofessionals_guru.jsonl', lines=True)\n",
    "nastiguru.head()\n",
    "toDrop = [\"id\",\"feedback\",\"bio\",\"works_terms\", \"location\", \"stats\"]\n",
    "nastiguru= nastiguru.drop(toDrop, axis=1)\n",
    "nastiguru.rename(columns={'skills':'specialization'}, inplace=True)\n",
    "nastiguru.head(20)"
   ]
  },
  {
   "cell_type": "markdown",
   "id": "262f3f3f",
   "metadata": {},
   "source": [
    "#### Il dataset risulta incompatibile perche' mischia sia i professionisti sia le aziende, di conseguenza il dominio non risulta correttamente distinguibile e integrabile"
   ]
  },
  {
   "cell_type": "markdown",
   "id": "de89ebd6",
   "metadata": {},
   "source": [
    "## Phase 2: Dataset Concatenation"
   ]
  },
  {
   "cell_type": "code",
   "execution_count": null,
   "id": "ab434f16",
   "metadata": {},
   "outputs": [],
   "source": [
    "dataset = [dottori, avvocati, kpop, kpopping, freel, hpmedici, hpdottori, mmsAtlanta, mmsAtlantaDoc, investing, finance, developer, freelancer, andreolidoc, andreoliprof, romatre, bocconi, nastiProfessionist]\n",
    "\n",
    "for d in dataset:\n",
    "    d.info()"
   ]
  },
  {
   "cell_type": "code",
   "execution_count": null,
   "id": "e945d0de",
   "metadata": {},
   "outputs": [],
   "source": [
    "result = pd.concat([dottori, avvocati, kpop, kpopping, freel, hpmedici, hpdottori, mmsAtlanta, mmsAtlantaDoc, investing, finance, developer, freelancer, andreolidoc, andreoliprof, romatre, bocconi, nastiProfessionist])\n"
   ]
  },
  {
   "cell_type": "code",
   "execution_count": null,
   "id": "a35a5056",
   "metadata": {},
   "outputs": [],
   "source": [
    "result['name'].fillna(np.nan, inplace=True)\n",
    "result['yearsOfExperience'].fillna(np.nan, inplace=True)\n",
    "result['specialization'].fillna(np.nan, inplace=True)\n",
    "result['website'].fillna(np.nan, inplace=True)\n",
    "result['address'].fillna(np.nan, inplace=True)\n",
    "result['gender'].fillna(np.nan, inplace=True)\n",
    "result['spokenLanguages'].fillna(np.nan, inplace=True)\n",
    "result['rating'].fillna(np.nan, inplace=True)\n",
    "result['price'].fillna(np.nan, inplace=True)\n",
    "result['telephone'].fillna(np.nan, inplace=True)\n",
    "result['email'].fillna(np.nan, inplace=True)"
   ]
  },
  {
   "cell_type": "code",
   "execution_count": null,
   "id": "308167dc",
   "metadata": {},
   "outputs": [],
   "source": [
    "for columns in result.columns:\n",
    "    result[columns] = result[columns].str.upper() \n",
    "result.head(100)"
   ]
  },
  {
   "cell_type": "code",
   "execution_count": null,
   "id": "06f35418",
   "metadata": {},
   "outputs": [],
   "source": [
    "result.to_csv(\"alignedSchemas/professionistiAligned.csv\")"
   ]
  },
  {
   "cell_type": "code",
   "execution_count": null,
   "id": "56052ef7",
   "metadata": {},
   "outputs": [],
   "source": [
    "from pandas_profiling import ProfileReport \n",
    "profile=ProfileReport(result)\n",
    "profile.to_notebook_iframe()"
   ]
  }
 ],
 "metadata": {
  "kernelspec": {
   "display_name": "Python 3",
   "language": "python",
   "name": "python3"
  },
  "language_info": {
   "codemirror_mode": {
    "name": "ipython",
    "version": 3
   },
   "file_extension": ".py",
   "mimetype": "text/x-python",
   "name": "python",
   "nbconvert_exporter": "python",
   "pygments_lexer": "ipython3",
   "version": "3.8.8"
  }
 },
 "nbformat": 4,
 "nbformat_minor": 5
}
