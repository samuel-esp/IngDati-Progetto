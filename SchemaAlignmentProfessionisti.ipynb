{
 "cells": [
  {
   "cell_type": "markdown",
   "id": "7b947117",
   "metadata": {},
   "source": [
    "# Schema Alignment"
   ]
  },
  {
   "cell_type": "code",
   "execution_count": null,
   "id": "853e0915",
   "metadata": {},
   "outputs": [],
   "source": [
    "!pip install pandas -q\n",
    "!pip install pandas-profiling -q\n",
    "!pip install numpy -q"
   ]
  },
  {
   "cell_type": "markdown",
   "id": "cff6d71c",
   "metadata": {},
   "source": [
    "#### Funzioni Manipolazione"
   ]
  },
  {
   "cell_type": "code",
   "execution_count": null,
   "id": "0e662cb0",
   "metadata": {},
   "outputs": [],
   "source": [
    "def gender(gender):\n",
    "    if (gender=='Male'):\n",
    "        return 'M'\n",
    "    elif (gender=='Female'):\n",
    "        return 'F'"
   ]
  },
  {
   "cell_type": "code",
   "execution_count": null,
   "id": "b4147a7b",
   "metadata": {},
   "outputs": [],
   "source": [
    "def extract(row):\n",
    "    return ', '.join(map(str, row))"
   ]
  },
  {
   "cell_type": "markdown",
   "id": "82ce9c80",
   "metadata": {},
   "source": [
    "### Querynator Zocdoc"
   ]
  },
  {
   "cell_type": "code",
   "execution_count": null,
   "id": "2926ae36",
   "metadata": {},
   "outputs": [],
   "source": [
    "import json\n",
    "import pandas as pd\n",
    "import numpy as np\n",
    "\n",
    "openfile=open('sources/professionisti/doctors.json')\n",
    "jsondata=json.load(openfile)\n",
    "dottori=pd.DataFrame(jsondata)\n",
    "\n",
    "openfile.close()\n",
    "\n",
    "dottori.head(50)"
   ]
  },
  {
   "cell_type": "code",
   "execution_count": null,
   "id": "1715ae94",
   "metadata": {},
   "outputs": [],
   "source": [
    "#dottori['specialization'] = dottori['specialization'].astype('string')\n",
    "#dottori['spokenLanguages'] = dottori['spokenLanguages'].astype('string')"
   ]
  },
  {
   "cell_type": "code",
   "execution_count": null,
   "id": "6f1351f1",
   "metadata": {},
   "outputs": [],
   "source": [
    "toDrop = [\"id\", \"npinumber\"]\n",
    "dottori = dottori.drop(toDrop, axis=1)\n",
    "dottori['specialization'] = dottori['specialization'].replace(r',', '')\n",
    "dottori['spokenLanguages'] = dottori['spokenLanguages'].replace(r',', '')\n",
    "dottori['spokenLanguages']= dottori.apply(lambda x: extract(x['spokenLanguages']), axis=1)\n",
    "dottori['specialization']= dottori.apply(lambda x: extract(x['specialization']), axis=1)\n",
    "dottori.head()"
   ]
  },
  {
   "cell_type": "markdown",
   "id": "dfac50cc",
   "metadata": {},
   "source": [
    "### Querynator Justia"
   ]
  },
  {
   "cell_type": "code",
   "execution_count": null,
   "id": "dcf2c939",
   "metadata": {},
   "outputs": [],
   "source": [
    "import json\n",
    "import pandas as pd\n",
    "\n",
    "openfile=open('sources/professionisti/querynator-justia.com-1.json')\n",
    "jsondata=json.load(openfile)\n",
    "avvocati=pd.DataFrame(jsondata)\n",
    "\n",
    "openfile.close()\n",
    "\n",
    "avvocati.head(50)"
   ]
  },
  {
   "cell_type": "code",
   "execution_count": null,
   "id": "1f709fe0",
   "metadata": {},
   "outputs": [],
   "source": [
    "toDrop = [\"statesOfAbilitation\", \"id\", \"lawyerOfficeSet\"]\n",
    "avvocati = avvocati.drop(toDrop, axis=1)\n",
    "avvocati['specialization']= avvocati.apply(lambda x: extract(x['specialization']), axis=1)\n",
    "avvocati.head()"
   ]
  },
  {
   "cell_type": "markdown",
   "id": "dead813b",
   "metadata": {},
   "source": [
    "### Zero8 Freelancer"
   ]
  },
  {
   "cell_type": "code",
   "execution_count": null,
   "id": "14285110",
   "metadata": {},
   "outputs": [],
   "source": [
    "import json\n",
    "import pandas as pd\n",
    "\n",
    "openfile=open('sources/professionisti/Zero8-freelancer.com-v1.json')\n",
    "jsondata=json.load(openfile)\n",
    "freel=pd.DataFrame(jsondata)\n",
    "\n",
    "openfile.close()\n",
    "\n",
    "freel.head(50)"
   ]
  },
  {
   "cell_type": "code",
   "execution_count": null,
   "id": "777f042e",
   "metadata": {},
   "outputs": [],
   "source": [
    "toDrop = [\"oneliner\", \"description\", \"user_certifications\", \"member_since\", \"on_budget_completed_rate\", \"on_time_rate\", \"repeat_hire_rate\", \"jobs_completed_rate\"]\n",
    "freel = freel.drop(toDrop, axis=1)\n",
    "freel.head()\n"
   ]
  },
  {
   "cell_type": "code",
   "execution_count": null,
   "id": "3f4a9610",
   "metadata": {},
   "outputs": [],
   "source": [
    "freel.rename(columns={'username':'name'}, inplace=True)\n",
    "freel.rename(columns={'location':'address'}, inplace=True)\n",
    "freel.rename(columns={'user_skills':'specialization'}, inplace=True)\n",
    "freel.rename(columns={'price_per_hour':'price'}, inplace=True)\n",
    "freel['price'] = freel['price'].str.replace(r'[^\\d]+', '')\n",
    "freel['price'] = freel['price'].replace('', pd.NA)\n",
    "freel.head()"
   ]
  },
  {
   "cell_type": "markdown",
   "id": "f51bc575",
   "metadata": {},
   "source": [
    "### HirsutePippo Medici"
   ]
  },
  {
   "cell_type": "code",
   "execution_count": null,
   "id": "7fc6f7a2",
   "metadata": {},
   "outputs": [],
   "source": [
    "hpmedici = pd.read_csv('sources/professionisti/hpmedici.csv')\n",
    "hpmedici.head()"
   ]
  },
  {
   "cell_type": "code",
   "execution_count": null,
   "id": "ded1754f",
   "metadata": {},
   "outputs": [],
   "source": [
    "toDrop = [\"Affiliations\", \"Age Groups Seen\", \"Education\"]\n",
    "hpmedici = hpmedici.drop(toDrop, axis=1)\n",
    "hpmedici.head()"
   ]
  },
  {
   "cell_type": "code",
   "execution_count": null,
   "id": "352c40a7",
   "metadata": {},
   "outputs": [],
   "source": [
    "hpmedici.rename(columns={'Name':'name'}, inplace=True)\n",
    "hpmedici.rename(columns={'Specialties':'specialization'}, inplace=True)\n",
    "hpmedici.rename(columns={'Language':'spokenLanguages'}, inplace=True)\n",
    "hpmedici.rename(columns={'Rating':'rating'}, inplace=True)\n",
    "hpmedici.rename(columns={'Years In Practice':'yearsOfExperience'}, inplace=True)\n",
    "hpmedici.rename(columns={'Provider Gender':'gender'}, inplace=True)\n",
    "hpmedici['rating'] = hpmedici['rating'].str[0:3]\n",
    "hpmedici['gender']= hpmedici.apply(lambda x: gender(x['gender']), axis=1)\n",
    "hpmedici.head()"
   ]
  },
  {
   "cell_type": "markdown",
   "id": "c0937c37",
   "metadata": {},
   "source": [
    "### HirsutePippo Dottori"
   ]
  },
  {
   "cell_type": "code",
   "execution_count": null,
   "id": "26b40573",
   "metadata": {},
   "outputs": [],
   "source": [
    "hpdottori = pd.read_csv('sources/professionisti/hpdottori.csv')\n",
    "hpdottori.head()"
   ]
  },
  {
   "cell_type": "code",
   "execution_count": null,
   "id": "ea4428b2",
   "metadata": {},
   "outputs": [],
   "source": [
    "toDrop = [\"Subspecializations\", \"Hospital\", \"City\"]\n",
    "hpdottori = hpdottori.drop(toDrop, axis=1)\n",
    "hpdottori.head()"
   ]
  },
  {
   "cell_type": "code",
   "execution_count": null,
   "id": "3c36cc7f",
   "metadata": {},
   "outputs": [],
   "source": [
    "hpdottori.rename(columns={'Name':'name'}, inplace=True)\n",
    "hpdottori.rename(columns={'Specialization':'specialization'}, inplace=True)\n",
    "hpdottori.rename(columns={'Languages':'spokenLanguages'}, inplace=True)\n",
    "hpdottori.rename(columns={'Rating':'rating'}, inplace=True)\n",
    "hpdottori.rename(columns={'Years of Experience':'yearsOfExperience'}, inplace=True)\n",
    "hpdottori.rename(columns={'Gender':'gender'}, inplace=True)\n",
    "hpdottori.rename(columns={'Address':'address'}, inplace=True)\n",
    "hpdottori.rename(columns={'Tel.':'telephone'}, inplace=True)\n",
    "hpdottori['yearsOfExperience'] = hpdottori['yearsOfExperience'].str[0:1]\n",
    "hpdottori['gender']= hpdottori.apply(lambda x: gender(x['gender']), axis=1)\n",
    "hpdottori.head()"
   ]
  },
  {
   "cell_type": "markdown",
   "id": "95dfc796",
   "metadata": {},
   "source": [
    "### MMS Atlanta Magazine"
   ]
  },
  {
   "cell_type": "code",
   "execution_count": null,
   "id": "c2ed9cb6",
   "metadata": {},
   "outputs": [],
   "source": [
    "path = 'sources/professionisti/mmsAtlanta.csv'\n",
    "\n",
    "with open(path, 'r', encoding='utf-8') as f:\n",
    "    mmsAtlanta = pd.read_csv(path, sep=';', engine='python',index_col = False).dropna(how='all', axis=1)\n",
    "mmsAtlanta.head(10)"
   ]
  },
  {
   "cell_type": "code",
   "execution_count": null,
   "id": "241c5141",
   "metadata": {},
   "outputs": [],
   "source": [
    "toDrop = [\"hospital\", \"hospital_affiliations\", \"doc_special_expertise\"]\n",
    "mmsAtlanta = mmsAtlanta.drop(toDrop, axis=1)\n",
    "mmsAtlanta.head()"
   ]
  },
  {
   "cell_type": "code",
   "execution_count": null,
   "id": "dec1891d",
   "metadata": {},
   "outputs": [],
   "source": [
    "mmsAtlanta.rename(columns={'medical_specialty':'specialization'}, inplace=True)\n",
    "mmsAtlanta.rename(columns={'doc_name':'name'}, inplace=True)\n",
    "mmsAtlanta.rename(columns={'hospital_address':'address'}, inplace=True)\n",
    "mmsAtlanta.rename(columns={'hospital_telephone':'telephone'}, inplace=True)\n",
    "mmsAtlanta.head()"
   ]
  },
  {
   "cell_type": "markdown",
   "id": "f7947d09",
   "metadata": {},
   "source": [
    "### MMS Atlanta Doctor"
   ]
  },
  {
   "cell_type": "code",
   "execution_count": null,
   "id": "cde434ee",
   "metadata": {},
   "outputs": [],
   "source": [
    "path = 'sources/professionisti/mmsAtlantaDoctors.csv'\n",
    "\n",
    "with open(path, 'r', encoding='utf-8') as f:\n",
    "    mmsAtlantaDoc = pd.read_csv(path, sep=';', engine='python',index_col = False).dropna(how='all', axis=1)\n",
    "mmsAtlantaDoc.head(10)"
   ]
  },
  {
   "cell_type": "code",
   "execution_count": null,
   "id": "5f704bd7",
   "metadata": {},
   "outputs": [],
   "source": [
    "toDrop = [\"board_certifications\", \"hospital\", \"hospital_affiliations\", \"fellowships\", \"education_and_training_medical_school\", \"education_and_training_internship\", \"education_and_training_residency\"]\n",
    "mmsAtlantaDoc = mmsAtlantaDoc.drop(toDrop, axis=1)\n",
    "mmsAtlantaDoc.head()"
   ]
  },
  {
   "cell_type": "code",
   "execution_count": null,
   "id": "54896899",
   "metadata": {},
   "outputs": [],
   "source": [
    "mmsAtlantaDoc.rename(columns={'medical_specialty':'specialization'}, inplace=True)\n",
    "mmsAtlantaDoc.rename(columns={'doc_name':'name'}, inplace=True)\n",
    "mmsAtlantaDoc.rename(columns={'doc_gender':'gender'}, inplace=True)\n",
    "mmsAtlantaDoc.rename(columns={'doc_languages':'spokenLanguages'}, inplace=True)\n",
    "mmsAtlantaDoc.rename(columns={'hospital_telephone':'telephone'}, inplace=True)\n",
    "mmsAtlantaDoc['gender']= mmsAtlantaDoc.apply(lambda x: gender(x['gender']), axis=1)\n",
    "mmsAtlantaDoc.head()"
   ]
  },
  {
   "cell_type": "markdown",
   "id": "327c639c",
   "metadata": {},
   "source": [
    "### Scarano Investing"
   ]
  },
  {
   "cell_type": "code",
   "execution_count": null,
   "id": "e44da889",
   "metadata": {},
   "outputs": [],
   "source": [
    "investing = pd.read_csv('sources/professionisti/scaranoinvesting.csv')\n",
    "investing.head()"
   ]
  },
  {
   "cell_type": "code",
   "execution_count": null,
   "id": "6656a303",
   "metadata": {},
   "outputs": [],
   "source": [
    "toDrop = [\"Unnamed: 0\", \"Unnamed: 0.1\", \"company_ticker\", \"source\"]\n",
    "investing = investing.drop(toDrop, axis=1)\n",
    "investing.head()"
   ]
  },
  {
   "cell_type": "code",
   "execution_count": null,
   "id": "c1b4a657",
   "metadata": {},
   "outputs": [],
   "source": [
    "investing.rename(columns={'title':'specialization'}, inplace=True)\n",
    "investing.head()"
   ]
  },
  {
   "cell_type": "markdown",
   "id": "3d691842",
   "metadata": {},
   "source": [
    "### Scarano Finance"
   ]
  },
  {
   "cell_type": "code",
   "execution_count": null,
   "id": "bbced365",
   "metadata": {},
   "outputs": [],
   "source": [
    "finance = pd.read_csv('sources/professionisti/scaranofinance.csv')\n",
    "finance.head()"
   ]
  },
  {
   "cell_type": "code",
   "execution_count": null,
   "id": "29278d2c",
   "metadata": {},
   "outputs": [],
   "source": [
    "toDrop = [\"Unnamed: 0\", \"Unnamed: 0.1\", \"company_ticker\", \"source\"]\n",
    "finance = finance.drop(toDrop, axis=1)\n",
    "finance.head()"
   ]
  },
  {
   "cell_type": "code",
   "execution_count": null,
   "id": "5452c392",
   "metadata": {},
   "outputs": [],
   "source": [
    "finance.rename(columns={'title':'specialization'}, inplace=True)\n",
    "finance.head()"
   ]
  },
  {
   "cell_type": "markdown",
   "id": "e767db4c",
   "metadata": {},
   "source": [
    "### A&A Developer"
   ]
  },
  {
   "cell_type": "code",
   "execution_count": null,
   "id": "7fe8c989",
   "metadata": {},
   "outputs": [],
   "source": [
    "developer = pd.read_csv('sources/professionisti/developer.csv')\n",
    "developer.head()"
   ]
  },
  {
   "cell_type": "code",
   "execution_count": null,
   "id": "aead1445",
   "metadata": {},
   "outputs": [],
   "source": [
    "toDrop = [\"about\", \"availability\", \"reply rate\", \"age\", \"skills\"]\n",
    "developer = developer.drop(toDrop, axis=1)\n",
    "developer.head()"
   ]
  },
  {
   "cell_type": "code",
   "execution_count": null,
   "id": "13969080",
   "metadata": {},
   "outputs": [],
   "source": [
    "developer.rename(columns={'speciality':'specialization'}, inplace=True)\n",
    "developer.rename(columns={'languages':'spokenLanguages'}, inplace=True)\n",
    "developer.rename(columns={'pay rate':'price'}, inplace=True)\n",
    "developer.rename(columns={'location':'address'}, inplace=True)\n",
    "developer.rename(columns={'experience':'yearsOfExperience'}, inplace=True)\n",
    "developer['yearsOfExperience'] = developer['yearsOfExperience'].str.replace(r'[^\\d]+', '')\n",
    "developer['price'] = developer['price'].str.replace(r'[^\\d]+', '')\n",
    "developer.head()"
   ]
  },
  {
   "cell_type": "markdown",
   "id": "63221f97",
   "metadata": {},
   "source": [
    "### A&A Truelancer"
   ]
  },
  {
   "cell_type": "code",
   "execution_count": null,
   "id": "be2110b2",
   "metadata": {},
   "outputs": [],
   "source": [
    "freelancer = pd.read_csv('sources/professionisti/freelancer.csv')\n",
    "freelancer.head()"
   ]
  },
  {
   "cell_type": "code",
   "execution_count": null,
   "id": "ca0eb6c7",
   "metadata": {},
   "outputs": [],
   "source": [
    "toDrop = [\"experties\", \"aviability\", \"projects completed\", \"country\", \"feedbacks\", \"buyer worked with\", \"followers\", \"services delivered\", \"contest completed\", \"total earnings\", \"total refund\"]\n",
    "freelancer = freelancer.drop(toDrop, axis=1)\n",
    "freelancer.head()\n",
    "\n"
   ]
  },
  {
   "cell_type": "code",
   "execution_count": null,
   "id": "8ff53d40",
   "metadata": {},
   "outputs": [],
   "source": [
    "freelancer.rename(columns={'specialities':'specialization'}, inplace=True)\n",
    "freelancer.rename(columns={'payRate':'price'}, inplace=True)\n",
    "freelancer['price'] = freelancer['price'].str.replace(r'[^\\d]+', '')\n",
    "freelancer.head()"
   ]
  },
  {
   "cell_type": "markdown",
   "id": "f1dd71cf",
   "metadata": {},
   "source": [
    "### Andreoli Dottori "
   ]
  },
  {
   "cell_type": "code",
   "execution_count": null,
   "id": "79dce6a1",
   "metadata": {},
   "outputs": [],
   "source": [
    "andreolidoc = pd.read_csv('sources/professionisti/hw2_dottori.it.csv')\n",
    "andreolidoc.head()\n"
   ]
  },
  {
   "cell_type": "code",
   "execution_count": null,
   "id": "011a6cf2",
   "metadata": {},
   "outputs": [],
   "source": [
    "toDrop = [\"idx_doc\", \"url\", \"photo\", \"curr\", \"tariffe\", \"sedi\"]\n",
    "andreolidoc = andreolidoc.drop(toDrop, axis=1)\n",
    "andreolidoc.head()\n",
    "\n",
    "\n"
   ]
  },
  {
   "cell_type": "code",
   "execution_count": null,
   "id": "85fb4ecb",
   "metadata": {},
   "outputs": [],
   "source": [
    "andreolidoc.rename(columns={'nome_doc':'name'}, inplace=True)\n",
    "andreolidoc.rename(columns={'tel':'telephone'}, inplace=True)\n",
    "andreolidoc.rename(columns={'patologie':'specialization'}, inplace=True)\n",
    "andreolidoc.head()"
   ]
  },
  {
   "cell_type": "markdown",
   "id": "5111e583",
   "metadata": {},
   "source": [
    "### Andreoli ProntoProfessionisti "
   ]
  },
  {
   "cell_type": "code",
   "execution_count": null,
   "id": "29b1b244",
   "metadata": {},
   "outputs": [],
   "source": [
    "andreoliprof = pd.read_csv('sources/professionisti/hw2_prontoprofessionista.it.csv')\n",
    "andreoliprof.head()\n"
   ]
  },
  {
   "cell_type": "code",
   "execution_count": null,
   "id": "bb0a87cc",
   "metadata": {},
   "outputs": [],
   "source": [
    "toDrop = [\"idx_prof\", \"url\", \"cap\", \"photo\", \"profilo\", \"servizi\", \"iscrizione\"]\n",
    "andreoliprof = andreoliprof.drop(toDrop, axis=1)\n",
    "andreoliprof.head()"
   ]
  },
  {
   "cell_type": "code",
   "execution_count": null,
   "id": "4fedeac0",
   "metadata": {},
   "outputs": [],
   "source": [
    "andreoliprof.rename(columns={'nome_prof':'name'}, inplace=True)\n",
    "andreoliprof.rename(columns={'tel':'telephone'}, inplace=True)\n",
    "andreoliprof.rename(columns={'attivita':'specialization'}, inplace=True)\n",
    "andreoliprof.head()"
   ]
  },
  {
   "cell_type": "markdown",
   "id": "a120d27b",
   "metadata": {},
   "source": [
    "### PolloEPatatine RomaTre"
   ]
  },
  {
   "cell_type": "code",
   "execution_count": null,
   "id": "dadc2895",
   "metadata": {},
   "outputs": [],
   "source": [
    "romatre = pd.read_csv('sources/professionisti/dettagliDocentiR3.csv')\n",
    "romatre.head()"
   ]
  },
  {
   "cell_type": "code",
   "execution_count": null,
   "id": "c70f7b0b",
   "metadata": {},
   "outputs": [],
   "source": [
    "toDrop = [\"dipartimento\", \"corsi\"]\n",
    "romatre = romatre.drop(toDrop, axis=1)\n",
    "romatre.head()"
   ]
  },
  {
   "cell_type": "code",
   "execution_count": null,
   "id": "b232a8a4",
   "metadata": {},
   "outputs": [],
   "source": [
    "romatre.rename(columns={'nome':'name'}, inplace=True)\n",
    "romatre.rename(columns={'qualifica':'specialization'}, inplace=True)\n",
    "romatre.head()"
   ]
  },
  {
   "cell_type": "markdown",
   "id": "d26e5284",
   "metadata": {},
   "source": [
    "### PolloEPatatine Bocconi"
   ]
  },
  {
   "cell_type": "code",
   "execution_count": null,
   "id": "1af083a1",
   "metadata": {},
   "outputs": [],
   "source": [
    "bocconi = pd.read_csv('sources/professionisti/dettagliDocentiBocconi.csv')\n",
    "bocconi.head()"
   ]
  },
  {
   "cell_type": "code",
   "execution_count": null,
   "id": "b016627b",
   "metadata": {},
   "outputs": [],
   "source": [
    "toDrop = [\"dipartimento\", \"corsi\"]\n",
    "bocconi = bocconi.drop(toDrop, axis=1)\n",
    "bocconi.head()"
   ]
  },
  {
   "cell_type": "code",
   "execution_count": null,
   "id": "1691a610",
   "metadata": {},
   "outputs": [],
   "source": [
    "bocconi.rename(columns={'nome':'name'}, inplace=True)\n",
    "bocconi.rename(columns={'qualifica':'specialization'}, inplace=True)\n",
    "bocconi.head()"
   ]
  },
  {
   "cell_type": "markdown",
   "id": "dc43cd09",
   "metadata": {},
   "source": [
    "### CrispyMcData KPopping"
   ]
  },
  {
   "cell_type": "code",
   "execution_count": null,
   "id": "cc0ce1c2",
   "metadata": {},
   "outputs": [],
   "source": [
    "kpopping = pd.read_csv('sources/professionisti/kpopping-idols.csv')\n",
    "kpopping.head()"
   ]
  },
  {
   "cell_type": "code",
   "execution_count": null,
   "id": "009069f9",
   "metadata": {},
   "outputs": [],
   "source": [
    "toDrop = [\"company_names\", \"company_periods\", \"debut\", \"debut_to_1st_win\", \"education\", \"fandom\", \"former_group_links\", \"former_group_names\", \"fun_facts\", \"former_group_periods\", \"height\", \"introduction\", \"hometown\", \"korean_stage_name\", \"native_name\", \"active_group_links\", \"active_group_names\", \"active_group_periods\",\"active_years\",\"age\",\"albums\", \"awards\", \"birthday\", \"bloodtype\", \"company_links\", \"kpopping_rank\", \"personality_type\", \"profile_link\", \"stage_name\", \"training_period\", \"weight\", \"zodiac_sign\"]\n",
    "kpopping = kpopping.drop(toDrop, axis=1)\n",
    "kpopping.head()"
   ]
  },
  {
   "cell_type": "code",
   "execution_count": null,
   "id": "793ea1c6",
   "metadata": {},
   "outputs": [],
   "source": [
    "kpopping.rename(columns={'full_name':'name'}, inplace=True)\n",
    "kpopping.rename(columns={'languages':'spokenLanguages'}, inplace=True)\n",
    "kpopping.rename(columns={'socials':'website'}, inplace=True)\n",
    "kpopping.rename(columns={'country':'address'}, inplace=True)\n",
    "kpopping.head()"
   ]
  },
  {
   "cell_type": "markdown",
   "id": "453f286b",
   "metadata": {},
   "source": [
    "### CrispyMcData KPop"
   ]
  },
  {
   "cell_type": "code",
   "execution_count": null,
   "id": "85d8726b",
   "metadata": {},
   "outputs": [],
   "source": [
    "kpop = pd.read_csv('sources/professionisti/kpopfandom-idols.csv')\n",
    "kpop.head()"
   ]
  },
  {
   "cell_type": "code",
   "execution_count": null,
   "id": "89cae12d",
   "metadata": {},
   "outputs": [],
   "source": [
    "kpop.info()"
   ]
  },
  {
   "cell_type": "code",
   "execution_count": null,
   "id": "7a4d4c9e",
   "metadata": {},
   "outputs": [],
   "source": [
    "toDrop = [\"active_years\",\"agency_links\",\"agency_names\",\"association_links\",\"association_names\",\"birth_name\",\"birth_place\",\"bloodtype\",\"family\",\"family_links\",\"fandom\",\"fandom_colors\",\"group_debut\",\"height\",\"instruments\",\"legal_name\",\"link\",\"partner_links\",\"partners\",\"solo_debut\",\"weight\"  ]\n",
    "kpop = kpop.drop(toDrop, axis=1)\n",
    "kpop.head()\n"
   ]
  },
  {
   "cell_type": "code",
   "execution_count": null,
   "id": "44418259",
   "metadata": {},
   "outputs": [],
   "source": [
    "kpop.rename(columns={'occupation':'specialization'}, inplace=True)\n",
    "kpop.rename(columns={'socials':'website'}, inplace=True)\n",
    "kpop.head()"
   ]
  },
  {
   "cell_type": "markdown",
   "id": "39e8cbd2",
   "metadata": {},
   "source": [
    "## Nasti Guru"
   ]
  },
  {
   "cell_type": "code",
   "execution_count": null,
   "id": "5de60a87",
   "metadata": {},
   "outputs": [],
   "source": [
    "nastiguru = pd.read_json(path_or_buf='sources/professionisti/nastiprofessionals_guru.jsonl', lines=True)\n",
    "nastiguru.head()\n",
    "toDrop = [\"id\",\"feedback\",\"bio\",\"works_terms\", \"location\", \"stats\"]\n",
    "nastiguru= nastiguru.drop(toDrop, axis=1)\n",
    "nastiguru.head()\n",
    "nastiguru.rename(columns={'skills':'specialization'}, inplace=True)\n",
    "nastiguru.head()"
   ]
  },
  {
   "cell_type": "markdown",
   "id": "ea452956",
   "metadata": {},
   "source": [
    "#### Il datset mischia professionisti e compagnie, di conseguenza non e' possibile integrarlo perche' il dominio non e' verticale"
   ]
  },
  {
   "cell_type": "markdown",
   "id": "22b22636",
   "metadata": {},
   "source": [
    "## Phase 2: Dataset Concatenation"
   ]
  },
  {
   "cell_type": "code",
   "execution_count": null,
   "id": "039a08bb",
   "metadata": {},
   "outputs": [],
   "source": [
    "dataset = [dottori, avvocati, kpop, kpopping, freel, hpmedici, hpdottori, mmsAtlanta, mmsAtlantaDoc, investing, finance, developer, freelancer, andreolidoc, andreoliprof, romatre, bocconi]\n",
    "\n",
    "for d in dataset:\n",
    "    d.info()"
   ]
  },
  {
   "cell_type": "code",
   "execution_count": null,
   "id": "6f9a4a0f",
   "metadata": {},
   "outputs": [],
   "source": [
    "result = pd.concat([dottori, avvocati, kpop, kpopping, freel, hpmedici, hpdottori, mmsAtlanta, mmsAtlantaDoc, investing, finance, developer, freelancer, andreolidoc, andreoliprof, romatre, bocconi])\n"
   ]
  },
  {
   "cell_type": "code",
   "execution_count": null,
   "id": "cf78fb9d",
   "metadata": {},
   "outputs": [],
   "source": [
    "result['name'].fillna(np.nan, inplace=True)\n",
    "result['yearsOfExperience'].fillna(np.nan, inplace=True)\n",
    "result['specialization'].fillna(np.nan, inplace=True)\n",
    "result['website'].fillna(np.nan, inplace=True)\n",
    "result['address'].fillna(np.nan, inplace=True)\n",
    "result['gender'].fillna(np.nan, inplace=True)\n",
    "result['spokenLanguages'].fillna(np.nan, inplace=True)\n",
    "result['rating'].fillna(np.nan, inplace=True)\n",
    "result['price'].fillna(np.nan, inplace=True)\n",
    "result['telephone'].fillna(np.nan, inplace=True)\n",
    "result['email'].fillna(np.nan, inplace=True)"
   ]
  },
  {
   "cell_type": "code",
   "execution_count": null,
   "id": "cb14d80a",
   "metadata": {},
   "outputs": [],
   "source": [
    "for columns in result.columns:\n",
    "    result[columns] = result[columns].str.upper() \n",
    "result.head(100)"
   ]
  },
  {
   "cell_type": "code",
   "execution_count": null,
   "id": "1629a066",
   "metadata": {},
   "outputs": [],
   "source": [
    "result.to_csv(\"alignedSchemas/professionistiAligned.csv\")"
   ]
  },
  {
   "cell_type": "code",
   "execution_count": null,
   "id": "b7ee5abe",
   "metadata": {},
   "outputs": [],
   "source": [
    "from pandas_profiling import ProfileReport \n",
    "#profile=ProfileReport(result)\n",
    "#profile.to_notebook_iframe()"
   ]
  },
  {
   "cell_type": "code",
   "execution_count": null,
   "id": "52e4a060",
   "metadata": {},
   "outputs": [],
   "source": []
  }
 ],
 "metadata": {
  "kernelspec": {
   "display_name": "Python 3",
   "language": "python",
   "name": "python3"
  },
  "language_info": {
   "codemirror_mode": {
    "name": "ipython",
    "version": 3
   },
   "file_extension": ".py",
   "mimetype": "text/x-python",
   "name": "python",
   "nbconvert_exporter": "python",
   "pygments_lexer": "ipython3",
   "version": "3.8.8"
  }
 },
 "nbformat": 4,
 "nbformat_minor": 5
}
